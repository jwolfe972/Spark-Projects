{
 "cells": [
  {
   "cell_type": "code",
   "id": "initial_id",
   "metadata": {
    "collapsed": true,
    "ExecuteTime": {
     "end_time": "2025-05-11T22:35:49.751406Z",
     "start_time": "2025-05-11T22:35:49.727030Z"
    }
   },
   "source": [
    "from pyspark.sql import SparkSession\n",
    "from ucimlrepo import fetch_ucirepo\n",
    "from pyspark.sql import functions as F\n",
    "from pyspark.sql import Window\n",
    "import matplotlib.pyplot as plt\n",
    "import seaborn as sns\n",
    "import os\n",
    "print(f'{os.getcwd()}')\n",
    "import pandas as pd"
   ],
   "outputs": [
    {
     "name": "stdout",
     "output_type": "stream",
     "text": [
      "/home/jdwolfe/Spark-Projects/spark-learning-notebooks\n"
     ]
    }
   ],
   "execution_count": 46
  },
  {
   "metadata": {},
   "cell_type": "markdown",
   "source": "# We will find the pitcher's who gave given up the most amount of one inning cycles",
   "id": "3bc5ea8d33338663"
  },
  {
   "metadata": {
    "ExecuteTime": {
     "end_time": "2025-05-11T18:38:06.584363Z",
     "start_time": "2025-05-11T18:37:51.684754Z"
    }
   },
   "cell_type": "code",
   "source": [
    "spark = SparkSession.builder.appName(\"Jupyter\").getOrCreate()\n",
    "\n",
    "spark"
   ],
   "id": "61693490be9dade8",
   "outputs": [
    {
     "name": "stderr",
     "output_type": "stream",
     "text": [
      "25/05/11 13:37:57 WARN Utils: Your hostname, JordansGaming resolves to a loopback address: 127.0.1.1; using 10.255.255.254 instead (on interface lo)\n",
      "25/05/11 13:37:57 WARN Utils: Set SPARK_LOCAL_IP if you need to bind to another address\n",
      "Setting default log level to \"WARN\".\n",
      "To adjust logging level use sc.setLogLevel(newLevel). For SparkR, use setLogLevel(newLevel).\n",
      "25/05/11 13:37:59 WARN NativeCodeLoader: Unable to load native-hadoop library for your platform... using builtin-java classes where applicable\n"
     ]
    },
    {
     "data": {
      "text/plain": [
       "<pyspark.sql.session.SparkSession at 0x7f4939ee8d60>"
      ],
      "text/html": [
       "\n",
       "            <div>\n",
       "                <p><b>SparkSession - in-memory</b></p>\n",
       "                \n",
       "        <div>\n",
       "            <p><b>SparkContext</b></p>\n",
       "\n",
       "            <p><a href=\"http://10.255.255.254:4040\">Spark UI</a></p>\n",
       "\n",
       "            <dl>\n",
       "              <dt>Version</dt>\n",
       "                <dd><code>v3.5.5</code></dd>\n",
       "              <dt>Master</dt>\n",
       "                <dd><code>local[*]</code></dd>\n",
       "              <dt>AppName</dt>\n",
       "                <dd><code>Jupyter</code></dd>\n",
       "            </dl>\n",
       "        </div>\n",
       "        \n",
       "            </div>\n",
       "        "
      ]
     },
     "execution_count": 2,
     "metadata": {},
     "output_type": "execute_result"
    }
   ],
   "execution_count": 2
  },
  {
   "metadata": {
    "ExecuteTime": {
     "end_time": "2025-05-11T22:14:44.907849Z",
     "start_time": "2025-05-11T22:14:10.158163Z"
    }
   },
   "cell_type": "code",
   "source": [
    "csv_headers = [\n",
    "    \"game id\", \"visiting team\", \"inning\", \"batting team\", \"outs\", \"balls\", \"strikes\",\n",
    "    \"pitch sequence\", \"vis score\", \"home score\", \"batter\", \"batter hand\", \"res batter\",\n",
    "    \"res batter hand\", \"pitcher\", \"pitcher hand\", \"res pitcher\", \"res pitcher hand\",\n",
    "    \"catcher\", \"first base\", \"second base\", \"third base\", \"shortstop\", \"left field\",\n",
    "    \"center field\", \"right field\", \"first runner\", \"second runner\", \"third runner\",\n",
    "    \"event text\", \"leadoff flag\", \"pinchhit flag\", \"defensive position\", \"lineup position\",\n",
    "    \"event type\", \"batter event flag\", \"ab flag\", \"hit value\", \"SH flag\", \"SF flag\",\n",
    "    \"outs on play\", \"double play flag\", \"triple play flag\", \"RBI on play\", \"wild pitch flag\",\n",
    "    \"passed ball flag\", \"fielded by\", \"batted ball type\", \"bunt flag\", \"foul flag\",\n",
    "    \"hit location\", \"num errors\", \"1st error player\", \"1st error type\", \"2nd error player\",\n",
    "    \"2nd error type\", \"3rd error player\", \"3rd error type\", \"batter dest\",\n",
    "    \"runner on 1st dest\", \"runner on 2nd dest\", \"runner on 3rd dest\", \"play on batter\",\n",
    "    \"play on runner on 1st\", \"play on runner on 2nd\", \"play on runner on 3rd\",\n",
    "    \"SB for runner on 1st flag\", \"SB for runner on 2nd flag\", \"SB for runner on 3rd flag\",\n",
    "    \"CS for runner on 1st flag\", \"CS for runner on 2nd flag\", \"CS for runner on 3rd flag\",\n",
    "    \"PO for runner on 1st flag\", \"PO for runner on 2nd flag\", \"PO for runner on 3rd flag\",\n",
    "    \"Responsible pitcher for runner on 1st\", \"Responsible pitcher for runner on 2nd\",\n",
    "    \"Responsible pitcher for runner on 3rd\", \"New Game Flag\", \"End Game Flag\",\n",
    "    \"Pinch-runner on 1st\", \"Pinch-runner on 2nd\", \"Pinch-runner on 3rd\",\n",
    "    \"Runner removed for pinch-runner on 1st\", \"Runner removed for pinch-runner on 2nd\",\n",
    "    \"Runner removed for pinch-runner on 3rd\", \"Batter removed for pinch-hitter\",\n",
    "    \"Position of batter removed for pinch-hitter\", \"Fielder with First Putout\",\n",
    "    \"Fielder with Second Putout\", \"Fielder with Third Putout\", \"Fielder with First Assist\",\n",
    "    \"Fielder with Second Assist\", \"Fielder with Third Assist\", \"Fielder with Fourth Assist\",\n",
    "    \"Fielder with Fifth Assist\", \"event num\"\n",
    "]\n",
    "\n",
    "full_df = None\n",
    "\n",
    "for file in os.listdir(f'{os.getcwd()}/data/mlb_data/decade_pbp_files'):\n",
    "    file_path = f'{os.getcwd()}/data/mlb_data/decade_pbp_files/{file}'\n",
    "    print(f'Processing {file_path}')\n",
    "    df = spark.read.csv(file_path, header=False, inferSchema=True).toDF(*csv_headers)\n",
    "\n",
    "    if full_df is None:\n",
    "        full_df = df\n",
    "    else:\n",
    "        full_df = full_df.unionByName(df)\n",
    "\n",
    "full_df.show()\n"
   ],
   "id": "c20501e429dd9611",
   "outputs": [
    {
     "name": "stdout",
     "output_type": "stream",
     "text": [
      "Processing /home/jdwolfe/Spark-Projects/spark-learning-notebooks/data/mlb_data/decade_pbp_files/full_1910s_pbp.csv\n"
     ]
    },
    {
     "name": "stderr",
     "output_type": "stream",
     "text": [
      "                                                                                \r"
     ]
    },
    {
     "name": "stdout",
     "output_type": "stream",
     "text": [
      "Processing /home/jdwolfe/Spark-Projects/spark-learning-notebooks/data/mlb_data/decade_pbp_files/full_1970s_pbp.csv\n"
     ]
    },
    {
     "name": "stderr",
     "output_type": "stream",
     "text": [
      "                                                                                \r"
     ]
    },
    {
     "name": "stdout",
     "output_type": "stream",
     "text": [
      "Processing /home/jdwolfe/Spark-Projects/spark-learning-notebooks/data/mlb_data/decade_pbp_files/full_1930s_pbp.csv\n"
     ]
    },
    {
     "name": "stderr",
     "output_type": "stream",
     "text": [
      "                                                                                \r"
     ]
    },
    {
     "name": "stdout",
     "output_type": "stream",
     "text": [
      "Processing /home/jdwolfe/Spark-Projects/spark-learning-notebooks/data/mlb_data/decade_pbp_files/full_2000s_pbp.csv\n"
     ]
    },
    {
     "name": "stderr",
     "output_type": "stream",
     "text": [
      "                                                                                \r"
     ]
    },
    {
     "name": "stdout",
     "output_type": "stream",
     "text": [
      "Processing /home/jdwolfe/Spark-Projects/spark-learning-notebooks/data/mlb_data/decade_pbp_files/full_1960s_pbp.csv\n"
     ]
    },
    {
     "name": "stderr",
     "output_type": "stream",
     "text": [
      "                                                                                \r"
     ]
    },
    {
     "name": "stdout",
     "output_type": "stream",
     "text": [
      "Processing /home/jdwolfe/Spark-Projects/spark-learning-notebooks/data/mlb_data/decade_pbp_files/full_1950s_pbp.csv\n"
     ]
    },
    {
     "name": "stderr",
     "output_type": "stream",
     "text": [
      "                                                                                \r"
     ]
    },
    {
     "name": "stdout",
     "output_type": "stream",
     "text": [
      "Processing /home/jdwolfe/Spark-Projects/spark-learning-notebooks/data/mlb_data/decade_pbp_files/full_1940s_pbp.csv\n"
     ]
    },
    {
     "name": "stderr",
     "output_type": "stream",
     "text": [
      "                                                                                \r"
     ]
    },
    {
     "name": "stdout",
     "output_type": "stream",
     "text": [
      "Processing /home/jdwolfe/Spark-Projects/spark-learning-notebooks/data/mlb_data/decade_pbp_files/full_1920s_pbp.csv\n"
     ]
    },
    {
     "name": "stderr",
     "output_type": "stream",
     "text": [
      "                                                                                \r"
     ]
    },
    {
     "name": "stdout",
     "output_type": "stream",
     "text": [
      "Processing /home/jdwolfe/Spark-Projects/spark-learning-notebooks/data/mlb_data/decade_pbp_files/full_1980s_pbp.csv\n"
     ]
    },
    {
     "name": "stderr",
     "output_type": "stream",
     "text": [
      "                                                                                \r"
     ]
    },
    {
     "name": "stdout",
     "output_type": "stream",
     "text": [
      "Processing /home/jdwolfe/Spark-Projects/spark-learning-notebooks/data/mlb_data/decade_pbp_files/full_1990s_pbp.csv\n"
     ]
    },
    {
     "name": "stderr",
     "output_type": "stream",
     "text": [
      "                                                                                \r"
     ]
    },
    {
     "name": "stdout",
     "output_type": "stream",
     "text": [
      "Processing /home/jdwolfe/Spark-Projects/spark-learning-notebooks/data/mlb_data/decade_pbp_files/full_2020s_pbp.csv\n"
     ]
    },
    {
     "name": "stderr",
     "output_type": "stream",
     "text": [
      "                                                                                \r"
     ]
    },
    {
     "name": "stdout",
     "output_type": "stream",
     "text": [
      "Processing /home/jdwolfe/Spark-Projects/spark-learning-notebooks/data/mlb_data/decade_pbp_files/full_2010s_pbp.csv\n"
     ]
    },
    {
     "name": "stderr",
     "output_type": "stream",
     "text": [
      "                                                                                \r"
     ]
    },
    {
     "name": "stdout",
     "output_type": "stream",
     "text": [
      "+------------+-------------+------+------------+----+-----+-------+--------------+---------+----------+--------+-----------+----------+---------------+--------+------------+-----------+----------------+--------+----------+-----------+----------+---------+----------+------------+-----------+------------+-------------+------------+---------------+------------+-------------+------------------+---------------+----------+-----------------+-------+---------+-------+-------+------------+----------------+----------------+-----------+---------------+----------------+----------+----------------+---------+---------+------------+----------+----------------+--------------+----------------+--------------+----------------+--------------+-----------+------------------+------------------+------------------+--------------+---------------------+---------------------+---------------------+-------------------------+-------------------------+-------------------------+-------------------------+-------------------------+-------------------------+-------------------------+-------------------------+-------------------------+-------------------------------------+-------------------------------------+-------------------------------------+-------------+-------------+-------------------+-------------------+-------------------+--------------------------------------+--------------------------------------+--------------------------------------+-------------------------------+-------------------------------------------+-------------------------+--------------------------+-------------------------+-------------------------+--------------------------+-------------------------+--------------------------+-------------------------+---------+\n",
      "|     game id|visiting team|inning|batting team|outs|balls|strikes|pitch sequence|vis score|home score|  batter|batter hand|res batter|res batter hand| pitcher|pitcher hand|res pitcher|res pitcher hand| catcher|first base|second base|third base|shortstop|left field|center field|right field|first runner|second runner|third runner|     event text|leadoff flag|pinchhit flag|defensive position|lineup position|event type|batter event flag|ab flag|hit value|SH flag|SF flag|outs on play|double play flag|triple play flag|RBI on play|wild pitch flag|passed ball flag|fielded by|batted ball type|bunt flag|foul flag|hit location|num errors|1st error player|1st error type|2nd error player|2nd error type|3rd error player|3rd error type|batter dest|runner on 1st dest|runner on 2nd dest|runner on 3rd dest|play on batter|play on runner on 1st|play on runner on 2nd|play on runner on 3rd|SB for runner on 1st flag|SB for runner on 2nd flag|SB for runner on 3rd flag|CS for runner on 1st flag|CS for runner on 2nd flag|CS for runner on 3rd flag|PO for runner on 1st flag|PO for runner on 2nd flag|PO for runner on 3rd flag|Responsible pitcher for runner on 1st|Responsible pitcher for runner on 2nd|Responsible pitcher for runner on 3rd|New Game Flag|End Game Flag|Pinch-runner on 1st|Pinch-runner on 2nd|Pinch-runner on 3rd|Runner removed for pinch-runner on 1st|Runner removed for pinch-runner on 2nd|Runner removed for pinch-runner on 3rd|Batter removed for pinch-hitter|Position of batter removed for pinch-hitter|Fielder with First Putout|Fielder with Second Putout|Fielder with Third Putout|Fielder with First Assist|Fielder with Second Assist|Fielder with Third Assist|Fielder with Fourth Assist|Fielder with Fifth Assist|event num|\n",
      "+------------+-------------+------+------------+----+-----+-------+--------------+---------+----------+--------+-----------+----------+---------------+--------+------------+-----------+----------------+--------+----------+-----------+----------+---------+----------+------------+-----------+------------+-------------+------------+---------------+------------+-------------+------------------+---------------+----------+-----------------+-------+---------+-------+-------+------------+----------------+----------------+-----------+---------------+----------------+----------+----------------+---------+---------+------------+----------+----------------+--------------+----------------+--------------+----------------+--------------+-----------+------------------+------------------+------------------+--------------+---------------------+---------------------+---------------------+-------------------------+-------------------------+-------------------------+-------------------------+-------------------------+-------------------------+-------------------------+-------------------------+-------------------------+-------------------------------------+-------------------------------------+-------------------------------------+-------------+-------------+-------------------+-------------------+-------------------+--------------------------------------+--------------------------------------+--------------------------------------+-------------------------------+-------------------------------------------+-------------------------+--------------------------+-------------------------+-------------------------+--------------------------+-------------------------+--------------------------+-------------------------+---------+\n",
      "|BRO191204110|          NY1|     1|           0|   0|    0|      0|          NULL|        0|         0|devoj101|          L|  devoj101|              L|ruckn101|           L|   ruckn101|               L|phele101|  daubj101|   hummj101|  smitr108| stard101|  wheaz101|    north101|   morah101|        NULL|         NULL|        NULL|             13|           T|            F|                 7|              1|         2|                T|      T|        0|      F|      F|           1|               F|               F|          0|              F|               F|         1|               G|        F|        F|        NULL|         0|               0|             N|               0|             N|               0|             N|          0|                 0|                 0|                 0|          13.0|                 NULL|                 NULL|                 NULL|                        F|                        F|                        F|                        F|                        F|                        F|                        F|                        F|                        F|                                 NULL|                                 NULL|                                 NULL|            T|            F|                  F|                  F|                  F|                                  NULL|                                  NULL|                                  NULL|                           NULL|                                          0|                        3|                         0|                        0|                        1|                         0|                        0|                         0|                        0|        1|\n",
      "|BRO191204110|          NY1|     1|           0|   1|    0|      0|          NULL|        0|         0|doyll101|          L|  doyll101|              L|ruckn101|           L|   ruckn101|               L|phele101|  daubj101|   hummj101|  smitr108| stard101|  wheaz101|    north101|   morah101|        NULL|         NULL|        NULL|           E4/G|           F|            F|                 4|              2|        18|                T|      T|        0|      F|      F|           0|               F|               F|          0|              F|               F|         4|               G|        F|        F|        NULL|         1|               4|             F|               0|             N|               0|             N|          1|                 0|                 0|                 0|          NULL|                 NULL|                 NULL|                 NULL|                        F|                        F|                        F|                        F|                        F|                        F|                        F|                        F|                        F|                                 NULL|                                 NULL|                                 NULL|            F|            F|                  F|                  F|                  F|                                  NULL|                                  NULL|                                  NULL|                           NULL|                                          0|                        0|                         0|                        0|                        0|                         0|                        0|                         0|                        0|        2|\n",
      "|BRO191204110|          NY1|     1|           0|   1|    0|      0|          NULL|        0|         0|snodf101|          R|  snodf101|              R|ruckn101|           L|   ruckn101|               L|phele101|  daubj101|   hummj101|  smitr108| stard101|  wheaz101|    north101|   morah101|    doyll101|         NULL|        NULL|       64(1)/FO|           F|            F|                 8|              3|         2|                T|      T|        0|      F|      F|           1|               F|               F|          0|              F|               F|         6|               G|        F|        F|        NULL|         0|               0|             N|               0|             N|               0|             N|          1|                 0|                 0|                 0|          NULL|                   64|                 NULL|                 NULL|                        F|                        F|                        F|                        F|                        F|                        F|                        F|                        F|                        F|                             ruckn101|                                 NULL|                                 NULL|            F|            F|                  F|                  F|                  F|                                  NULL|                                  NULL|                                  NULL|                           NULL|                                          0|                        4|                         0|                        0|                        6|                         0|                        0|                         0|                        0|        3|\n",
      "|BRO191204110|          NY1|     1|           0|   2|    0|      0|          NULL|        0|         0|murrr103|          R|  murrr103|              R|ruckn101|           L|   ruckn101|               L|phele101|  daubj101|   hummj101|  smitr108| stard101|  wheaz101|    north101|   morah101|    snodf101|         NULL|        NULL|        CS2(26)|           F|            F|                 9|              4|         6|                F|      F|        0|      F|      F|           1|               F|               F|          0|              F|               F|         0|            NULL|        F|        F|        NULL|         0|               0|             N|               0|             N|               0|             N|          0|                 0|                 0|                 0|          NULL|                   26|                 NULL|                 NULL|                        F|                        F|                        F|                        T|                        F|                        F|                        F|                        F|                        F|                             ruckn101|                                 NULL|                                 NULL|            F|            F|                  F|                  F|                  F|                                  NULL|                                  NULL|                                  NULL|                           NULL|                                          0|                        6|                         0|                        0|                        2|                         0|                        0|                         0|                        0|        4|\n",
      "|BRO191204110|          NY1|     1|           1|   0|    0|      0|          NULL|        0|         0|morah101|          L|  morah101|              L|marqr102|           L|   marqr102|               L|meyec101|  merkf101|   doyll101|  herzb101| shaft102|  devoj101|    snodf101|   murrr103|        NULL|         NULL|        NULL|             53|           T|            F|                 9|              1|         2|                T|      T|        0|      F|      F|           1|               F|               F|          0|              F|               F|         5|               G|        F|        F|        NULL|         0|               0|             N|               0|             N|               0|             N|          0|                 0|                 0|                 0|          53.0|                 NULL|                 NULL|                 NULL|                        F|                        F|                        F|                        F|                        F|                        F|                        F|                        F|                        F|                                 NULL|                                 NULL|                                 NULL|            F|            F|                  F|                  F|                  F|                                  NULL|                                  NULL|                                  NULL|                           NULL|                                          0|                        3|                         0|                        0|                        5|                         0|                        0|                         0|                        0|        5|\n",
      "|BRO191204110|          NY1|     1|           1|   1|    0|      0|          NULL|        0|         0|daubj101|          L|  daubj101|              L|marqr102|           L|   marqr102|               L|meyec101|  merkf101|   doyll101|  herzb101| shaft102|  devoj101|    snodf101|   murrr103|        NULL|         NULL|        NULL|             S8|           F|            F|                 3|              2|        20|                T|      T|        1|      F|      F|           0|               F|               F|          0|              F|               F|         8|            NULL|        F|        F|        NULL|         0|               0|             N|               0|             N|               0|             N|          1|                 0|                 0|                 0|          NULL|                 NULL|                 NULL|                 NULL|                        F|                        F|                        F|                        F|                        F|                        F|                        F|                        F|                        F|                                 NULL|                                 NULL|                                 NULL|            F|            F|                  F|                  F|                  F|                                  NULL|                                  NULL|                                  NULL|                           NULL|                                          0|                        0|                         0|                        0|                        0|                         0|                        0|                         0|                        0|        6|\n",
      "|BRO191204110|          NY1|     1|           1|   1|    0|      0|          NULL|        0|         0|smitr108|          R|  smitr108|              R|marqr102|           L|   marqr102|               L|meyec101|  merkf101|   doyll101|  herzb101| shaft102|  devoj101|    snodf101|   murrr103|    daubj101|         NULL|        NULL|    POCS2(1343)|           F|            F|                 5|              3|         8|                F|      F|        0|      F|      F|           1|               F|               F|          0|              F|               F|         0|            NULL|        F|        F|        NULL|         0|               0|             N|               0|             N|               0|             N|          0|                 0|                 0|                 0|          NULL|                 1343|                 NULL|                 NULL|                        F|                        F|                        F|                        T|                        F|                        F|                        T|                        F|                        F|                             marqr102|                                 NULL|                                 NULL|            F|            F|                  F|                  F|                  F|                                  NULL|                                  NULL|                                  NULL|                           NULL|                                          0|                        3|                         0|                        0|                        1|                         3|                        4|                         0|                        0|        7|\n",
      "|BRO191204110|          NY1|     1|           1|   2|    0|      0|          NULL|        0|         0|smitr108|          R|  smitr108|              R|marqr102|           L|   marqr102|               L|meyec101|  merkf101|   doyll101|  herzb101| shaft102|  devoj101|    snodf101|   murrr103|        NULL|         NULL|        NULL|        23/INT#|           F|            F|                 5|              3|         2|                T|      T|        0|      F|      F|           1|               F|               F|          0|              F|               F|         2|               G|        F|        F|        NULL|         0|               0|             N|               0|             N|               0|             N|          0|                 0|                 0|                 0|          23.0|                 NULL|                 NULL|                 NULL|                        F|                        F|                        F|                        F|                        F|                        F|                        F|                        F|                        F|                                 NULL|                                 NULL|                                 NULL|            F|            F|                  F|                  F|                  F|                                  NULL|                                  NULL|                                  NULL|                           NULL|                                          0|                        3|                         0|                        0|                        2|                         0|                        0|                         0|                        0|        8|\n",
      "|BRO191204110|          NY1|     2|           0|   0|    0|      0|          NULL|        0|         0|murrr103|          R|  murrr103|              R|ruckn101|           L|   ruckn101|               L|phele101|  daubj101|   hummj101|  smitr108| stard101|  wheaz101|    north101|   morah101|        NULL|         NULL|        NULL|             13|           T|            F|                 9|              4|         2|                T|      T|        0|      F|      F|           1|               F|               F|          0|              F|               F|         1|               G|        F|        F|        NULL|         0|               0|             N|               0|             N|               0|             N|          0|                 0|                 0|                 0|          13.0|                 NULL|                 NULL|                 NULL|                        F|                        F|                        F|                        F|                        F|                        F|                        F|                        F|                        F|                                 NULL|                                 NULL|                                 NULL|            F|            F|                  F|                  F|                  F|                                  NULL|                                  NULL|                                  NULL|                           NULL|                                          0|                        3|                         0|                        0|                        1|                         0|                        0|                         0|                        0|        9|\n",
      "|BRO191204110|          NY1|     2|           0|   1|    0|      0|          NULL|        0|         0|merkf101|          R|  merkf101|              R|ruckn101|           L|   ruckn101|               L|phele101|  daubj101|   hummj101|  smitr108| stard101|  wheaz101|    north101|   morah101|        NULL|         NULL|        NULL|              W|           F|            F|                 3|              5|        14|                T|      F|        0|      F|      F|           0|               F|               F|          0|              F|               F|         0|            NULL|        F|        F|        NULL|         0|               0|             N|               0|             N|               0|             N|          1|                 0|                 0|                 0|          NULL|                 NULL|                 NULL|                 NULL|                        F|                        F|                        F|                        F|                        F|                        F|                        F|                        F|                        F|                                 NULL|                                 NULL|                                 NULL|            F|            F|                  F|                  F|                  F|                                  NULL|                                  NULL|                                  NULL|                           NULL|                                          0|                        0|                         0|                        0|                        0|                         0|                        0|                         0|                        0|       10|\n",
      "|BRO191204110|          NY1|     2|           0|   1|    0|      0|          NULL|        0|         0|herzb101|          R|  herzb101|              R|ruckn101|           L|   ruckn101|               L|phele101|  daubj101|   hummj101|  smitr108| stard101|  wheaz101|    north101|   morah101|    merkf101|         NULL|        NULL|      DGR/9.1-3|           F|            F|                 5|              6|        21|                T|      T|        2|      F|      F|           0|               F|               F|          0|              F|               F|         0|            NULL|        F|        F|           9|         0|               0|             N|               0|             N|               0|             N|          2|                 3|                 0|                 0|          NULL|                 NULL|                 NULL|                 NULL|                        F|                        F|                        F|                        F|                        F|                        F|                        F|                        F|                        F|                             ruckn101|                                 NULL|                                 NULL|            F|            F|                  F|                  F|                  F|                                  NULL|                                  NULL|                                  NULL|                           NULL|                                          0|                        0|                         0|                        0|                        0|                         0|                        0|                         0|                        0|       11|\n",
      "|BRO191204110|          NY1|     2|           0|   1|    0|      0|          NULL|        0|         0|shaft102|          R|  shaft102|              R|ruckn101|           L|   ruckn101|               L|phele101|  daubj101|   hummj101|  smitr108| stard101|  wheaz101|    north101|   morah101|        NULL|     herzb101|    merkf101|FC1.3XH(12);2-3|           F|            F|                 6|              7|        19|                T|      T|        0|      F|      F|           1|               F|               F|          0|              F|               F|         1|               G|        F|        F|        NULL|         0|               0|             N|               0|             N|               0|             N|          1|                 0|                 3|                 0|          NULL|                 NULL|                 NULL|                   12|                        F|                        F|                        F|                        F|                        F|                        F|                        F|                        F|                        F|                                 NULL|                             ruckn101|                             ruckn101|            F|            F|                  F|                  F|                  F|                                  NULL|                                  NULL|                                  NULL|                           NULL|                                          0|                        2|                         0|                        0|                        1|                         0|                        0|                         0|                        0|       12|\n",
      "|BRO191204110|          NY1|     2|           0|   2|    0|      0|          NULL|        0|         0|meyec101|          R|  meyec101|              R|ruckn101|           L|   ruckn101|               L|phele101|  daubj101|   hummj101|  smitr108| stard101|  wheaz101|    north101|   morah101|    shaft102|         NULL|    herzb101|  DGR/8.3-H;1-3|           F|            F|                 2|              8|        21|                T|      T|        2|      F|      F|           0|               F|               F|          1|              F|               F|         0|            NULL|        F|        F|           8|         0|               0|             N|               0|             N|               0|             N|          2|                 3|                 0|                 4|          NULL|                 NULL|                 NULL|                 NULL|                        F|                        F|                        F|                        F|                        F|                        F|                        F|                        F|                        F|                             ruckn101|                                 NULL|                             ruckn101|            F|            F|                  F|                  F|                  F|                                  NULL|                                  NULL|                                  NULL|                           NULL|                                          0|                        0|                         0|                        0|                        0|                         0|                        0|                         0|                        0|       13|\n",
      "|BRO191204110|          NY1|     2|           0|   2|    0|      0|          NULL|        1|         0|marqr102|          R|  marqr102|              R|ruckn101|           L|   ruckn101|               L|phele101|  daubj101|   hummj101|  smitr108| stard101|  wheaz101|    north101|   morah101|        NULL|     meyec101|    shaft102|  DGR/8.3-H;2-H|           F|            F|                 1|              9|        21|                T|      T|        2|      F|      F|           0|               F|               F|          2|              F|               F|         0|            NULL|        F|        F|           8|         0|               0|             N|               0|             N|               0|             N|          2|                 0|                 4|                 4|          NULL|                 NULL|                 NULL|                 NULL|                        F|                        F|                        F|                        F|                        F|                        F|                        F|                        F|                        F|                                 NULL|                             ruckn101|                             ruckn101|            F|            F|                  F|                  F|                  F|                                  NULL|                                  NULL|                                  NULL|                           NULL|                                          0|                        0|                         0|                        0|                        0|                         0|                        0|                         0|                        0|       14|\n",
      "|BRO191204110|          NY1|     2|           0|   2|    0|      0|          NULL|        3|         0|devoj101|          L|  devoj101|              L|ruckn101|           L|   ruckn101|               L|phele101|  daubj101|   hummj101|  smitr108| stard101|  wheaz101|    north101|   morah101|        NULL|     marqr102|        NULL|             43|           F|            F|                 7|              1|         2|                T|      T|        0|      F|      F|           1|               F|               F|          0|              F|               F|         4|               G|        F|        F|        NULL|         0|               0|             N|               0|             N|               0|             N|          0|                 0|                 2|                 0|          43.0|                 NULL|                 NULL|                 NULL|                        F|                        F|                        F|                        F|                        F|                        F|                        F|                        F|                        F|                                 NULL|                             ruckn101|                                 NULL|            F|            F|                  F|                  F|                  F|                                  NULL|                                  NULL|                                  NULL|                           NULL|                                          0|                        3|                         0|                        0|                        4|                         0|                        0|                         0|                        0|       15|\n",
      "|BRO191204110|          NY1|     2|           1|   0|    0|      0|          NULL|        3|         0|north101|          L|  north101|              L|marqr102|           L|   marqr102|               L|meyec101|  merkf101|   doyll101|  herzb101| shaft102|  devoj101|    snodf101|   murrr103|        NULL|         NULL|        NULL|            7/F|           T|            F|                 8|              4|         2|                T|      T|        0|      F|      F|           1|               F|               F|          0|              F|               F|         7|               F|        F|        F|        NULL|         0|               0|             N|               0|             N|               0|             N|          0|                 0|                 0|                 0|           7.0|                 NULL|                 NULL|                 NULL|                        F|                        F|                        F|                        F|                        F|                        F|                        F|                        F|                        F|                                 NULL|                                 NULL|                                 NULL|            F|            F|                  F|                  F|                  F|                                  NULL|                                  NULL|                                  NULL|                           NULL|                                          0|                        7|                         0|                        0|                        0|                         0|                        0|                         0|                        0|       16|\n",
      "|BRO191204110|          NY1|     2|           1|   1|    0|      0|          NULL|        3|         0|wheaz101|          L|  wheaz101|              L|marqr102|           L|   marqr102|               L|meyec101|  merkf101|   doyll101|  herzb101| shaft102|  devoj101|    snodf101|   murrr103|        NULL|         NULL|        NULL|              W|           F|            F|                 7|              5|        14|                T|      F|        0|      F|      F|           0|               F|               F|          0|              F|               F|         0|            NULL|        F|        F|        NULL|         0|               0|             N|               0|             N|               0|             N|          1|                 0|                 0|                 0|          NULL|                 NULL|                 NULL|                 NULL|                        F|                        F|                        F|                        F|                        F|                        F|                        F|                        F|                        F|                                 NULL|                                 NULL|                                 NULL|            F|            F|                  F|                  F|                  F|                                  NULL|                                  NULL|                                  NULL|                           NULL|                                          0|                        0|                         0|                        0|                        0|                         0|                        0|                         0|                        0|       17|\n",
      "|BRO191204110|          NY1|     2|           1|   1|    0|      0|          NULL|        3|         0|hummj101|          R|  hummj101|              R|marqr102|           L|   marqr102|               L|meyec101|  merkf101|   doyll101|  herzb101| shaft102|  devoj101|    snodf101|   murrr103|    wheaz101|         NULL|        NULL|            4/P|           F|            F|                 4|              6|         2|                T|      T|        0|      F|      F|           1|               F|               F|          0|              F|               F|         4|               P|        F|        F|        NULL|         0|               0|             N|               0|             N|               0|             N|          0|                 1|                 0|                 0|           4.0|                 NULL|                 NULL|                 NULL|                        F|                        F|                        F|                        F|                        F|                        F|                        F|                        F|                        F|                             marqr102|                                 NULL|                                 NULL|            F|            F|                  F|                  F|                  F|                                  NULL|                                  NULL|                                  NULL|                           NULL|                                          0|                        4|                         0|                        0|                        0|                         0|                        0|                         0|                        0|       18|\n",
      "|BRO191204110|          NY1|     2|           1|   2|    0|      0|          NULL|        3|         0|stard101|          R|  stard101|              R|marqr102|           L|   marqr102|               L|meyec101|  merkf101|   doyll101|  herzb101| shaft102|  devoj101|    snodf101|   murrr103|    wheaz101|         NULL|        NULL|         S7.1-2|           F|            F|                 6|              7|        20|                T|      T|        1|      F|      F|           0|               F|               F|          0|              F|               F|         7|            NULL|        F|        F|        NULL|         0|               0|             N|               0|             N|               0|             N|          1|                 2|                 0|                 0|          NULL|                 NULL|                 NULL|                 NULL|                        F|                        F|                        F|                        F|                        F|                        F|                        F|                        F|                        F|                             marqr102|                                 NULL|                                 NULL|            F|            F|                  F|                  F|                  F|                                  NULL|                                  NULL|                                  NULL|                           NULL|                                          0|                        0|                         0|                        0|                        0|                         0|                        0|                         0|                        0|       19|\n",
      "|BRO191204110|          NY1|     2|           1|   2|    0|      0|          NULL|        3|         0|phele101|          R|  phele101|              R|marqr102|           L|   marqr102|               L|meyec101|  merkf101|   doyll101|  herzb101| shaft102|  devoj101|    snodf101|   murrr103|    stard101|     wheaz101|        NULL|      W.2-3;1-2|           F|            F|                 2|              8|        14|                T|      F|        0|      F|      F|           0|               F|               F|          0|              F|               F|         0|            NULL|        F|        F|        NULL|         0|               0|             N|               0|             N|               0|             N|          1|                 2|                 3|                 0|          NULL|                 NULL|                 NULL|                 NULL|                        F|                        F|                        F|                        F|                        F|                        F|                        F|                        F|                        F|                             marqr102|                             marqr102|                                 NULL|            F|            F|                  F|                  F|                  F|                                  NULL|                                  NULL|                                  NULL|                           NULL|                                          0|                        0|                         0|                        0|                        0|                         0|                        0|                         0|                        0|       20|\n",
      "+------------+-------------+------+------------+----+-----+-------+--------------+---------+----------+--------+-----------+----------+---------------+--------+------------+-----------+----------------+--------+----------+-----------+----------+---------+----------+------------+-----------+------------+-------------+------------+---------------+------------+-------------+------------------+---------------+----------+-----------------+-------+---------+-------+-------+------------+----------------+----------------+-----------+---------------+----------------+----------+----------------+---------+---------+------------+----------+----------------+--------------+----------------+--------------+----------------+--------------+-----------+------------------+------------------+------------------+--------------+---------------------+---------------------+---------------------+-------------------------+-------------------------+-------------------------+-------------------------+-------------------------+-------------------------+-------------------------+-------------------------+-------------------------+-------------------------------------+-------------------------------------+-------------------------------------+-------------+-------------+-------------------+-------------------+-------------------+--------------------------------------+--------------------------------------+--------------------------------------+-------------------------------+-------------------------------------------+-------------------------+--------------------------+-------------------------+-------------------------+--------------------------+-------------------------+--------------------------+-------------------------+---------+\n",
      "only showing top 20 rows\n",
      "\n"
     ]
    }
   ],
   "execution_count": 30
  },
  {
   "metadata": {
    "ExecuteTime": {
     "end_time": "2025-05-11T18:39:49.233340Z",
     "start_time": "2025-05-11T18:39:49.220672Z"
    }
   },
   "cell_type": "code",
   "source": "full_df.printSchema()",
   "id": "abe2aeb619c43b73",
   "outputs": [
    {
     "name": "stdout",
     "output_type": "stream",
     "text": [
      "root\n",
      " |-- game id: string (nullable = true)\n",
      " |-- visiting team: string (nullable = true)\n",
      " |-- inning: integer (nullable = true)\n",
      " |-- batting team: integer (nullable = true)\n",
      " |-- outs: integer (nullable = true)\n",
      " |-- balls: integer (nullable = true)\n",
      " |-- strikes: integer (nullable = true)\n",
      " |-- pitch sequence: string (nullable = true)\n",
      " |-- vis score: integer (nullable = true)\n",
      " |-- home score: integer (nullable = true)\n",
      " |-- batter: string (nullable = true)\n",
      " |-- batter hand: string (nullable = true)\n",
      " |-- res batter: string (nullable = true)\n",
      " |-- res batter hand: string (nullable = true)\n",
      " |-- pitcher: string (nullable = true)\n",
      " |-- pitcher hand: string (nullable = true)\n",
      " |-- res pitcher: string (nullable = true)\n",
      " |-- res pitcher hand: string (nullable = true)\n",
      " |-- catcher: string (nullable = true)\n",
      " |-- first base: string (nullable = true)\n",
      " |-- second base: string (nullable = true)\n",
      " |-- third base: string (nullable = true)\n",
      " |-- shortstop: string (nullable = true)\n",
      " |-- left field: string (nullable = true)\n",
      " |-- center field: string (nullable = true)\n",
      " |-- right field: string (nullable = true)\n",
      " |-- first runner: string (nullable = true)\n",
      " |-- second runner: string (nullable = true)\n",
      " |-- third runner: string (nullable = true)\n",
      " |-- event text: string (nullable = true)\n",
      " |-- leadoff flag: string (nullable = true)\n",
      " |-- pinchhit flag: string (nullable = true)\n",
      " |-- defensive position: integer (nullable = true)\n",
      " |-- lineup position: integer (nullable = true)\n",
      " |-- event type: integer (nullable = true)\n",
      " |-- batter event flag: string (nullable = true)\n",
      " |-- ab flag: string (nullable = true)\n",
      " |-- hit value: integer (nullable = true)\n",
      " |-- SH flag: string (nullable = true)\n",
      " |-- SF flag: string (nullable = true)\n",
      " |-- outs on play: integer (nullable = true)\n",
      " |-- double play flag: string (nullable = true)\n",
      " |-- triple play flag: string (nullable = true)\n",
      " |-- RBI on play: integer (nullable = true)\n",
      " |-- wild pitch flag: string (nullable = true)\n",
      " |-- passed ball flag: string (nullable = true)\n",
      " |-- fielded by: integer (nullable = true)\n",
      " |-- batted ball type: string (nullable = true)\n",
      " |-- bunt flag: string (nullable = true)\n",
      " |-- foul flag: string (nullable = true)\n",
      " |-- hit location: string (nullable = true)\n",
      " |-- num errors: integer (nullable = true)\n",
      " |-- 1st error player: integer (nullable = true)\n",
      " |-- 1st error type: string (nullable = true)\n",
      " |-- 2nd error player: integer (nullable = true)\n",
      " |-- 2nd error type: string (nullable = true)\n",
      " |-- 3rd error player: integer (nullable = true)\n",
      " |-- 3rd error type: string (nullable = true)\n",
      " |-- batter dest: integer (nullable = true)\n",
      " |-- runner on 1st dest: integer (nullable = true)\n",
      " |-- runner on 2nd dest: integer (nullable = true)\n",
      " |-- runner on 3rd dest: integer (nullable = true)\n",
      " |-- play on batter: double (nullable = true)\n",
      " |-- play on runner on 1st: string (nullable = true)\n",
      " |-- play on runner on 2nd: string (nullable = true)\n",
      " |-- play on runner on 3rd: string (nullable = true)\n",
      " |-- SB for runner on 1st flag: string (nullable = true)\n",
      " |-- SB for runner on 2nd flag: string (nullable = true)\n",
      " |-- SB for runner on 3rd flag: string (nullable = true)\n",
      " |-- CS for runner on 1st flag: string (nullable = true)\n",
      " |-- CS for runner on 2nd flag: string (nullable = true)\n",
      " |-- CS for runner on 3rd flag: string (nullable = true)\n",
      " |-- PO for runner on 1st flag: string (nullable = true)\n",
      " |-- PO for runner on 2nd flag: string (nullable = true)\n",
      " |-- PO for runner on 3rd flag: string (nullable = true)\n",
      " |-- Responsible pitcher for runner on 1st: string (nullable = true)\n",
      " |-- Responsible pitcher for runner on 2nd: string (nullable = true)\n",
      " |-- Responsible pitcher for runner on 3rd: string (nullable = true)\n",
      " |-- New Game Flag: string (nullable = true)\n",
      " |-- End Game Flag: string (nullable = true)\n",
      " |-- Pinch-runner on 1st: string (nullable = true)\n",
      " |-- Pinch-runner on 2nd: string (nullable = true)\n",
      " |-- Pinch-runner on 3rd: string (nullable = true)\n",
      " |-- Runner removed for pinch-runner on 1st: string (nullable = true)\n",
      " |-- Runner removed for pinch-runner on 2nd: string (nullable = true)\n",
      " |-- Runner removed for pinch-runner on 3rd: string (nullable = true)\n",
      " |-- Batter removed for pinch-hitter: string (nullable = true)\n",
      " |-- Position of batter removed for pinch-hitter: integer (nullable = true)\n",
      " |-- Fielder with First Putout: integer (nullable = true)\n",
      " |-- Fielder with Second Putout: integer (nullable = true)\n",
      " |-- Fielder with Third Putout: integer (nullable = true)\n",
      " |-- Fielder with First Assist: integer (nullable = true)\n",
      " |-- Fielder with Second Assist: integer (nullable = true)\n",
      " |-- Fielder with Third Assist: integer (nullable = true)\n",
      " |-- Fielder with Fourth Assist: integer (nullable = true)\n",
      " |-- Fielder with Fifth Assist: integer (nullable = true)\n",
      " |-- event num: integer (nullable = true)\n",
      "\n"
     ]
    }
   ],
   "execution_count": 4
  },
  {
   "metadata": {
    "ExecuteTime": {
     "end_time": "2025-05-11T22:15:07.306128Z",
     "start_time": "2025-05-11T22:15:05.018933Z"
    }
   },
   "cell_type": "code",
   "source": "full_df.count()",
   "id": "97f996f9d5899b90",
   "outputs": [
    {
     "name": "stderr",
     "output_type": "stream",
     "text": [
      "                                                                                \r"
     ]
    },
    {
     "data": {
      "text/plain": [
       "15217681"
      ]
     },
     "execution_count": 31,
     "metadata": {},
     "output_type": "execute_result"
    }
   ],
   "execution_count": 31
  },
  {
   "metadata": {
    "ExecuteTime": {
     "end_time": "2025-05-12T05:25:50.370038Z",
     "start_time": "2025-05-12T05:25:23.198846Z"
    }
   },
   "cell_type": "code",
   "source": [
    "all_teams = full_df \\\n",
    "        .select('visiting team') \\\n",
    "        .distinct()\n",
    "\n",
    "\n",
    "all_teams.show(all_teams.count())"
   ],
   "id": "d049aad7c61c7789",
   "outputs": [
    {
     "name": "stderr",
     "output_type": "stream",
     "text": [
      "[Stage 413:================================================>   (133 + 11) / 144]\r"
     ]
    },
    {
     "name": "stdout",
     "output_type": "stream",
     "text": [
      "+-------------+\n",
      "|visiting team|\n",
      "+-------------+\n",
      "|          SLN|\n",
      "|          NY1|\n",
      "|          BRO|\n",
      "|          CIN|\n",
      "|          PHI|\n",
      "|          BSN|\n",
      "|          PIT|\n",
      "|          CHN|\n",
      "|          PHA|\n",
      "|          NYA|\n",
      "|          DET|\n",
      "|          SLA|\n",
      "|          WS1|\n",
      "|          CHA|\n",
      "|          BOS|\n",
      "|          CLE|\n",
      "|          SFN|\n",
      "|          LAN|\n",
      "|          SDN|\n",
      "|          MON|\n",
      "|          ATL|\n",
      "|          HOU|\n",
      "|          NYN|\n",
      "|          OAK|\n",
      "|          BAL|\n",
      "|          CAL|\n",
      "|          MIN|\n",
      "|          WS2|\n",
      "|          KCA|\n",
      "|          MIL|\n",
      "|            @|\n",
      "|          TBA|\n",
      "|          FLO|\n",
      "|          ANA|\n",
      "|          TOR|\n",
      "|          ARI|\n",
      "|          SEA|\n",
      "|          COL|\n",
      "|          TEX|\n",
      "|          MLN|\n",
      "|          KC1|\n",
      "|          MIA|\n",
      "|          WAS|\n",
      "+-------------+\n",
      "\n"
     ]
    },
    {
     "name": "stderr",
     "output_type": "stream",
     "text": [
      "                                                                                \r"
     ]
    }
   ],
   "execution_count": 65
  },
  {
   "metadata": {
    "ExecuteTime": {
     "end_time": "2025-05-12T05:14:13.388921Z",
     "start_time": "2025-05-12T05:14:12.445038Z"
    }
   },
   "cell_type": "code",
   "source": [
    "full_df = full_df.withColumn('Season', F.substring(F.col('game id'), 4, 4).cast('int'))\n",
    "\n",
    "full_df = full_df.withColumn('home team', F.substring(F.col('game id'), 1, 3))\n",
    "\n",
    "full_df.show()"
   ],
   "id": "5506e2c84b451d3",
   "outputs": [
    {
     "name": "stdout",
     "output_type": "stream",
     "text": [
      "+------------+-------------+------+------------+----+-----+-------+--------------+---------+----------+--------+-----------+----------+---------------+--------+------------+-----------+----------------+--------+----------+-----------+----------+---------+----------+------------+-----------+------------+-------------+------------+---------------+------------+-------------+------------------+---------------+----------+-----------------+-------+---------+-------+-------+------------+----------------+----------------+-----------+---------------+----------------+----------+----------------+---------+---------+------------+----------+----------------+--------------+----------------+--------------+----------------+--------------+-----------+------------------+------------------+------------------+--------------+---------------------+---------------------+---------------------+-------------------------+-------------------------+-------------------------+-------------------------+-------------------------+-------------------------+-------------------------+-------------------------+-------------------------+-------------------------------------+-------------------------------------+-------------------------------------+-------------+-------------+-------------------+-------------------+-------------------+--------------------------------------+--------------------------------------+--------------------------------------+-------------------------------+-------------------------------------------+-------------------------+--------------------------+-------------------------+-------------------------+--------------------------+-------------------------+--------------------------+-------------------------+---------+------+---------+\n",
      "|     game id|visiting team|inning|batting team|outs|balls|strikes|pitch sequence|vis score|home score|  batter|batter hand|res batter|res batter hand| pitcher|pitcher hand|res pitcher|res pitcher hand| catcher|first base|second base|third base|shortstop|left field|center field|right field|first runner|second runner|third runner|     event text|leadoff flag|pinchhit flag|defensive position|lineup position|event type|batter event flag|ab flag|hit value|SH flag|SF flag|outs on play|double play flag|triple play flag|RBI on play|wild pitch flag|passed ball flag|fielded by|batted ball type|bunt flag|foul flag|hit location|num errors|1st error player|1st error type|2nd error player|2nd error type|3rd error player|3rd error type|batter dest|runner on 1st dest|runner on 2nd dest|runner on 3rd dest|play on batter|play on runner on 1st|play on runner on 2nd|play on runner on 3rd|SB for runner on 1st flag|SB for runner on 2nd flag|SB for runner on 3rd flag|CS for runner on 1st flag|CS for runner on 2nd flag|CS for runner on 3rd flag|PO for runner on 1st flag|PO for runner on 2nd flag|PO for runner on 3rd flag|Responsible pitcher for runner on 1st|Responsible pitcher for runner on 2nd|Responsible pitcher for runner on 3rd|New Game Flag|End Game Flag|Pinch-runner on 1st|Pinch-runner on 2nd|Pinch-runner on 3rd|Runner removed for pinch-runner on 1st|Runner removed for pinch-runner on 2nd|Runner removed for pinch-runner on 3rd|Batter removed for pinch-hitter|Position of batter removed for pinch-hitter|Fielder with First Putout|Fielder with Second Putout|Fielder with Third Putout|Fielder with First Assist|Fielder with Second Assist|Fielder with Third Assist|Fielder with Fourth Assist|Fielder with Fifth Assist|event num|Season|home team|\n",
      "+------------+-------------+------+------------+----+-----+-------+--------------+---------+----------+--------+-----------+----------+---------------+--------+------------+-----------+----------------+--------+----------+-----------+----------+---------+----------+------------+-----------+------------+-------------+------------+---------------+------------+-------------+------------------+---------------+----------+-----------------+-------+---------+-------+-------+------------+----------------+----------------+-----------+---------------+----------------+----------+----------------+---------+---------+------------+----------+----------------+--------------+----------------+--------------+----------------+--------------+-----------+------------------+------------------+------------------+--------------+---------------------+---------------------+---------------------+-------------------------+-------------------------+-------------------------+-------------------------+-------------------------+-------------------------+-------------------------+-------------------------+-------------------------+-------------------------------------+-------------------------------------+-------------------------------------+-------------+-------------+-------------------+-------------------+-------------------+--------------------------------------+--------------------------------------+--------------------------------------+-------------------------------+-------------------------------------------+-------------------------+--------------------------+-------------------------+-------------------------+--------------------------+-------------------------+--------------------------+-------------------------+---------+------+---------+\n",
      "|BRO191204110|          NY1|     1|           0|   0|    0|      0|          NULL|        0|         0|devoj101|          L|  devoj101|              L|ruckn101|           L|   ruckn101|               L|phele101|  daubj101|   hummj101|  smitr108| stard101|  wheaz101|    north101|   morah101|        NULL|         NULL|        NULL|             13|           T|            F|                 7|              1|         2|                T|      T|        0|      F|      F|           1|               F|               F|          0|              F|               F|         1|               G|        F|        F|        NULL|         0|               0|             N|               0|             N|               0|             N|          0|                 0|                 0|                 0|          13.0|                 NULL|                 NULL|                 NULL|                        F|                        F|                        F|                        F|                        F|                        F|                        F|                        F|                        F|                                 NULL|                                 NULL|                                 NULL|            T|            F|                  F|                  F|                  F|                                  NULL|                                  NULL|                                  NULL|                           NULL|                                          0|                        3|                         0|                        0|                        1|                         0|                        0|                         0|                        0|        1|  1912|      BRO|\n",
      "|BRO191204110|          NY1|     1|           0|   1|    0|      0|          NULL|        0|         0|doyll101|          L|  doyll101|              L|ruckn101|           L|   ruckn101|               L|phele101|  daubj101|   hummj101|  smitr108| stard101|  wheaz101|    north101|   morah101|        NULL|         NULL|        NULL|           E4/G|           F|            F|                 4|              2|        18|                T|      T|        0|      F|      F|           0|               F|               F|          0|              F|               F|         4|               G|        F|        F|        NULL|         1|               4|             F|               0|             N|               0|             N|          1|                 0|                 0|                 0|          NULL|                 NULL|                 NULL|                 NULL|                        F|                        F|                        F|                        F|                        F|                        F|                        F|                        F|                        F|                                 NULL|                                 NULL|                                 NULL|            F|            F|                  F|                  F|                  F|                                  NULL|                                  NULL|                                  NULL|                           NULL|                                          0|                        0|                         0|                        0|                        0|                         0|                        0|                         0|                        0|        2|  1912|      BRO|\n",
      "|BRO191204110|          NY1|     1|           0|   1|    0|      0|          NULL|        0|         0|snodf101|          R|  snodf101|              R|ruckn101|           L|   ruckn101|               L|phele101|  daubj101|   hummj101|  smitr108| stard101|  wheaz101|    north101|   morah101|    doyll101|         NULL|        NULL|       64(1)/FO|           F|            F|                 8|              3|         2|                T|      T|        0|      F|      F|           1|               F|               F|          0|              F|               F|         6|               G|        F|        F|        NULL|         0|               0|             N|               0|             N|               0|             N|          1|                 0|                 0|                 0|          NULL|                   64|                 NULL|                 NULL|                        F|                        F|                        F|                        F|                        F|                        F|                        F|                        F|                        F|                             ruckn101|                                 NULL|                                 NULL|            F|            F|                  F|                  F|                  F|                                  NULL|                                  NULL|                                  NULL|                           NULL|                                          0|                        4|                         0|                        0|                        6|                         0|                        0|                         0|                        0|        3|  1912|      BRO|\n",
      "|BRO191204110|          NY1|     1|           0|   2|    0|      0|          NULL|        0|         0|murrr103|          R|  murrr103|              R|ruckn101|           L|   ruckn101|               L|phele101|  daubj101|   hummj101|  smitr108| stard101|  wheaz101|    north101|   morah101|    snodf101|         NULL|        NULL|        CS2(26)|           F|            F|                 9|              4|         6|                F|      F|        0|      F|      F|           1|               F|               F|          0|              F|               F|         0|            NULL|        F|        F|        NULL|         0|               0|             N|               0|             N|               0|             N|          0|                 0|                 0|                 0|          NULL|                   26|                 NULL|                 NULL|                        F|                        F|                        F|                        T|                        F|                        F|                        F|                        F|                        F|                             ruckn101|                                 NULL|                                 NULL|            F|            F|                  F|                  F|                  F|                                  NULL|                                  NULL|                                  NULL|                           NULL|                                          0|                        6|                         0|                        0|                        2|                         0|                        0|                         0|                        0|        4|  1912|      BRO|\n",
      "|BRO191204110|          NY1|     1|           1|   0|    0|      0|          NULL|        0|         0|morah101|          L|  morah101|              L|marqr102|           L|   marqr102|               L|meyec101|  merkf101|   doyll101|  herzb101| shaft102|  devoj101|    snodf101|   murrr103|        NULL|         NULL|        NULL|             53|           T|            F|                 9|              1|         2|                T|      T|        0|      F|      F|           1|               F|               F|          0|              F|               F|         5|               G|        F|        F|        NULL|         0|               0|             N|               0|             N|               0|             N|          0|                 0|                 0|                 0|          53.0|                 NULL|                 NULL|                 NULL|                        F|                        F|                        F|                        F|                        F|                        F|                        F|                        F|                        F|                                 NULL|                                 NULL|                                 NULL|            F|            F|                  F|                  F|                  F|                                  NULL|                                  NULL|                                  NULL|                           NULL|                                          0|                        3|                         0|                        0|                        5|                         0|                        0|                         0|                        0|        5|  1912|      BRO|\n",
      "|BRO191204110|          NY1|     1|           1|   1|    0|      0|          NULL|        0|         0|daubj101|          L|  daubj101|              L|marqr102|           L|   marqr102|               L|meyec101|  merkf101|   doyll101|  herzb101| shaft102|  devoj101|    snodf101|   murrr103|        NULL|         NULL|        NULL|             S8|           F|            F|                 3|              2|        20|                T|      T|        1|      F|      F|           0|               F|               F|          0|              F|               F|         8|            NULL|        F|        F|        NULL|         0|               0|             N|               0|             N|               0|             N|          1|                 0|                 0|                 0|          NULL|                 NULL|                 NULL|                 NULL|                        F|                        F|                        F|                        F|                        F|                        F|                        F|                        F|                        F|                                 NULL|                                 NULL|                                 NULL|            F|            F|                  F|                  F|                  F|                                  NULL|                                  NULL|                                  NULL|                           NULL|                                          0|                        0|                         0|                        0|                        0|                         0|                        0|                         0|                        0|        6|  1912|      BRO|\n",
      "|BRO191204110|          NY1|     1|           1|   1|    0|      0|          NULL|        0|         0|smitr108|          R|  smitr108|              R|marqr102|           L|   marqr102|               L|meyec101|  merkf101|   doyll101|  herzb101| shaft102|  devoj101|    snodf101|   murrr103|    daubj101|         NULL|        NULL|    POCS2(1343)|           F|            F|                 5|              3|         8|                F|      F|        0|      F|      F|           1|               F|               F|          0|              F|               F|         0|            NULL|        F|        F|        NULL|         0|               0|             N|               0|             N|               0|             N|          0|                 0|                 0|                 0|          NULL|                 1343|                 NULL|                 NULL|                        F|                        F|                        F|                        T|                        F|                        F|                        T|                        F|                        F|                             marqr102|                                 NULL|                                 NULL|            F|            F|                  F|                  F|                  F|                                  NULL|                                  NULL|                                  NULL|                           NULL|                                          0|                        3|                         0|                        0|                        1|                         3|                        4|                         0|                        0|        7|  1912|      BRO|\n",
      "|BRO191204110|          NY1|     1|           1|   2|    0|      0|          NULL|        0|         0|smitr108|          R|  smitr108|              R|marqr102|           L|   marqr102|               L|meyec101|  merkf101|   doyll101|  herzb101| shaft102|  devoj101|    snodf101|   murrr103|        NULL|         NULL|        NULL|        23/INT#|           F|            F|                 5|              3|         2|                T|      T|        0|      F|      F|           1|               F|               F|          0|              F|               F|         2|               G|        F|        F|        NULL|         0|               0|             N|               0|             N|               0|             N|          0|                 0|                 0|                 0|          23.0|                 NULL|                 NULL|                 NULL|                        F|                        F|                        F|                        F|                        F|                        F|                        F|                        F|                        F|                                 NULL|                                 NULL|                                 NULL|            F|            F|                  F|                  F|                  F|                                  NULL|                                  NULL|                                  NULL|                           NULL|                                          0|                        3|                         0|                        0|                        2|                         0|                        0|                         0|                        0|        8|  1912|      BRO|\n",
      "|BRO191204110|          NY1|     2|           0|   0|    0|      0|          NULL|        0|         0|murrr103|          R|  murrr103|              R|ruckn101|           L|   ruckn101|               L|phele101|  daubj101|   hummj101|  smitr108| stard101|  wheaz101|    north101|   morah101|        NULL|         NULL|        NULL|             13|           T|            F|                 9|              4|         2|                T|      T|        0|      F|      F|           1|               F|               F|          0|              F|               F|         1|               G|        F|        F|        NULL|         0|               0|             N|               0|             N|               0|             N|          0|                 0|                 0|                 0|          13.0|                 NULL|                 NULL|                 NULL|                        F|                        F|                        F|                        F|                        F|                        F|                        F|                        F|                        F|                                 NULL|                                 NULL|                                 NULL|            F|            F|                  F|                  F|                  F|                                  NULL|                                  NULL|                                  NULL|                           NULL|                                          0|                        3|                         0|                        0|                        1|                         0|                        0|                         0|                        0|        9|  1912|      BRO|\n",
      "|BRO191204110|          NY1|     2|           0|   1|    0|      0|          NULL|        0|         0|merkf101|          R|  merkf101|              R|ruckn101|           L|   ruckn101|               L|phele101|  daubj101|   hummj101|  smitr108| stard101|  wheaz101|    north101|   morah101|        NULL|         NULL|        NULL|              W|           F|            F|                 3|              5|        14|                T|      F|        0|      F|      F|           0|               F|               F|          0|              F|               F|         0|            NULL|        F|        F|        NULL|         0|               0|             N|               0|             N|               0|             N|          1|                 0|                 0|                 0|          NULL|                 NULL|                 NULL|                 NULL|                        F|                        F|                        F|                        F|                        F|                        F|                        F|                        F|                        F|                                 NULL|                                 NULL|                                 NULL|            F|            F|                  F|                  F|                  F|                                  NULL|                                  NULL|                                  NULL|                           NULL|                                          0|                        0|                         0|                        0|                        0|                         0|                        0|                         0|                        0|       10|  1912|      BRO|\n",
      "|BRO191204110|          NY1|     2|           0|   1|    0|      0|          NULL|        0|         0|herzb101|          R|  herzb101|              R|ruckn101|           L|   ruckn101|               L|phele101|  daubj101|   hummj101|  smitr108| stard101|  wheaz101|    north101|   morah101|    merkf101|         NULL|        NULL|      DGR/9.1-3|           F|            F|                 5|              6|        21|                T|      T|        2|      F|      F|           0|               F|               F|          0|              F|               F|         0|            NULL|        F|        F|           9|         0|               0|             N|               0|             N|               0|             N|          2|                 3|                 0|                 0|          NULL|                 NULL|                 NULL|                 NULL|                        F|                        F|                        F|                        F|                        F|                        F|                        F|                        F|                        F|                             ruckn101|                                 NULL|                                 NULL|            F|            F|                  F|                  F|                  F|                                  NULL|                                  NULL|                                  NULL|                           NULL|                                          0|                        0|                         0|                        0|                        0|                         0|                        0|                         0|                        0|       11|  1912|      BRO|\n",
      "|BRO191204110|          NY1|     2|           0|   1|    0|      0|          NULL|        0|         0|shaft102|          R|  shaft102|              R|ruckn101|           L|   ruckn101|               L|phele101|  daubj101|   hummj101|  smitr108| stard101|  wheaz101|    north101|   morah101|        NULL|     herzb101|    merkf101|FC1.3XH(12);2-3|           F|            F|                 6|              7|        19|                T|      T|        0|      F|      F|           1|               F|               F|          0|              F|               F|         1|               G|        F|        F|        NULL|         0|               0|             N|               0|             N|               0|             N|          1|                 0|                 3|                 0|          NULL|                 NULL|                 NULL|                   12|                        F|                        F|                        F|                        F|                        F|                        F|                        F|                        F|                        F|                                 NULL|                             ruckn101|                             ruckn101|            F|            F|                  F|                  F|                  F|                                  NULL|                                  NULL|                                  NULL|                           NULL|                                          0|                        2|                         0|                        0|                        1|                         0|                        0|                         0|                        0|       12|  1912|      BRO|\n",
      "|BRO191204110|          NY1|     2|           0|   2|    0|      0|          NULL|        0|         0|meyec101|          R|  meyec101|              R|ruckn101|           L|   ruckn101|               L|phele101|  daubj101|   hummj101|  smitr108| stard101|  wheaz101|    north101|   morah101|    shaft102|         NULL|    herzb101|  DGR/8.3-H;1-3|           F|            F|                 2|              8|        21|                T|      T|        2|      F|      F|           0|               F|               F|          1|              F|               F|         0|            NULL|        F|        F|           8|         0|               0|             N|               0|             N|               0|             N|          2|                 3|                 0|                 4|          NULL|                 NULL|                 NULL|                 NULL|                        F|                        F|                        F|                        F|                        F|                        F|                        F|                        F|                        F|                             ruckn101|                                 NULL|                             ruckn101|            F|            F|                  F|                  F|                  F|                                  NULL|                                  NULL|                                  NULL|                           NULL|                                          0|                        0|                         0|                        0|                        0|                         0|                        0|                         0|                        0|       13|  1912|      BRO|\n",
      "|BRO191204110|          NY1|     2|           0|   2|    0|      0|          NULL|        1|         0|marqr102|          R|  marqr102|              R|ruckn101|           L|   ruckn101|               L|phele101|  daubj101|   hummj101|  smitr108| stard101|  wheaz101|    north101|   morah101|        NULL|     meyec101|    shaft102|  DGR/8.3-H;2-H|           F|            F|                 1|              9|        21|                T|      T|        2|      F|      F|           0|               F|               F|          2|              F|               F|         0|            NULL|        F|        F|           8|         0|               0|             N|               0|             N|               0|             N|          2|                 0|                 4|                 4|          NULL|                 NULL|                 NULL|                 NULL|                        F|                        F|                        F|                        F|                        F|                        F|                        F|                        F|                        F|                                 NULL|                             ruckn101|                             ruckn101|            F|            F|                  F|                  F|                  F|                                  NULL|                                  NULL|                                  NULL|                           NULL|                                          0|                        0|                         0|                        0|                        0|                         0|                        0|                         0|                        0|       14|  1912|      BRO|\n",
      "|BRO191204110|          NY1|     2|           0|   2|    0|      0|          NULL|        3|         0|devoj101|          L|  devoj101|              L|ruckn101|           L|   ruckn101|               L|phele101|  daubj101|   hummj101|  smitr108| stard101|  wheaz101|    north101|   morah101|        NULL|     marqr102|        NULL|             43|           F|            F|                 7|              1|         2|                T|      T|        0|      F|      F|           1|               F|               F|          0|              F|               F|         4|               G|        F|        F|        NULL|         0|               0|             N|               0|             N|               0|             N|          0|                 0|                 2|                 0|          43.0|                 NULL|                 NULL|                 NULL|                        F|                        F|                        F|                        F|                        F|                        F|                        F|                        F|                        F|                                 NULL|                             ruckn101|                                 NULL|            F|            F|                  F|                  F|                  F|                                  NULL|                                  NULL|                                  NULL|                           NULL|                                          0|                        3|                         0|                        0|                        4|                         0|                        0|                         0|                        0|       15|  1912|      BRO|\n",
      "|BRO191204110|          NY1|     2|           1|   0|    0|      0|          NULL|        3|         0|north101|          L|  north101|              L|marqr102|           L|   marqr102|               L|meyec101|  merkf101|   doyll101|  herzb101| shaft102|  devoj101|    snodf101|   murrr103|        NULL|         NULL|        NULL|            7/F|           T|            F|                 8|              4|         2|                T|      T|        0|      F|      F|           1|               F|               F|          0|              F|               F|         7|               F|        F|        F|        NULL|         0|               0|             N|               0|             N|               0|             N|          0|                 0|                 0|                 0|           7.0|                 NULL|                 NULL|                 NULL|                        F|                        F|                        F|                        F|                        F|                        F|                        F|                        F|                        F|                                 NULL|                                 NULL|                                 NULL|            F|            F|                  F|                  F|                  F|                                  NULL|                                  NULL|                                  NULL|                           NULL|                                          0|                        7|                         0|                        0|                        0|                         0|                        0|                         0|                        0|       16|  1912|      BRO|\n",
      "|BRO191204110|          NY1|     2|           1|   1|    0|      0|          NULL|        3|         0|wheaz101|          L|  wheaz101|              L|marqr102|           L|   marqr102|               L|meyec101|  merkf101|   doyll101|  herzb101| shaft102|  devoj101|    snodf101|   murrr103|        NULL|         NULL|        NULL|              W|           F|            F|                 7|              5|        14|                T|      F|        0|      F|      F|           0|               F|               F|          0|              F|               F|         0|            NULL|        F|        F|        NULL|         0|               0|             N|               0|             N|               0|             N|          1|                 0|                 0|                 0|          NULL|                 NULL|                 NULL|                 NULL|                        F|                        F|                        F|                        F|                        F|                        F|                        F|                        F|                        F|                                 NULL|                                 NULL|                                 NULL|            F|            F|                  F|                  F|                  F|                                  NULL|                                  NULL|                                  NULL|                           NULL|                                          0|                        0|                         0|                        0|                        0|                         0|                        0|                         0|                        0|       17|  1912|      BRO|\n",
      "|BRO191204110|          NY1|     2|           1|   1|    0|      0|          NULL|        3|         0|hummj101|          R|  hummj101|              R|marqr102|           L|   marqr102|               L|meyec101|  merkf101|   doyll101|  herzb101| shaft102|  devoj101|    snodf101|   murrr103|    wheaz101|         NULL|        NULL|            4/P|           F|            F|                 4|              6|         2|                T|      T|        0|      F|      F|           1|               F|               F|          0|              F|               F|         4|               P|        F|        F|        NULL|         0|               0|             N|               0|             N|               0|             N|          0|                 1|                 0|                 0|           4.0|                 NULL|                 NULL|                 NULL|                        F|                        F|                        F|                        F|                        F|                        F|                        F|                        F|                        F|                             marqr102|                                 NULL|                                 NULL|            F|            F|                  F|                  F|                  F|                                  NULL|                                  NULL|                                  NULL|                           NULL|                                          0|                        4|                         0|                        0|                        0|                         0|                        0|                         0|                        0|       18|  1912|      BRO|\n",
      "|BRO191204110|          NY1|     2|           1|   2|    0|      0|          NULL|        3|         0|stard101|          R|  stard101|              R|marqr102|           L|   marqr102|               L|meyec101|  merkf101|   doyll101|  herzb101| shaft102|  devoj101|    snodf101|   murrr103|    wheaz101|         NULL|        NULL|         S7.1-2|           F|            F|                 6|              7|        20|                T|      T|        1|      F|      F|           0|               F|               F|          0|              F|               F|         7|            NULL|        F|        F|        NULL|         0|               0|             N|               0|             N|               0|             N|          1|                 2|                 0|                 0|          NULL|                 NULL|                 NULL|                 NULL|                        F|                        F|                        F|                        F|                        F|                        F|                        F|                        F|                        F|                             marqr102|                                 NULL|                                 NULL|            F|            F|                  F|                  F|                  F|                                  NULL|                                  NULL|                                  NULL|                           NULL|                                          0|                        0|                         0|                        0|                        0|                         0|                        0|                         0|                        0|       19|  1912|      BRO|\n",
      "|BRO191204110|          NY1|     2|           1|   2|    0|      0|          NULL|        3|         0|phele101|          R|  phele101|              R|marqr102|           L|   marqr102|               L|meyec101|  merkf101|   doyll101|  herzb101| shaft102|  devoj101|    snodf101|   murrr103|    stard101|     wheaz101|        NULL|      W.2-3;1-2|           F|            F|                 2|              8|        14|                T|      F|        0|      F|      F|           0|               F|               F|          0|              F|               F|         0|            NULL|        F|        F|        NULL|         0|               0|             N|               0|             N|               0|             N|          1|                 2|                 3|                 0|          NULL|                 NULL|                 NULL|                 NULL|                        F|                        F|                        F|                        F|                        F|                        F|                        F|                        F|                        F|                             marqr102|                             marqr102|                                 NULL|            F|            F|                  F|                  F|                  F|                                  NULL|                                  NULL|                                  NULL|                           NULL|                                          0|                        0|                         0|                        0|                        0|                         0|                        0|                         0|                        0|       20|  1912|      BRO|\n",
      "+------------+-------------+------+------------+----+-----+-------+--------------+---------+----------+--------+-----------+----------+---------------+--------+------------+-----------+----------------+--------+----------+-----------+----------+---------+----------+------------+-----------+------------+-------------+------------+---------------+------------+-------------+------------------+---------------+----------+-----------------+-------+---------+-------+-------+------------+----------------+----------------+-----------+---------------+----------------+----------+----------------+---------+---------+------------+----------+----------------+--------------+----------------+--------------+----------------+--------------+-----------+------------------+------------------+------------------+--------------+---------------------+---------------------+---------------------+-------------------------+-------------------------+-------------------------+-------------------------+-------------------------+-------------------------+-------------------------+-------------------------+-------------------------+-------------------------------------+-------------------------------------+-------------------------------------+-------------+-------------+-------------------+-------------------+-------------------+--------------------------------------+--------------------------------------+--------------------------------------+-------------------------------+-------------------------------------------+-------------------------+--------------------------+-------------------------+-------------------------+--------------------------+-------------------------+--------------------------+-------------------------+---------+------+---------+\n",
      "only showing top 20 rows\n",
      "\n"
     ]
    }
   ],
   "execution_count": 59
  },
  {
   "metadata": {
    "ExecuteTime": {
     "end_time": "2025-05-11T22:15:34.143395Z",
     "start_time": "2025-05-11T22:15:23.320885Z"
    }
   },
   "cell_type": "code",
   "source": [
    "full_df.select(\n",
    "    F.min(\n",
    "        F.col('Season')\n",
    "    ).alias('Min Season of Data'),\n",
    "\n",
    "    F.max(\n",
    "        F.col('Season')\n",
    "    ).alias('Max Season of Data'),\n",
    ").distinct().show()"
   ],
   "id": "408af11db85e3260",
   "outputs": [
    {
     "name": "stderr",
     "output_type": "stream",
     "text": [
      "[Stage 190:=================================================>   (135 + 9) / 144]\r"
     ]
    },
    {
     "name": "stdout",
     "output_type": "stream",
     "text": [
      "+------------------+------------------+\n",
      "|Min Season of Data|Max Season of Data|\n",
      "+------------------+------------------+\n",
      "|              1912|              2024|\n",
      "+------------------+------------------+\n",
      "\n"
     ]
    },
    {
     "name": "stderr",
     "output_type": "stream",
     "text": [
      "                                                                                \r"
     ]
    }
   ],
   "execution_count": 33
  },
  {
   "metadata": {},
   "cell_type": "markdown",
   "source": "## Bring in the Biofile so we can get player names",
   "id": "a08424a7ccbec904"
  },
  {
   "metadata": {
    "ExecuteTime": {
     "end_time": "2025-05-11T22:15:41.634827Z",
     "start_time": "2025-05-11T22:15:41.363218Z"
    }
   },
   "cell_type": "code",
   "source": [
    "\n",
    "file_path = f'{os.getcwd()}/data/mlb_data/biofile.csv'\n",
    "bio_df = spark.read.csv(file_path, header=True, inferSchema=True)\n",
    "\n",
    "bio_df.show()"
   ],
   "id": "b89ce619e37fee5a",
   "outputs": [
    {
     "name": "stdout",
     "output_type": "stream",
     "text": [
      "+--------+-----------+----------------+--------+----------+------------+-------------+------------------+----------+-------------+---------+------------+-----------+--------------+----------+------------+----------+---------------+-----------+-------------+----+------+------+------+--------------------+---------------+------------+------------+---------+--------------------+--------+-------+----+\n",
      "|PLAYERID|       LAST|           FIRST|NICKNAME| BIRTHDATE|  BIRTH.CITY|  BIRTH.STATE|     BIRTH.COUNTRY|PLAY.DEBUT|PLAY.LASTGAME|MGR.DEBUT|MGR.LASTGAME|COACH.DEBUT|COACH.LASTGAME| UMP.DEBUT|UMP.LASTGAME| DEATHDATE|     DEATH.CITY|DEATH.STATE|DEATH.COUNTRY|BATS|THROWS|HEIGHT|WEIGHT|            CEMETERY|      CEME.CITY|  CEME.STATE|CEME.COUNTRY|CEME.NOTE|          BIRTH.NAME|NAME.CHG|BAT.CHG| HOF|\n",
      "+--------+-----------+----------------+--------+----------+------------+-------------+------------------+----------+-------------+---------+------------+-----------+--------------+----------+------------+----------+---------------+-----------+-------------+----+------+------+------+--------------------+---------------+------------+------------+---------+--------------------+--------+-------+----+\n",
      "|aardd001|    Aardsma|     David Allan|   David|12/27/1981|      Denver|     Colorado|               USA|04/06/2004|   08/23/2015|     NULL|        NULL|       NULL|          NULL|      NULL|        NULL|      NULL|           NULL|       NULL|         NULL|   R|     R|  6-05| 200.0|                NULL|           NULL|        NULL|        NULL|     NULL|                NULL|    NULL|   NULL|NULL|\n",
      "|aaroh101|      Aaron|     Henry Louis|    Hank|02/05/1934|      Mobile|      Alabama|               USA|04/13/1954|   10/03/1976|     NULL|        NULL|       NULL|          NULL|      NULL|        NULL|01/22/2021|        Atlanta|    Georgia|          USA|   R|     R|  6-00| 180.0| South-View Cemetery|        Atlanta|     Georgia|         USA|     NULL|                NULL|    NULL|   NULL| HOF|\n",
      "|aarot101|      Aaron|      Tommie Lee|  Tommie|08/05/1939|      Mobile|      Alabama|               USA|04/10/1962|   09/26/1971|     NULL|        NULL| 04/06/1979|    09/30/1984|      NULL|        NULL|08/16/1984|        Atlanta|    Georgia|          USA|   R|     R|  6-03| 190.0|   Catholic Cemetery|         Mobile|     Alabama|         USA|     NULL|                NULL|    NULL|   NULL|NULL|\n",
      "|aased001|       Aase|  Donald William|     Don|09/08/1954|      Orange|   California|               USA|07/26/1977|   10/03/1990|     NULL|        NULL|       NULL|          NULL|      NULL|        NULL|      NULL|           NULL|       NULL|         NULL|   R|     R|  6-03| 190.0|                NULL|           NULL|        NULL|        NULL|     NULL|                NULL|    NULL|   NULL|NULL|\n",
      "|abada001|       Abad|   Fausto Andres|    Andy|08/25/1972|  Palm Beach|      Florida|               USA|09/10/2001|   04/13/2006|     NULL|        NULL|       NULL|          NULL|      NULL|        NULL|      NULL|           NULL|       NULL|         NULL|   L|     L|  6-01| 184.0|                NULL|           NULL|        NULL|        NULL|     NULL|                NULL|    NULL|   NULL|NULL|\n",
      "|abadf001|       Abad|Fernando Antonio|Fernando|12/17/1985|   La Romana|    La Romana|Dominican Republic|07/28/2010|   07/18/2023|     NULL|        NULL|       NULL|          NULL|      NULL|        NULL|      NULL|           NULL|       NULL|         NULL|   L|     L|  6-02| 205.0|                NULL|           NULL|        NULL|        NULL|     NULL|                NULL|    NULL|   NULL|NULL|\n",
      "|abadj101|     Abadie|         John W.|    John|11/04/1850|Philadelphia| Pennsylvania|               USA|04/26/1875|   06/10/1875|     NULL|        NULL|       NULL|          NULL|      NULL|        NULL|05/17/1905|      Pemberton| New Jersey|          USA|   R|     R|  6-00| 192.0|  St. Denis Cemetery|      Havertown|Pennsylvania|         USA|     NULL|                NULL|    NULL|   NULL|NULL|\n",
      "|abbae101|Abbaticchio|    Edward James|      Ed|04/15/1877|     Latrobe| Pennsylvania|               USA|09/04/1897|   09/15/1910|     NULL|        NULL|       NULL|          NULL|      NULL|        NULL|01/06/1957|Fort Lauderdale|    Florida|          USA|   R|     R|  5-11| 170.0|   St. Mary Cemetery|        Latrobe|Pennsylvania|         USA|     NULL|                NULL|    NULL|   NULL|NULL|\n",
      "|abbeb101|      Abbey|       Bert Wood|    Bert|11/11/1869|       Essex|      Vermont|               USA|06/14/1892|   09/23/1896|     NULL|        NULL|       NULL|          NULL|      NULL|        NULL|06/11/1962|     Colchester|    Vermont|          USA|   R|     R|  5-11| 175.0|Mountain View Cem...| Essex Junction|     Vermont|         USA|     NULL|                NULL|    NULL|   NULL|NULL|\n",
      "|abbec101|      Abbey|      Charles S.| Charlie|10/14/1866|  Falls City|     Nebraska|               USA|08/16/1893|   08/19/1897|     NULL|        NULL|       NULL|          NULL|07/21/1897|  07/21/1897|04/27/1926|  San Francisco| California|          USA|   L|     L|5-08.5| 169.0|     Steele Cemetery|     Falls City|    Nebraska|         USA|     NULL|                NULL|    NULL|   NULL|NULL|\n",
      "|abboa001|     Abbott|     Andrew Cole|  Andrew|06/01/1999|   Lynchburg|     Virginia|               USA|06/05/2023|   08/18/2024|     NULL|        NULL|       NULL|          NULL|      NULL|        NULL|      NULL|           NULL|       NULL|         NULL|   L|     L|  6-00| 192.0|                NULL|           NULL|        NULL|        NULL|     NULL|                NULL|    NULL|   NULL|NULL|\n",
      "|abboc001|     Abbott|      Cory James|    Cory|09/20/1995|   San Diego|   California|               USA|06/05/2021|   10/01/2023|     NULL|        NULL|       NULL|          NULL|      NULL|        NULL|      NULL|           NULL|       NULL|         NULL|   R|     R|  6-01| 210.0|                NULL|           NULL|        NULL|        NULL|     NULL|                NULL|    NULL|   NULL|NULL|\n",
      "|abbod101|     Abbott|Leander Franklin|     Dan|03/16/1862|     Portage|         Ohio|               USA|04/19/1890|   05/23/1890|     NULL|        NULL|       NULL|          NULL|      NULL|        NULL|02/13/1930|    Ottawa Lake|   Michigan|          USA|   R|     R|  5-11| 190.0|     Weston Cemetery|         Weston|        Ohio|         USA|     NULL|                NULL|    NULL|   NULL|NULL|\n",
      "|abbof101|     Abbott| Harry Frederick|    Fred|10/22/1874|  Versailles|         Ohio|               USA|04/25/1903|   09/20/1905|     NULL|        NULL|       NULL|          NULL|08/21/1905|  09/09/1905|06/11/1935|    Los Angeles| California|          USA|   R|     R|  5-10| 180.0|Pierce Brothers V...|North Hollywood|  California|         USA|     NULL|Harry Frederick W...|    NULL|   NULL|NULL|\n",
      "|abbog001|     Abbott|   William Glenn|   Glenn|02/16/1951| Little Rock|     Arkansas|               USA|07/29/1973|   08/08/1984|     NULL|        NULL|       NULL|          NULL|      NULL|        NULL|      NULL|           NULL|       NULL|         NULL|   R|     R|  6-06| 200.0|                NULL|           NULL|        NULL|        NULL|     NULL|                NULL|    NULL|   NULL|NULL|\n",
      "|abboj001|     Abbott|   James Anthony|     Jim|09/19/1967|       Flint|     Michigan|               USA|04/08/1989|   07/21/1999|     NULL|        NULL|       NULL|          NULL|      NULL|        NULL|      NULL|           NULL|       NULL|         NULL|   L|     L|  6-03| 200.0|                NULL|           NULL|        NULL|        NULL|     NULL|                NULL|    NULL|   NULL|NULL|\n",
      "|abboj002|     Abbott| Jeffrey William|    Jeff|08/17/1972|     Atlanta|      Georgia|               USA|06/10/1997|   09/29/2001|     NULL|        NULL|       NULL|          NULL|      NULL|        NULL|      NULL|           NULL|       NULL|         NULL|   R|     L|  6-02| 190.0|                NULL|           NULL|        NULL|        NULL|     NULL|                NULL|    NULL|   NULL|NULL|\n",
      "|abboj101|     Abbott|     James Isaac|     Jim|12/15/1884|        NULL|     New York|               USA|      NULL|         NULL|     NULL|        NULL|       NULL|          NULL|      NULL|        NULL|      NULL|           NULL|       NULL|         NULL|NULL|     R|  NULL|  NULL|                NULL|           NULL|        NULL|        NULL|     NULL|                NULL|    NULL|   NULL|NULL|\n",
      "|abbok001|     Abbott|   Lawrence Kyle|    Kyle|02/18/1968| Newburyport|Massachusetts|               USA|09/10/1991|   08/24/1996|     NULL|        NULL|       NULL|          NULL|      NULL|        NULL|      NULL|           NULL|       NULL|         NULL|   L|     L|  6-04| 200.0|                NULL|           NULL|        NULL|        NULL|     NULL|                NULL|    NULL|   NULL|NULL|\n",
      "|abbok002|     Abbott|     Kurt Thomas|    Kurt|06/02/1969|  Zanesville|         Ohio|               USA|09/07/1993|   04/13/2001|     NULL|        NULL|       NULL|          NULL|      NULL|        NULL|      NULL|           NULL|       NULL|         NULL|   R|     R|  5-11| 180.0|                NULL|           NULL|        NULL|        NULL|     NULL|                NULL|    NULL|   NULL|NULL|\n",
      "+--------+-----------+----------------+--------+----------+------------+-------------+------------------+----------+-------------+---------+------------+-----------+--------------+----------+------------+----------+---------------+-----------+-------------+----+------+------+------+--------------------+---------------+------------+------------+---------+--------------------+--------+-------+----+\n",
      "only showing top 20 rows\n",
      "\n"
     ]
    }
   ],
   "execution_count": 34
  },
  {
   "metadata": {
    "ExecuteTime": {
     "end_time": "2025-05-12T04:58:36.422490Z",
     "start_time": "2025-05-12T04:58:36.401462Z"
    }
   },
   "cell_type": "code",
   "source": "bio_df.printSchema()",
   "id": "5a7c8c937a1e489d",
   "outputs": [
    {
     "name": "stdout",
     "output_type": "stream",
     "text": [
      "root\n",
      " |-- PLAYERID: string (nullable = true)\n",
      " |-- LAST: string (nullable = true)\n",
      " |-- FIRST: string (nullable = true)\n",
      " |-- NICKNAME: string (nullable = true)\n",
      " |-- BIRTHDATE: string (nullable = true)\n",
      " |-- BIRTH.CITY: string (nullable = true)\n",
      " |-- BIRTH.STATE: string (nullable = true)\n",
      " |-- BIRTH.COUNTRY: string (nullable = true)\n",
      " |-- PLAY.DEBUT: string (nullable = true)\n",
      " |-- PLAY.LASTGAME: string (nullable = true)\n",
      " |-- MGR.DEBUT: string (nullable = true)\n",
      " |-- MGR.LASTGAME: string (nullable = true)\n",
      " |-- COACH.DEBUT: string (nullable = true)\n",
      " |-- COACH.LASTGAME: string (nullable = true)\n",
      " |-- UMP.DEBUT: string (nullable = true)\n",
      " |-- UMP.LASTGAME: string (nullable = true)\n",
      " |-- DEATHDATE: string (nullable = true)\n",
      " |-- DEATH.CITY: string (nullable = true)\n",
      " |-- DEATH.STATE: string (nullable = true)\n",
      " |-- DEATH.COUNTRY: string (nullable = true)\n",
      " |-- BATS: string (nullable = true)\n",
      " |-- THROWS: string (nullable = true)\n",
      " |-- HEIGHT: string (nullable = true)\n",
      " |-- WEIGHT: double (nullable = true)\n",
      " |-- CEMETERY: string (nullable = true)\n",
      " |-- CEME.CITY: string (nullable = true)\n",
      " |-- CEME.STATE: string (nullable = true)\n",
      " |-- CEME.COUNTRY: string (nullable = true)\n",
      " |-- CEME.NOTE: string (nullable = true)\n",
      " |-- BIRTH.NAME: string (nullable = true)\n",
      " |-- NAME.CHG: string (nullable = true)\n",
      " |-- BAT.CHG: string (nullable = true)\n",
      " |-- HOF: string (nullable = true)\n",
      "\n"
     ]
    }
   ],
   "execution_count": 56
  },
  {
   "metadata": {
    "jupyter": {
     "is_executing": true
    },
    "ExecuteTime": {
     "start_time": "2025-05-11T18:21:49.222262Z"
    }
   },
   "cell_type": "code",
   "source": [
    "pandas_full = pd.DataFrame()\n",
    "for file in os.listdir(f'{os.getcwd()}/data/mlb_data'):\n",
    "    file_path = f'{os.getcwd()}/data/mlb_data/{file}'\n",
    "    print(f'Processing {file_path}')\n",
    "    df = pd.read_csv(file_path)\n",
    "\n",
    "    pandas_full = pd.concat([pandas_full, df])\n",
    "\n",
    "\n",
    "print(pandas_full.head())"
   ],
   "id": "316ab03d9bfec528",
   "outputs": [
    {
     "name": "stdout",
     "output_type": "stream",
     "text": [
      "Processing /home/jdwolfe/Spark-Projects/spark-learning-notebooks/data/mlb_data/full_1970s_pbp.csv\n"
     ]
    },
    {
     "name": "stderr",
     "output_type": "stream",
     "text": [
      "/tmp/ipykernel_1219/2705840558.py:5: DtypeWarning: Columns (7,50,64,65,84,85) have mixed types. Specify dtype option on import or set low_memory=False.\n",
      "  df = pd.read_csv(file_path)\n"
     ]
    },
    {
     "name": "stdout",
     "output_type": "stream",
     "text": [
      "Processing /home/jdwolfe/Spark-Projects/spark-learning-notebooks/data/mlb_data/full_2000s_pbp.csv\n"
     ]
    },
    {
     "name": "stderr",
     "output_type": "stream",
     "text": [
      "/tmp/ipykernel_1219/2705840558.py:5: DtypeWarning: Columns (63,64,65,85) have mixed types. Specify dtype option on import or set low_memory=False.\n",
      "  df = pd.read_csv(file_path)\n"
     ]
    },
    {
     "name": "stdout",
     "output_type": "stream",
     "text": [
      "Processing /home/jdwolfe/Spark-Projects/spark-learning-notebooks/data/mlb_data/full_1960s_pbp.csv\n"
     ]
    },
    {
     "name": "stderr",
     "output_type": "stream",
     "text": [
      "/tmp/ipykernel_1219/2705840558.py:5: DtypeWarning: Columns (7,50,64,65,85) have mixed types. Specify dtype option on import or set low_memory=False.\n",
      "  df = pd.read_csv(file_path)\n"
     ]
    },
    {
     "name": "stdout",
     "output_type": "stream",
     "text": [
      "Processing /home/jdwolfe/Spark-Projects/spark-learning-notebooks/data/mlb_data/full_1950s_pbp.csv\n"
     ]
    },
    {
     "name": "stderr",
     "output_type": "stream",
     "text": [
      "/tmp/ipykernel_1219/2705840558.py:5: DtypeWarning: Columns (7,64,65,85) have mixed types. Specify dtype option on import or set low_memory=False.\n",
      "  df = pd.read_csv(file_path)\n"
     ]
    }
   ],
   "execution_count": null
  },
  {
   "metadata": {},
   "cell_type": "markdown",
   "source": "### ^^ Pandas was taking almost 10 min here to process similar data to pyspark it didnt finish so I skipped it",
   "id": "5bddf20800509ab1"
  },
  {
   "metadata": {},
   "cell_type": "markdown",
   "source": "### All one inning cycle pitching leaders",
   "id": "eaf243e95650daa4"
  },
  {
   "metadata": {
    "ExecuteTime": {
     "end_time": "2025-05-11T22:38:33.441963Z",
     "start_time": "2025-05-11T22:38:12.016382Z"
    }
   },
   "cell_type": "code",
   "source": [
    "pitcher_inning_cycles = full_df.groupby('pitcher', 'game id', 'inning').agg(\n",
    "    F.sum(F.when(F.col('event type') == 20, 1).otherwise(0)).alias('singles'),\n",
    "    F.sum(F.when(F.col('event type') == 21, 1).otherwise(0)).alias('doubles'),\n",
    "    F.sum(F.when(F.col('event type') == 22, 1).otherwise(0)).alias('triples'),\n",
    "    F.sum(F.when(F.col('event type') == 23, 1).otherwise(0)).alias('home runs')\n",
    ")\n",
    "\n",
    "\n",
    "bio_select   = bio_df.select('PLAYERID', 'NICKNAME', 'LAST')\n",
    "\n",
    "\n",
    "pitcher_inning_cycles = pitcher_inning_cycles \\\n",
    "    .filter(\n",
    "        (F.col('singles') > 0) &\n",
    "        (F.col('doubles') > 0) &\n",
    "        (F.col('triples') > 0) &\n",
    "        (F.col('home runs') > 0)\n",
    "    ) \\\n",
    "    .groupby('pitcher') \\\n",
    "    .agg(\n",
    "    F.count('pitcher').alias('count')\n",
    ")\n",
    "\n",
    "\n",
    "\n",
    "pitcher_inning_cycles = pitcher_inning_cycles \\\n",
    "                        .join(bio_select, bio_select.PLAYERID == pitcher_inning_cycles.pitcher, 'left') \\\n",
    "                        .drop('PLAYERID', 'pitcher') \\\n",
    "                        .sort('count', ascending=False )  \\\n",
    "                        .show()\n",
    "\n",
    "\n",
    "\n"
   ],
   "id": "fb1132006a6931d7",
   "outputs": [
    {
     "name": "stderr",
     "output_type": "stream",
     "text": [
      "25/05/11 17:38:31 WARN RowBasedKeyValueBatch: Calling spill() on RowBasedKeyValueBatch. Will not spill but return 0.\n",
      "25/05/11 17:38:31 WARN RowBasedKeyValueBatch: Calling spill() on RowBasedKeyValueBatch. Will not spill but return 0.\n",
      "25/05/11 17:38:31 WARN RowBasedKeyValueBatch: Calling spill() on RowBasedKeyValueBatch. Will not spill but return 0.\n",
      "25/05/11 17:38:31 WARN RowBasedKeyValueBatch: Calling spill() on RowBasedKeyValueBatch. Will not spill but return 0.\n",
      "25/05/11 17:38:31 WARN RowBasedKeyValueBatch: Calling spill() on RowBasedKeyValueBatch. Will not spill but return 0.\n",
      "25/05/11 17:38:31 WARN RowBasedKeyValueBatch: Calling spill() on RowBasedKeyValueBatch. Will not spill but return 0.\n",
      "25/05/11 17:38:31 WARN RowBasedKeyValueBatch: Calling spill() on RowBasedKeyValueBatch. Will not spill but return 0.\n",
      "25/05/11 17:38:31 WARN RowBasedKeyValueBatch: Calling spill() on RowBasedKeyValueBatch. Will not spill but return 0.\n",
      "25/05/11 17:38:31 WARN RowBasedKeyValueBatch: Calling spill() on RowBasedKeyValueBatch. Will not spill but return 0.\n",
      "25/05/11 17:38:31 WARN RowBasedKeyValueBatch: Calling spill() on RowBasedKeyValueBatch. Will not spill but return 0.\n",
      "25/05/11 17:38:31 WARN RowBasedKeyValueBatch: Calling spill() on RowBasedKeyValueBatch. Will not spill but return 0.\n",
      "25/05/11 17:38:31 WARN RowBasedKeyValueBatch: Calling spill() on RowBasedKeyValueBatch. Will not spill but return 0.\n",
      "25/05/11 17:38:31 WARN RowBasedKeyValueBatch: Calling spill() on RowBasedKeyValueBatch. Will not spill but return 0.\n",
      "25/05/11 17:38:31 WARN RowBasedKeyValueBatch: Calling spill() on RowBasedKeyValueBatch. Will not spill but return 0.\n",
      "25/05/11 17:38:31 WARN RowBasedKeyValueBatch: Calling spill() on RowBasedKeyValueBatch. Will not spill but return 0.\n",
      "25/05/11 17:38:31 WARN RowBasedKeyValueBatch: Calling spill() on RowBasedKeyValueBatch. Will not spill but return 0.\n",
      "25/05/11 17:38:31 WARN RowBasedKeyValueBatch: Calling spill() on RowBasedKeyValueBatch. Will not spill but return 0.\n",
      "25/05/11 17:38:31 WARN RowBasedKeyValueBatch: Calling spill() on RowBasedKeyValueBatch. Will not spill but return 0.\n",
      "25/05/11 17:38:31 WARN RowBasedKeyValueBatch: Calling spill() on RowBasedKeyValueBatch. Will not spill but return 0.\n",
      "25/05/11 17:38:31 WARN RowBasedKeyValueBatch: Calling spill() on RowBasedKeyValueBatch. Will not spill but return 0.\n",
      "25/05/11 17:38:31 WARN RowBasedKeyValueBatch: Calling spill() on RowBasedKeyValueBatch. Will not spill but return 0.\n",
      "25/05/11 17:38:31 WARN RowBasedKeyValueBatch: Calling spill() on RowBasedKeyValueBatch. Will not spill but return 0.\n",
      "25/05/11 17:38:32 WARN RowBasedKeyValueBatch: Calling spill() on RowBasedKeyValueBatch. Will not spill but return 0.\n",
      "25/05/11 17:38:32 WARN RowBasedKeyValueBatch: Calling spill() on RowBasedKeyValueBatch. Will not spill but return 0.\n"
     ]
    },
    {
     "name": "stdout",
     "output_type": "stream",
     "text": [
      "+-----+--------+----------+\n",
      "|count|NICKNAME|      LAST|\n",
      "+-----+--------+----------+\n",
      "|    6|   Edwin|   Jackson|\n",
      "|    4|  Nelson|    Briles|\n",
      "|    4|   Lance|      Lynn|\n",
      "|    3|   Kevin|  Millwood|\n",
      "|    3|     Bob|    Forsch|\n",
      "|    3|   Jesse|    Haines|\n",
      "|    3|    Kyle|    Davies|\n",
      "|    3|     Don|  Cardwell|\n",
      "|    3|    Bill|      Doak|\n",
      "|    3|  Felipe|   Paulino|\n",
      "|    3|     Red|     Lucas|\n",
      "|    3|     Bob|    Friend|\n",
      "|    3|    Carl|   Hubbell|\n",
      "|    3|     Jim|     Owens|\n",
      "|    3|     Sid|    Hudson|\n",
      "|    3|      Ed|    Brandt|\n",
      "|    3|    Milt|    Pappas|\n",
      "|    3|    Bill|Gullickson|\n",
      "|    3|    Bill|    Wegman|\n",
      "|    3|     Red|   Ruffing|\n",
      "+-----+--------+----------+\n",
      "only showing top 20 rows\n",
      "\n"
     ]
    },
    {
     "name": "stderr",
     "output_type": "stream",
     "text": [
      "                                                                                \r"
     ]
    }
   ],
   "execution_count": 47
  },
  {
   "metadata": {},
   "cell_type": "markdown",
   "source": "## Cycles by Players Leaders",
   "id": "df1bf2fd01e5e027"
  },
  {
   "metadata": {
    "ExecuteTime": {
     "end_time": "2025-05-11T22:40:19.256061Z",
     "start_time": "2025-05-11T22:40:02.877917Z"
    }
   },
   "cell_type": "code",
   "source": [
    "bio_select   = bio_df.select('PLAYERID', 'NICKNAME', 'LAST')\n",
    "\n",
    "cycle_batters = full_df.groupby('batter', 'game id').agg(\n",
    "    F.sum(F.when(F.col('event type') == 20, 1).otherwise(0)).alias('singles'),\n",
    "    F.sum(F.when(F.col('event type') == 21, 1).otherwise(0)).alias('doubles'),\n",
    "    F.sum(F.when(F.col('event type') == 22, 1).otherwise(0)).alias('triples'),\n",
    "    F.sum(F.when(F.col('event type') == 23, 1).otherwise(0)).alias('home runs')\n",
    "    ) \\\n",
    "    .filter(\n",
    "\n",
    "        (F.col('singles') > 0) &\n",
    "        (F.col('doubles') > 0) &\n",
    "        (F.col('triples') > 0) &\n",
    "        (F.col('home runs') > 0)\n",
    "\n",
    "    ).groupby('batter') \\\n",
    "    .agg(\n",
    "    F.count('batter').alias('count')\n",
    ")\n",
    "\n",
    "cycle_batters = cycle_batters \\\n",
    "                .join(bio_select, bio_select.PLAYERID == cycle_batters.batter, 'left') \\\n",
    "                .sort('count', ascending=False ) .show()\n",
    "\n"
   ],
   "id": "94b9d297382b7099",
   "outputs": [
    {
     "name": "stderr",
     "output_type": "stream",
     "text": [
      "25/05/11 17:40:17 WARN RowBasedKeyValueBatch: Calling spill() on RowBasedKeyValueBatch. Will not spill but return 0.\n",
      "25/05/11 17:40:17 WARN RowBasedKeyValueBatch: Calling spill() on RowBasedKeyValueBatch. Will not spill but return 0.\n",
      "25/05/11 17:40:17 WARN RowBasedKeyValueBatch: Calling spill() on RowBasedKeyValueBatch. Will not spill but return 0.\n",
      "25/05/11 17:40:17 WARN RowBasedKeyValueBatch: Calling spill() on RowBasedKeyValueBatch. Will not spill but return 0.\n",
      "25/05/11 17:40:17 WARN RowBasedKeyValueBatch: Calling spill() on RowBasedKeyValueBatch. Will not spill but return 0.\n",
      "25/05/11 17:40:17 WARN RowBasedKeyValueBatch: Calling spill() on RowBasedKeyValueBatch. Will not spill but return 0.\n",
      "25/05/11 17:40:17 WARN RowBasedKeyValueBatch: Calling spill() on RowBasedKeyValueBatch. Will not spill but return 0.\n",
      "25/05/11 17:40:17 WARN RowBasedKeyValueBatch: Calling spill() on RowBasedKeyValueBatch. Will not spill but return 0.\n",
      "25/05/11 17:40:17 WARN RowBasedKeyValueBatch: Calling spill() on RowBasedKeyValueBatch. Will not spill but return 0.\n",
      "25/05/11 17:40:17 WARN RowBasedKeyValueBatch: Calling spill() on RowBasedKeyValueBatch. Will not spill but return 0.\n",
      "25/05/11 17:40:17 WARN RowBasedKeyValueBatch: Calling spill() on RowBasedKeyValueBatch. Will not spill but return 0.\n",
      "25/05/11 17:40:17 WARN RowBasedKeyValueBatch: Calling spill() on RowBasedKeyValueBatch. Will not spill but return 0.\n",
      "25/05/11 17:40:17 WARN RowBasedKeyValueBatch: Calling spill() on RowBasedKeyValueBatch. Will not spill but return 0.\n",
      "25/05/11 17:40:17 WARN RowBasedKeyValueBatch: Calling spill() on RowBasedKeyValueBatch. Will not spill but return 0.\n",
      "25/05/11 17:40:17 WARN RowBasedKeyValueBatch: Calling spill() on RowBasedKeyValueBatch. Will not spill but return 0.\n",
      "25/05/11 17:40:17 WARN RowBasedKeyValueBatch: Calling spill() on RowBasedKeyValueBatch. Will not spill but return 0.\n",
      "25/05/11 17:40:17 WARN RowBasedKeyValueBatch: Calling spill() on RowBasedKeyValueBatch. Will not spill but return 0.\n",
      "25/05/11 17:40:17 WARN RowBasedKeyValueBatch: Calling spill() on RowBasedKeyValueBatch. Will not spill but return 0.\n",
      "25/05/11 17:40:17 WARN RowBasedKeyValueBatch: Calling spill() on RowBasedKeyValueBatch. Will not spill but return 0.\n",
      "25/05/11 17:40:17 WARN RowBasedKeyValueBatch: Calling spill() on RowBasedKeyValueBatch. Will not spill but return 0.\n",
      "25/05/11 17:40:17 WARN RowBasedKeyValueBatch: Calling spill() on RowBasedKeyValueBatch. Will not spill but return 0.\n",
      "25/05/11 17:40:17 WARN RowBasedKeyValueBatch: Calling spill() on RowBasedKeyValueBatch. Will not spill but return 0.\n",
      "25/05/11 17:40:17 WARN RowBasedKeyValueBatch: Calling spill() on RowBasedKeyValueBatch. Will not spill but return 0.\n",
      "25/05/11 17:40:17 WARN RowBasedKeyValueBatch: Calling spill() on RowBasedKeyValueBatch. Will not spill but return 0.\n"
     ]
    },
    {
     "name": "stdout",
     "output_type": "stream",
     "text": [
      "+--------+-----+--------+---------+---------+\n",
      "|  batter|count|PLAYERID| NICKNAME|     LAST|\n",
      "+--------+-----+--------+---------+---------+\n",
      "|meusb101|    3|meusb101|      Bob|   Meusel|\n",
      "|yelic001|    3|yelic001|Christian|   Yelich|\n",
      "|belta001|    3|belta001|   Adrian|   Beltre|\n",
      "|hermb102|    3|hermb102|     Babe|   Herman|\n",
      "|turnt001|    3|turnt001|     Trea|   Turner|\n",
      "|watsb001|    2|watsb001|      Bob|   Watson|\n",
      "|gehrl101|    2|gehrl101|      Lou|   Gehrig|\n",
      "|olerj001|    2|olerj001|     John|   Olerud|\n",
      "|speic001|    2|speic001|    Chris|   Speier|\n",
      "|westw102|    2|westw102|    Wally| Westlake|\n",
      "|freef001|    2|freef001|  Freddie|  Freeman|\n",
      "|arenn001|    2|arenn001|    Nolan|  Arenado|\n",
      "|wilkb002|    2|wilkb002|     Brad|Wilkerson|\n",
      "|boyek101|    2|boyek101|      Ken|    Boyer|\n",
      "|fregj101|    2|fregj101|      Jim|  Fregosi|\n",
      "|kleic101|    2|kleic101|    Chuck|    Klein|\n",
      "|gomec002|    2|gomec002|   Carlos|    Gomez|\n",
      "|hilla001|    2|hilla001|    Aaron|     Hill|\n",
      "|cuddm001|    2|cuddm001|  Michael|  Cuddyer|\n",
      "|vauga101|    2|vauga101|     Arky|  Vaughan|\n",
      "+--------+-----+--------+---------+---------+\n",
      "only showing top 20 rows\n",
      "\n"
     ]
    },
    {
     "name": "stderr",
     "output_type": "stream",
     "text": [
      "                                                                                \r"
     ]
    }
   ],
   "execution_count": 48
  },
  {
   "metadata": {},
   "cell_type": "markdown",
   "source": "## Hit Leaders",
   "id": "418dbc20c5968662"
  },
  {
   "metadata": {
    "ExecuteTime": {
     "end_time": "2025-05-11T22:43:37.773083Z",
     "start_time": "2025-05-11T22:43:25.830889Z"
    }
   },
   "cell_type": "code",
   "source": [
    "bio_select   = bio_df.select('PLAYERID', 'NICKNAME', 'LAST')\n",
    "\n",
    "\n",
    "hit_leaders = full_df.groupby('batter').agg(\n",
    "    F.sum(F.when(F.col('event type').isin(20,21,22,23), 1).otherwise(0)).alias('total_hits')\n",
    "\n",
    ")\n",
    "\n",
    "hit_leaders \\\n",
    "            .join(bio_select, bio_select.PLAYERID == hit_leaders.batter, 'left') \\\n",
    "            .select('NICKNAME', 'LAST', 'total_hits') \\\n",
    "            .sort('total_hits', ascending=False) .show()"
   ],
   "id": "fdff49e9148db70c",
   "outputs": [
    {
     "name": "stderr",
     "output_type": "stream",
     "text": [
      "[Stage 347:==================================================>  (136 + 8) / 144]\r"
     ]
    },
    {
     "name": "stdout",
     "output_type": "stream",
     "text": [
      "+--------+-----------+----------+\n",
      "|NICKNAME|       LAST|total_hits|\n",
      "+--------+-----------+----------+\n",
      "|    Pete|       Rose|      4256|\n",
      "|    Hank|      Aaron|      3698|\n",
      "|   Derek|      Jeter|      3465|\n",
      "|    Carl|Yastrzemski|      3419|\n",
      "|  Albert|     Pujols|      3384|\n",
      "|    Paul|    Molitor|      3319|\n",
      "|    Stan|     Musial|      3317|\n",
      "|   Eddie|     Murray|      3255|\n",
      "|  Willie|       Mays|      3238|\n",
      "|     Cal|     Ripken|      3184|\n",
      "|  Miguel|    Cabrera|      3174|\n",
      "|  Adrian|     Beltre|      3166|\n",
      "|  George|      Brett|      3154|\n",
      "|   Robin|      Yount|      3142|\n",
      "|    Tony|      Gwynn|      3141|\n",
      "|    Alex|  Rodriguez|      3115|\n",
      "|    Dave|   Winfield|      3110|\n",
      "|  Ichiro|     Suzuki|      3089|\n",
      "|   Craig|     Biggio|      3060|\n",
      "|  Rickey|  Henderson|      3055|\n",
      "+--------+-----------+----------+\n",
      "only showing top 20 rows\n",
      "\n"
     ]
    },
    {
     "name": "stderr",
     "output_type": "stream",
     "text": [
      "                                                                                \r"
     ]
    }
   ],
   "execution_count": 50
  },
  {
   "metadata": {},
   "cell_type": "markdown",
   "source": "## Home run Leaders",
   "id": "87f71a7dd32ee62f"
  },
  {
   "metadata": {
    "ExecuteTime": {
     "end_time": "2025-05-12T04:50:18.185227Z",
     "start_time": "2025-05-12T04:49:55.888476Z"
    }
   },
   "cell_type": "code",
   "source": [
    "bio_select   = bio_df.select('PLAYERID', 'NICKNAME', 'LAST')\n",
    "\n",
    "\n",
    "hit_leaders = full_df.groupby('batter').agg(\n",
    "    F.sum(F.when(F.col('event type') == 23, 1).otherwise(0)).alias('total_hrs')\n",
    "\n",
    ")\n",
    "\n",
    "hit_leaders \\\n",
    "            .join(bio_select, bio_select.PLAYERID == hit_leaders.batter, 'left') \\\n",
    "            .select('NICKNAME', 'LAST', 'total_hrs') \\\n",
    "            .sort('total_hrs', ascending=False) .show()"
   ],
   "id": "45447e4d3e2dd24a",
   "outputs": [
    {
     "name": "stderr",
     "output_type": "stream",
     "text": [
      "[Stage 380:====================================================>(143 + 1) / 144]\r"
     ]
    },
    {
     "name": "stdout",
     "output_type": "stream",
     "text": [
      "+--------+---------+---------+\n",
      "|NICKNAME|     LAST|total_hrs|\n",
      "+--------+---------+---------+\n",
      "|   Barry|    Bonds|      762|\n",
      "|    Hank|    Aaron|      747|\n",
      "|  Albert|   Pujols|      703|\n",
      "|    Babe|     Ruth|      698|\n",
      "|    Alex|Rodriguez|      696|\n",
      "|  Willie|     Mays|      655|\n",
      "|     Ken|  Griffey|      630|\n",
      "|     Jim|    Thome|      612|\n",
      "|   Sammy|     Sosa|      609|\n",
      "|   Frank| Robinson|      586|\n",
      "|    Mark|  McGwire|      583|\n",
      "|  Harmon|Killebrew|      573|\n",
      "|  Rafael| Palmeiro|      569|\n",
      "|  Reggie|  Jackson|      563|\n",
      "|   Manny|  Ramirez|      555|\n",
      "|    Mike|  Schmidt|      548|\n",
      "|   David|    Ortiz|      541|\n",
      "|  Mickey|   Mantle|      536|\n",
      "|  Willie|  McCovey|      521|\n",
      "|   Frank|   Thomas|      521|\n",
      "+--------+---------+---------+\n",
      "only showing top 20 rows\n",
      "\n"
     ]
    },
    {
     "name": "stderr",
     "output_type": "stream",
     "text": [
      "                                                                                \r"
     ]
    }
   ],
   "execution_count": 55
  },
  {
   "metadata": {
    "ExecuteTime": {
     "end_time": "2025-05-11T22:45:30.221725Z",
     "start_time": "2025-05-11T22:45:18.011780Z"
    }
   },
   "cell_type": "code",
   "source": [
    "bio_select   = bio_df.select('PLAYERID', 'NICKNAME', 'LAST')\n",
    "\n",
    "HIT_LEADERS_2000 = (full_df\n",
    ".filter(F.col('Season') >= 2000)\n",
    " .groupby('batter').agg(\n",
    "    F.sum(F.when(F.col('event type').isin(20,21,22,23), 1).otherwise(0)).alias('total_hits')\n",
    "\n",
    "))\n",
    "\n",
    "\n",
    "HIT_LEADERS_2000 \\\n",
    "            .join(bio_select, bio_select.PLAYERID == hit_leaders.batter, 'left') \\\n",
    "            .select('NICKNAME', 'LAST', 'total_hits') \\\n",
    "            .sort('total_hits', ascending=False) .show()"
   ],
   "id": "7a9a7155792e10b9",
   "outputs": [
    {
     "name": "stderr",
     "output_type": "stream",
     "text": [
      "[Stage 354:===============================================>    (132 + 12) / 144]\r"
     ]
    },
    {
     "name": "stdout",
     "output_type": "stream",
     "text": [
      "+--------+---------+----------+\n",
      "|NICKNAME|     LAST|total_hits|\n",
      "+--------+---------+----------+\n",
      "|  Albert|   Pujols|      3384|\n",
      "|  Miguel|  Cabrera|      3174|\n",
      "|  Ichiro|   Suzuki|      3089|\n",
      "|  Adrian|   Beltre|      2976|\n",
      "|   Derek|    Jeter|      2658|\n",
      "|Robinson|     Cano|      2639|\n",
      "|  Carlos|  Beltran|      2515|\n",
      "|   Jimmy|  Rollins|      2455|\n",
      "|    Nick| Markakis|      2388|\n",
      "|   David|    Ortiz|      2379|\n",
      "| Michael|    Young|      2375|\n",
      "|   Torii|   Hunter|      2350|\n",
      "|    Alex|Rodriguez|      2324|\n",
      "| Freddie|  Freeman|      2267|\n",
      "|  Aramis|  Ramirez|      2234|\n",
      "|    Jose|   Altuve|      2232|\n",
      "|    Juan|   Pierre|      2217|\n",
      "|  Yadier|   Molina|      2168|\n",
      "|  Miguel|   Tejada|      2153|\n",
      "|  Victor| Martinez|      2153|\n",
      "+--------+---------+----------+\n",
      "only showing top 20 rows\n",
      "\n"
     ]
    },
    {
     "name": "stderr",
     "output_type": "stream",
     "text": [
      "                                                                                \r"
     ]
    }
   ],
   "execution_count": 52
  },
  {
   "metadata": {
    "ExecuteTime": {
     "end_time": "2025-05-11T22:47:10.294830Z",
     "start_time": "2025-05-11T22:46:58.340554Z"
    }
   },
   "cell_type": "code",
   "source": [
    "bio_select   = bio_df.select('PLAYERID', 'NICKNAME', 'LAST')\n",
    "\n",
    "HIT_LEADERS_2010 = (full_df\n",
    ".filter(F.col('Season') >= 2010)\n",
    " .groupby('batter').agg(\n",
    "    F.sum(F.when(F.col('event type').isin(20,21,22,23), 1).otherwise(0)).alias('total_hits')\n",
    "\n",
    "))\n",
    "\n",
    "\n",
    "HIT_LEADERS_2010 \\\n",
    "            .join(bio_select, bio_select.PLAYERID == hit_leaders.batter, 'left') \\\n",
    "            .select('NICKNAME', 'LAST', 'total_hits') \\\n",
    "            .sort('total_hits', ascending=False) .show()"
   ],
   "id": "692a97148dca2075",
   "outputs": [
    {
     "name": "stderr",
     "output_type": "stream",
     "text": [
      "[Stage 358:====================================================>(142 + 2) / 144]\r"
     ]
    },
    {
     "name": "stdout",
     "output_type": "stream",
     "text": [
      "+--------+-----------+----------+\n",
      "|NICKNAME|       LAST|total_hits|\n",
      "+--------+-----------+----------+\n",
      "| Freddie|    Freeman|      2267|\n",
      "|    Jose|     Altuve|      2232|\n",
      "|    Paul|Goldschmidt|      2056|\n",
      "|  Andrew|  McCutchen|      2028|\n",
      "|   Elvis|     Andrus|      1963|\n",
      "|  Miguel|    Cabrera|      1954|\n",
      "|   Manny|    Machado|      1900|\n",
      "|   Nolan|    Arenado|      1826|\n",
      "| Charlie|   Blackmon|      1805|\n",
      "|    Joey|      Votto|      1801|\n",
      "|  Nelson|       Cruz|      1793|\n",
      "|  Carlos|    Santana|      1789|\n",
      "|Robinson|       Cano|      1764|\n",
      "|    Eric|     Hosmer|      1753|\n",
      "|    J.D.|   Martinez|      1741|\n",
      "|      DJ|   LeMahieu|      1738|\n",
      "| Starlin|     Castro|      1722|\n",
      "|  Xander|   Bogaerts|      1693|\n",
      "|    Nick|   Markakis|      1684|\n",
      "|   Bryce|     Harper|      1670|\n",
      "+--------+-----------+----------+\n",
      "only showing top 20 rows\n",
      "\n"
     ]
    },
    {
     "name": "stderr",
     "output_type": "stream",
     "text": [
      "                                                                                \r"
     ]
    }
   ],
   "execution_count": 53
  },
  {
   "metadata": {},
   "cell_type": "markdown",
   "source": "## Hit Leader for Every Season",
   "id": "e4091587066223ef"
  },
  {
   "metadata": {
    "ExecuteTime": {
     "end_time": "2025-05-12T01:58:19.918062Z",
     "start_time": "2025-05-12T01:57:36.866039Z"
    }
   },
   "cell_type": "code",
   "source": [
    "window_for_hit_leaders = Window.partitionBy(\"Season\",).orderBy(F.desc(\"total_hits\"))\n",
    "\n",
    "\n",
    "season_hit_leaders = full_df \\\n",
    " .groupby('batter', 'Season').agg(\n",
    "    F.sum(F.when(F.col('event type').isin(20,21,22,23), 1).otherwise(0)).alias('total_hits')\n",
    ")\\\n",
    "    .withColumn('season_rank', F.rank().over(window_for_hit_leaders)) \\\n",
    "    .filter(F.col('season_rank') == 1) \\\n",
    "    .drop('season_rank')\n",
    "\n",
    "bio_select   = bio_df.select('PLAYERID', 'NICKNAME', 'LAST')\n",
    "\n",
    "season_hit_leaders = season_hit_leaders.join(bio_select, bio_select.PLAYERID == season_hit_leaders.batter) \\\n",
    "                    .drop('PLAYERID', 'batter') \\\n",
    "                    .select('NICKNAME', 'LAST', 'Season', 'total_hits')\n",
    "\n",
    "\n",
    "season_hit_leaders.show(season_hit_leaders.count())"
   ],
   "id": "15843619ee72fd0a",
   "outputs": [
    {
     "name": "stderr",
     "output_type": "stream",
     "text": [
      "[Stage 373:===================================================> (140 + 4) / 144]\r"
     ]
    },
    {
     "name": "stdout",
     "output_type": "stream",
     "text": [
      "+------------+--------------+------+----------+\n",
      "|    NICKNAME|          LAST|Season|total_hits|\n",
      "+------------+--------------+------+----------+\n",
      "|          Ty|          Cobb|  1912|       226|\n",
      "|Shoeless Joe|       Jackson|  1912|       226|\n",
      "|         Max|         Carey|  1913|       171|\n",
      "|        Tris|       Speaker|  1914|       187|\n",
      "|          Ty|          Cobb|  1915|       208|\n",
      "|        Tris|       Speaker|  1916|       196|\n",
      "|          Ty|          Cobb|  1917|       225|\n",
      "|      George|         Burns|  1918|       177|\n",
      "|       Bobby|         Veach|  1919|       189|\n",
      "|      George|        Sisler|  1920|       257|\n",
      "|        Jack|         Tobin|  1921|       230|\n",
      "|      Rogers|       Hornsby|  1921|       230|\n",
      "|      Rogers|       Hornsby|  1922|       248|\n",
      "|     Frankie|        Frisch|  1923|       220|\n",
      "|        Zack|         Wheat|  1924|       209|\n",
      "|      Rogers|       Hornsby|  1924|       209|\n",
      "|          Al|       Simmons|  1925|       248|\n",
      "|      George|         Burns|  1926|       217|\n",
      "|        Paul|         Waner|  1927|       237|\n",
      "|     Freddie|     Lindstrom|  1928|       228|\n",
      "|       Lefty|        O'Doul|  1929|       245|\n",
      "|        Bill|         Terry|  1930|       250|\n",
      "|       Lloyd|         Waner|  1931|       206|\n",
      "|          Al|       Simmons|  1932|       215|\n",
      "|       Chuck|         Klein|  1933|       211|\n",
      "|     Charlie|     Gehringer|  1934|       210|\n",
      "|       Billy|        Herman|  1935|       217|\n",
      "|        Earl|       Averill|  1936|       231|\n",
      "|         Joe|       Medwick|  1937|       230|\n",
      "|       Frank|     McCormick|  1938|       209|\n",
      "|         Red|         Rolfe|  1939|       213|\n",
      "|       Frank|     McCormick|  1940|       191|\n",
      "|       Cecil|        Travis|  1941|       196|\n",
      "|      Johnny|         Pesky|  1942|       184|\n",
      "|        Stan|        Musial|  1943|       197|\n",
      "|       Dixie|        Walker|  1944|       188|\n",
      "|       Goody|         Rosen|  1945|       197|\n",
      "|        Stan|        Musial|  1946|       215|\n",
      "|       Frank|     Baumholtz|  1947|       182|\n",
      "|        Dale|      Mitchell|  1948|       204|\n",
      "|        Dale|      Mitchell|  1949|       203|\n",
      "|      Jackie|      Robinson|  1949|       203|\n",
      "|        Duke|        Snider|  1950|       199|\n",
      "|      Richie|       Ashburn|  1951|       203|\n",
      "|      Nellie|           Fox|  1952|       192|\n",
      "|      Harvey|         Kuenn|  1953|       209|\n",
      "|         Don|       Mueller|  1954|       205|\n",
      "|          Al|        Kaline|  1955|       200|\n",
      "|      Harvey|         Kuenn|  1956|       196|\n",
      "|         Red|  Schoendienst|  1957|       200|\n",
      "|      Richie|       Ashburn|  1958|       215|\n",
      "|        Hank|         Aaron|  1959|       223|\n",
      "|      Willie|          Mays|  1960|       190|\n",
      "|        Vada|        Pinson|  1961|       208|\n",
      "|       Tommy|         Davis|  1962|       230|\n",
      "|        Vada|        Pinson|  1963|       204|\n",
      "|        Tony|         Oliva|  1964|       217|\n",
      "|        Pete|          Rose|  1965|       209|\n",
      "|      Felipe|          Alou|  1966|       214|\n",
      "|     Roberto|      Clemente|  1967|       206|\n",
      "|         Lou|         Brock|  1967|       206|\n",
      "|        Pete|          Rose|  1968|       210|\n",
      "|       Matty|          Alou|  1969|       231|\n",
      "|       Billy|      Williams|  1970|       205|\n",
      "|        Pete|          Rose|  1970|       205|\n",
      "|         Joe|         Torre|  1971|       230|\n",
      "|        Pete|          Rose|  1972|       198|\n",
      "|        Pete|          Rose|  1973|       230|\n",
      "|         Rod|         Carew|  1974|       218|\n",
      "|        Dave|          Cash|  1975|       213|\n",
      "|        Pete|          Rose|  1976|       215|\n",
      "|      George|         Brett|  1976|       215|\n",
      "|         Rod|         Carew|  1977|       239|\n",
      "|         Jim|          Rice|  1978|       213|\n",
      "|      George|         Brett|  1979|       212|\n",
      "|      Willie|        Wilson|  1980|       230|\n",
      "|        Pete|          Rose|  1981|       140|\n",
      "|       Robin|         Yount|  1982|       210|\n",
      "|         Cal|        Ripken|  1983|       211|\n",
      "|        Tony|         Gwynn|  1984|       213|\n",
      "|        Wade|         Boggs|  1985|       240|\n",
      "|         Don|     Mattingly|  1986|       238|\n",
      "|        Tony|         Gwynn|  1987|       218|\n",
      "|       Kirby|       Puckett|  1988|       234|\n",
      "|       Kirby|       Puckett|  1989|       215|\n",
      "|      Willie|         McGee|  1990|       199|\n",
      "|        Paul|       Molitor|  1991|       216|\n",
      "|       Kirby|       Puckett|  1992|       210|\n",
      "|        Paul|       Molitor|  1993|       211|\n",
      "|        Tony|         Gwynn|  1994|       165|\n",
      "|       Dante|      Bichette|  1995|       197|\n",
      "|        Tony|         Gwynn|  1995|       197|\n",
      "|       Lance|       Johnson|  1996|       227|\n",
      "|        Tony|         Gwynn|  1997|       220|\n",
      "|       Dante|      Bichette|  1998|       219|\n",
      "|       Derek|         Jeter|  1999|       219|\n",
      "|       Darin|        Erstad|  2000|       240|\n",
      "|      Ichiro|        Suzuki|  2001|       242|\n",
      "|     Alfonso|       Soriano|  2002|       209|\n",
      "|      Vernon|         Wells|  2003|       215|\n",
      "|      Ichiro|        Suzuki|  2004|       262|\n",
      "|     Michael|         Young|  2005|       221|\n",
      "|      Ichiro|        Suzuki|  2006|       224|\n",
      "|      Ichiro|        Suzuki|  2007|       238|\n",
      "|      Ichiro|        Suzuki|  2008|       213|\n",
      "|      Dustin|       Pedroia|  2008|       213|\n",
      "|      Ichiro|        Suzuki|  2009|       225|\n",
      "|      Ichiro|        Suzuki|  2010|       214|\n",
      "|      Adrian|      Gonzalez|  2011|       213|\n",
      "|     Michael|         Young|  2011|       213|\n",
      "|       Derek|         Jeter|  2012|       216|\n",
      "|        Matt|     Carpenter|  2013|       199|\n",
      "|      Adrian|        Beltre|  2013|       199|\n",
      "|        Jose|        Altuve|  2014|       225|\n",
      "|         Dee|Strange-Gordon|  2015|       205|\n",
      "|        Jose|        Altuve|  2016|       216|\n",
      "|     Charlie|      Blackmon|  2017|       213|\n",
      "|        Whit|    Merrifield|  2018|       192|\n",
      "|        Whit|    Merrifield|  2019|       206|\n",
      "|        Trea|        Turner|  2020|        78|\n",
      "|        Trea|        Turner|  2021|       195|\n",
      "|     Freddie|       Freeman|  2022|       199|\n",
      "|      Ronald|         Acuna|  2023|       217|\n",
      "|       Bobby|          Witt|  2024|       211|\n",
      "+------------+--------------+------+----------+\n",
      "\n"
     ]
    },
    {
     "name": "stderr",
     "output_type": "stream",
     "text": [
      "                                                                                \r"
     ]
    }
   ],
   "execution_count": 54
  },
  {
   "metadata": {
    "ExecuteTime": {
     "end_time": "2025-05-11T22:29:04.431012Z",
     "start_time": "2025-05-11T22:28:39.987537Z"
    }
   },
   "cell_type": "code",
   "source": [
    "window_for_hit_leaders = Window.partitionBy(\"Season\",).orderBy(F.desc(\"total_hits\"))\n",
    "\n",
    "\n",
    "season_hit_leaders = full_df \\\n",
    " .groupby('batter', 'Season').agg(\n",
    "    F.sum(F.when(F.col('event type').isin(20,21,22,23), 1).otherwise(0)).alias('total_hits')\n",
    ")\\\n",
    "    .withColumn('season_rank', F.rank().over(window_for_hit_leaders)) \\\n",
    "    .filter(F.col('season_rank') == 1) \\\n",
    "    .drop('season_rank')\n",
    "\n",
    "bio_select   = bio_df.select('PLAYERID', 'NICKNAME', 'LAST')\n",
    "\n",
    "season_hit_leaders = season_hit_leaders \\\n",
    "                    .select( 'Season', 'total_hits', 'batter') \\\n",
    "                    .groupby('batter') \\\n",
    "                    .agg(F.count('batter').alias('Total Hitting Leaders'))\n",
    "\n",
    "season_hit_leaders = season_hit_leaders \\\n",
    "                    .join(bio_select, bio_select.PLAYERID == season_hit_leaders.batter ) \\\n",
    "                    .drop('PLAYERID', 'batter') \\\n",
    "                    .sort('Total Hitting Leaders', ascending=False )\n",
    "\n",
    "\n",
    "\n",
    "\n",
    "season_hit_leaders.show(season_hit_leaders.count())"
   ],
   "id": "c35f646feff8e769",
   "outputs": [
    {
     "name": "stderr",
     "output_type": "stream",
     "text": [
      "[Stage 318:==================================================>  (136 + 8) / 144]\r"
     ]
    },
    {
     "name": "stdout",
     "output_type": "stream",
     "text": [
      "+---------------------+------------+--------------+\n",
      "|Total Hitting Leaders|    NICKNAME|          LAST|\n",
      "+---------------------+------------+--------------+\n",
      "|                    7|      Ichiro|        Suzuki|\n",
      "|                    7|        Pete|          Rose|\n",
      "|                    5|        Tony|         Gwynn|\n",
      "|                    3|       Kirby|       Puckett|\n",
      "|                    3|      Rogers|       Hornsby|\n",
      "|                    3|          Ty|          Cobb|\n",
      "|                    2|      Richie|       Ashburn|\n",
      "|                    2|        Trea|        Turner|\n",
      "|                    2|       Frank|     McCormick|\n",
      "|                    2|        Jose|        Altuve|\n",
      "|                    2|      George|         Brett|\n",
      "|                    2|      George|         Burns|\n",
      "|                    2|        Vada|        Pinson|\n",
      "|                    2|        Dale|      Mitchell|\n",
      "|                    2|        Paul|       Molitor|\n",
      "|                    2|        Stan|        Musial|\n",
      "|                    2|          Al|       Simmons|\n",
      "|                    2|        Tris|       Speaker|\n",
      "|                    2|       Derek|         Jeter|\n",
      "|                    2|        Whit|    Merrifield|\n",
      "|                    2|       Dante|      Bichette|\n",
      "|                    2|     Michael|         Young|\n",
      "|                    2|         Rod|         Carew|\n",
      "|                    2|      Harvey|         Kuenn|\n",
      "|                    1|         Max|         Carey|\n",
      "|                    1|         Red|         Rolfe|\n",
      "|                    1|         Red|  Schoendienst|\n",
      "|                    1|         Jim|          Rice|\n",
      "|                    1|        Bill|         Terry|\n",
      "|                    1|       Chuck|         Klein|\n",
      "|                    1|         Dee|Strange-Gordon|\n",
      "|                    1|      Nellie|           Fox|\n",
      "|                    1|        Paul|         Waner|\n",
      "|                    1|         Joe|         Torre|\n",
      "|                    1|         Don|     Mattingly|\n",
      "|                    1|        Wade|         Boggs|\n",
      "|                    1|      Johnny|         Pesky|\n",
      "|                    1|       Tommy|         Davis|\n",
      "|                    1|       Lance|       Johnson|\n",
      "|                    1|          Al|        Kaline|\n",
      "|                    1|Shoeless Joe|       Jackson|\n",
      "|                    1|      Willie|         McGee|\n",
      "|                    1|       Bobby|         Veach|\n",
      "|                    1|         Don|       Mueller|\n",
      "|                    1|         Joe|       Medwick|\n",
      "|                    1|       Darin|        Erstad|\n",
      "|                    1|       Goody|         Rosen|\n",
      "|                    1|     Charlie|     Gehringer|\n",
      "|                    1|      Jackie|      Robinson|\n",
      "|                    1|         Cal|        Ripken|\n",
      "|                    1|        Matt|     Carpenter|\n",
      "|                    1|     Alfonso|       Soriano|\n",
      "|                    1|       Lloyd|         Waner|\n",
      "|                    1|      Willie|        Wilson|\n",
      "|                    1|       Billy|        Herman|\n",
      "|                    1|        Duke|        Snider|\n",
      "|                    1|       Bobby|          Witt|\n",
      "|                    1|      George|        Sisler|\n",
      "|                    1|       Dixie|        Walker|\n",
      "|                    1|        Hank|         Aaron|\n",
      "|                    1|        Jack|         Tobin|\n",
      "|                    1|       Billy|      Williams|\n",
      "|                    1|     Roberto|      Clemente|\n",
      "|                    1|      Adrian|        Beltre|\n",
      "|                    1|         Lou|         Brock|\n",
      "|                    1|     Charlie|      Blackmon|\n",
      "|                    1|      Felipe|          Alou|\n",
      "|                    1|      Adrian|      Gonzalez|\n",
      "|                    1|       Frank|     Baumholtz|\n",
      "|                    1|     Frankie|        Frisch|\n",
      "|                    1|        Earl|       Averill|\n",
      "|                    1|      Ronald|         Acuna|\n",
      "|                    1|       Robin|         Yount|\n",
      "|                    1|       Matty|          Alou|\n",
      "|                    1|     Freddie|       Freeman|\n",
      "|                    1|       Lefty|        O'Doul|\n",
      "|                    1|       Cecil|        Travis|\n",
      "|                    1|      Willie|          Mays|\n",
      "|                    1|      Vernon|         Wells|\n",
      "|                    1|        Zack|         Wheat|\n",
      "|                    1|     Freddie|     Lindstrom|\n",
      "|                    1|        Dave|          Cash|\n",
      "|                    1|      Dustin|       Pedroia|\n",
      "|                    1|        Tony|         Oliva|\n",
      "+---------------------+------------+--------------+\n",
      "\n"
     ]
    },
    {
     "name": "stderr",
     "output_type": "stream",
     "text": [
      "                                                                                \r"
     ]
    }
   ],
   "execution_count": 45
  },
  {
   "metadata": {},
   "cell_type": "markdown",
   "source": "## Immaculate Grid Query Number7770",
   "id": "a732e7e4ae86026f"
  },
  {
   "metadata": {},
   "cell_type": "markdown",
   "source": "#### What is a Player in the Hall of Fame that has a 100+ Rbi Season?",
   "id": "9baf02223400bcae"
  },
  {
   "metadata": {
    "ExecuteTime": {
     "end_time": "2025-05-12T05:32:50.761322Z",
     "start_time": "2025-05-12T05:32:31.946483Z"
    }
   },
   "cell_type": "code",
   "source": [
    "bio_hof_select = bio_df.select('PLAYERID', 'NICKNAME', 'LAST', 'HOF') \\\n",
    "                .filter(F.col('HOF') == 'HOF')\n",
    "\n",
    "\n",
    "rbi_hundred_season_batters = full_df \\\n",
    "                            .groupby('batter', 'Season') \\\n",
    "                            .agg(F.sum(F.col('RBI on play')).alias('Total RBIs')) \\\n",
    "                            .filter(F.col('Total RBIs') >= 100)\n",
    "\n",
    "rbi_hundred_season_batters = rbi_hundred_season_batters \\\n",
    "                            .join(bio_hof_select, bio_hof_select.PLAYERID == rbi_hundred_season_batters.batter, 'inner') \\\n",
    "                            .select('NICKNAME', 'LAST', 'Season', 'Total RBIs') \\\n",
    "                            .show()\n",
    "\n"
   ],
   "id": "d1e41231a95015d5",
   "outputs": [
    {
     "name": "stderr",
     "output_type": "stream",
     "text": [
      "[Stage 435:==================================================>  (136 + 8) / 144]\r"
     ]
    },
    {
     "name": "stdout",
     "output_type": "stream",
     "text": [
      "+--------+-----------+------+----------+\n",
      "|NICKNAME|       LAST|Season|Total RBIs|\n",
      "+--------+-----------+------+----------+\n",
      "|Home Run|      Baker|  1912|       134|\n",
      "|      Ty|       Cobb|  1915|       101|\n",
      "|   Billy|   Williams|  1970|       129|\n",
      "|    Tony|      Perez|  1970|       129|\n",
      "|     Joe|      Torre|  1971|       137|\n",
      "|  Johnny|      Bench|  1972|       125|\n",
      "|     Ted|    Simmons|  1975|       100|\n",
      "|    Tony|      Perez|  1975|       109|\n",
      "|     Joe|     Morgan|  1976|       111|\n",
      "|    Dave|     Parker|  1978|       117|\n",
      "|    Mike|    Schmidt|  1979|       114|\n",
      "|  Harmon|  Killebrew|  1970|       113|\n",
      "|  Harmon|  Killebrew|  1971|       119|\n",
      "|    Carl|Yastrzemski|  1977|       102|\n",
      "|  Reggie|    Jackson|  1977|       110|\n",
      "|     Jim|       Rice|  1978|       139|\n",
      "|     Jim|       Rice|  1979|       130|\n",
      "|    Bill|      Terry|  1930|       126|\n",
      "|     Mel|        Ott|  1931|       106|\n",
      "|   Chuck|      Klein|  1932|       131|\n",
      "+--------+-----------+------+----------+\n",
      "only showing top 20 rows\n",
      "\n"
     ]
    },
    {
     "name": "stderr",
     "output_type": "stream",
     "text": [
      "                                                                                \r"
     ]
    }
   ],
   "execution_count": 68
  },
  {
   "metadata": {},
   "cell_type": "markdown",
   "source": "#### What is a Player on the Braves in the Hall of Fame?",
   "id": "14665462cb96d630"
  },
  {
   "metadata": {
    "ExecuteTime": {
     "end_time": "2025-05-12T05:30:20.444271Z",
     "start_time": "2025-05-12T05:29:55.764321Z"
    }
   },
   "cell_type": "code",
   "source": [
    "bio_hof_select = bio_df.select('PLAYERID', 'NICKNAME', 'LAST', 'HOF') \\\n",
    "                .filter(F.col('HOF') == 'HOF')\n",
    "\n",
    "\n",
    " # batting team.  A one-character identification of the team at\n",
    " #                    bat (\"0\" for the visiting team and \"1\" for the\n",
    " #                    home team).\n",
    "\n",
    "braves_non_pitchers = full_df \\\n",
    "    .filter(\n",
    "        (F.col('batting team') == 1) & (F.col('home team') == 'ATL')\n",
    "    ) \\\n",
    "    .select('batter') \\\n",
    "    .distinct() \\\n",
    "    .withColumnRenamed('batter', 'player')\n",
    "\n",
    "\n",
    "braves_pitchers = full_df \\\n",
    "    .filter(\n",
    "        (F.col('batting team') == 0) & (F.col('visiting team') == 'ATL')\n",
    "    ) \\\n",
    "    .select('pitcher') \\\n",
    "    .distinct() \\\n",
    "    .withColumnRenamed('pitcher', 'player')\n",
    "\n",
    "\n",
    "braves_players = braves_non_pitchers.unionByName(braves_pitchers)\n",
    "\n",
    "\n",
    "braves_players_hof = braves_players \\\n",
    "                    .join(bio_hof_select, bio_hof_select.PLAYERID == braves_players.player, 'inner') \\\n",
    "                    .select('NICKNAME', 'LAST').show()\n",
    "\n",
    "\n",
    "\n",
    "\n"
   ],
   "id": "778fa3d2e152bc9e",
   "outputs": [
    {
     "name": "stderr",
     "output_type": "stream",
     "text": [
      "[Stage 427:===================================================> (139 + 5) / 144]\r"
     ]
    },
    {
     "name": "stdout",
     "output_type": "stream",
     "text": [
      "+--------+--------+\n",
      "|NICKNAME|    LAST|\n",
      "+--------+--------+\n",
      "| Orlando|  Cepeda|\n",
      "|    Hoyt| Wilhelm|\n",
      "|    Hank|   Aaron|\n",
      "|    Phil|  Niekro|\n",
      "|    Tony|La Russa|\n",
      "|    Greg|  Maddux|\n",
      "|    John|  Smoltz|\n",
      "| Chipper|   Jones|\n",
      "|     Tom| Glavine|\n",
      "|     Joe|   Torre|\n",
      "|   Eddie| Mathews|\n",
      "| Gaylord|   Perry|\n",
      "|   Bruce|  Sutter|\n",
      "|     Ted| Simmons|\n",
      "|    Fred| McGriff|\n",
      "|     Tom|  Seaver|\n",
      "|   Steve| Carlton|\n",
      "|    Hoyt| Wilhelm|\n",
      "| Gaylord|   Perry|\n",
      "|    Juan|Marichal|\n",
      "+--------+--------+\n",
      "only showing top 20 rows\n",
      "\n"
     ]
    },
    {
     "name": "stderr",
     "output_type": "stream",
     "text": [
      "                                                                                \r"
     ]
    }
   ],
   "execution_count": 67
  },
  {
   "metadata": {},
   "cell_type": "markdown",
   "source": "#### What is a Player who has played for the Dodgers in the HOF?",
   "id": "b7a6d42fe703152"
  },
  {
   "metadata": {
    "ExecuteTime": {
     "end_time": "2025-05-12T05:27:09.121120Z",
     "start_time": "2025-05-12T05:26:46.455980Z"
    }
   },
   "cell_type": "code",
   "source": [
    "bio_hof_select = bio_df.select('PLAYERID', 'NICKNAME', 'LAST', 'HOF') \\\n",
    "                .filter(F.col('HOF') == 'HOF')\n",
    "\n",
    "\n",
    " # batting team.  A one-character identification of the team at\n",
    " #                    bat (\"0\" for the visiting team and \"1\" for the\n",
    " #                    home team).\n",
    "\n",
    "braves_non_pitchers = full_df \\\n",
    "    .filter(\n",
    "        (F.col('batting team') == 1) & (F.col('home team') == 'LAN')\n",
    "    ) \\\n",
    "    .select('batter') \\\n",
    "    .distinct() \\\n",
    "    .withColumnRenamed('batter', 'player')\n",
    "\n",
    "\n",
    "braves_pitchers = full_df \\\n",
    "    .filter(\n",
    "        (F.col('batting team') == 0) & (F.col('visiting team') == 'LAN')\n",
    "    ) \\\n",
    "    .select('pitcher') \\\n",
    "    .distinct() \\\n",
    "    .withColumnRenamed('pitcher', 'player')\n",
    "\n",
    "\n",
    "braves_players = braves_non_pitchers.unionByName(braves_pitchers)\n",
    "\n",
    "\n",
    "braves_players_hof = braves_players \\\n",
    "                    .join(bio_hof_select, bio_hof_select.PLAYERID == braves_players.player, 'inner') \\\n",
    "                    .select('NICKNAME', 'LAST').show()\n",
    "\n",
    "\n",
    "\n",
    "\n"
   ],
   "id": "6cc6775b8bf6b2d7",
   "outputs": [
    {
     "name": "stderr",
     "output_type": "stream",
     "text": [
      "[Stage 418:===================================================> (140 + 4) / 144]\r"
     ]
    },
    {
     "name": "stdout",
     "output_type": "stream",
     "text": [
      "+--------+---------+\n",
      "|NICKNAME|     LAST|\n",
      "+--------+---------+\n",
      "|    Dick|    Allen|\n",
      "|     Don|   Sutton|\n",
      "|   Frank| Robinson|\n",
      "|    Juan| Marichal|\n",
      "|  Adrian|   Beltre|\n",
      "|  Rickey|Henderson|\n",
      "|    Fred|  McGriff|\n",
      "|    Greg|   Maddux|\n",
      "|     Jim|    Thome|\n",
      "|   Sandy|   Koufax|\n",
      "|     Don| Drysdale|\n",
      "|    Duke|   Snider|\n",
      "|     Gil|   Hodges|\n",
      "|     Jim|  Bunning|\n",
      "| Pee Wee|    Reese|\n",
      "|   Eddie|   Murray|\n",
      "|    Gary|   Carter|\n",
      "|   Pedro| Martinez|\n",
      "|    Mike|   Piazza|\n",
      "|     Tom|   Seaver|\n",
      "+--------+---------+\n",
      "only showing top 20 rows\n",
      "\n"
     ]
    },
    {
     "name": "stderr",
     "output_type": "stream",
     "text": [
      "                                                                                \r"
     ]
    }
   ],
   "execution_count": 66
  },
  {
   "metadata": {},
   "cell_type": "markdown",
   "source": "#### What is a Player that has played on both the Tigers and the Braves?",
   "id": "7bcf046d475315f5"
  },
  {
   "metadata": {
    "ExecuteTime": {
     "end_time": "2025-05-12T05:36:54.567076Z",
     "start_time": "2025-05-12T05:36:09.841740Z"
    }
   },
   "cell_type": "code",
   "source": [
    "# bio_hof_select = bio_df.select('PLAYERID', 'NICKNAME', 'LAST', 'HOF') \\\n",
    "#                 .filter(F.col('HOF') == 'HOF')\n",
    "\n",
    "\n",
    " # batting team.  A one-character identification of the team at\n",
    " #                    bat (\"0\" for the visiting team and \"1\" for the\n",
    " #                    home team).\n",
    "\n",
    "tigers_non_pitchers = full_df \\\n",
    "    .filter(\n",
    "        (F.col('batting team') == 1) & (F.col('home team') == 'DET')\n",
    "    ) \\\n",
    "    .select('batter') \\\n",
    "    .distinct() \\\n",
    "    .withColumnRenamed('batter', 'player')\n",
    "\n",
    "\n",
    "tigers_pitchers = full_df \\\n",
    "    .filter(\n",
    "        (F.col('batting team') == 0) & (F.col('visiting team') == 'DET')\n",
    "    ) \\\n",
    "    .select('pitcher') \\\n",
    "    .distinct() \\\n",
    "    .withColumnRenamed('pitcher', 'player')\n",
    "\n",
    "tigers_players = tigers_non_pitchers.unionByName(tigers_pitchers)\n",
    "\n",
    "\n",
    "\n",
    "braves_non_pitchers = full_df \\\n",
    "    .filter(\n",
    "        (F.col('batting team') == 1) & (F.col('home team') == 'ATL')\n",
    "    ) \\\n",
    "    .select('batter') \\\n",
    "    .distinct() \\\n",
    "    .withColumnRenamed('batter', 'player')\n",
    "\n",
    "\n",
    "braves_pitchers = full_df \\\n",
    "    .filter(\n",
    "        (F.col('batting team') == 0) & (F.col('visiting team') == 'ATL')\n",
    "    ) \\\n",
    "    .select('pitcher') \\\n",
    "    .distinct() \\\n",
    "    .withColumnRenamed('pitcher', 'player')\n",
    "\n",
    "\n",
    "\n",
    "braves_players = braves_non_pitchers.union(braves_pitchers)\n",
    "\n",
    "\n",
    "both_teams = braves_players \\\n",
    "             .join(tigers_players, tigers_players.player == braves_players.player, 'inner' ) \\\n",
    "                .drop(tigers_players.player)\n",
    "\n",
    "\n",
    "both_teams = both_teams \\\n",
    "            .join(bio_select, bio_select.PLAYERID == both_teams.player, 'inner') \\\n",
    "            .select('NICKNAME', 'LAST').show()\n",
    "\n",
    "\n",
    "\n",
    "\n",
    "\n",
    "\n",
    "\n"
   ],
   "id": "1a6830e8698d8f3f",
   "outputs": [
    {
     "name": "stderr",
     "output_type": "stream",
     "text": [
      "                                                                                \r"
     ]
    },
    {
     "name": "stdout",
     "output_type": "stream",
     "text": [
      "+--------+----------+\n",
      "|NICKNAME|      LAST|\n",
      "+--------+----------+\n",
      "|  Mickey|    Lolich|\n",
      "|     Joe|    Niekro|\n",
      "|     Joe|    Niekro|\n",
      "|    Earl|    Wilson|\n",
      "|   Denny|    McLain|\n",
      "|   Daryl| Patterson|\n",
      "|    Fred|  Scherman|\n",
      "|     Joe|   Coleman|\n",
      "|     Bob|    Didier|\n",
      "|  Woodie|    Fryman|\n",
      "|    Fred|Holdsworth|\n",
      "|    Jack|    Pierce|\n",
      "| Charlie|    Spikes|\n",
      "|    Luis|   Polonia|\n",
      "|  Robert|      Fick|\n",
      "|    Omar|   Infante|\n",
      "| Randall|     Simon|\n",
      "|  George|   Lombard|\n",
      "|    Greg|    Norton|\n",
      "|   Brent|   Clevlen|\n",
      "+--------+----------+\n",
      "only showing top 20 rows\n",
      "\n"
     ]
    }
   ],
   "execution_count": 70
  },
  {
   "metadata": {},
   "cell_type": "markdown",
   "source": "#### What is a Player who has played for both the Dodgers and Tigers",
   "id": "6217309cd7a90f9b"
  },
  {
   "metadata": {
    "ExecuteTime": {
     "end_time": "2025-05-12T05:45:12.790398Z",
     "start_time": "2025-05-12T05:44:27.431597Z"
    }
   },
   "cell_type": "code",
   "source": [
    "\n",
    "\n",
    "# batting team.  A one-character identification of the team at\n",
    " #                    bat (\"0\" for the visiting team and \"1\" for the\n",
    " #                    home team).\n",
    "\n",
    "tigers_non_pitchers = full_df \\\n",
    "    .filter(\n",
    "        (F.col('batting team') == 1) & (F.col('home team') == 'DET')\n",
    "    ) \\\n",
    "    .select('batter') \\\n",
    "    .distinct() \\\n",
    "    .withColumnRenamed('batter', 'player')\n",
    "\n",
    "\n",
    "tigers_pitchers = full_df \\\n",
    "    .filter(\n",
    "        (F.col('batting team') == 0) & (F.col('visiting team') == 'DET')\n",
    "    ) \\\n",
    "    .select('pitcher') \\\n",
    "    .distinct() \\\n",
    "    .withColumnRenamed('pitcher', 'player')\n",
    "\n",
    "tigers_players = tigers_non_pitchers.unionByName(tigers_pitchers)\n",
    "\n",
    "\n",
    "\n",
    "braves_non_pitchers = full_df \\\n",
    "    .filter(\n",
    "        (F.col('batting team') == 1) & (F.col('home team') == 'LAN')\n",
    "    ) \\\n",
    "    .select('batter') \\\n",
    "    .distinct() \\\n",
    "    .withColumnRenamed('batter', 'player')\n",
    "\n",
    "\n",
    "braves_pitchers = full_df \\\n",
    "    .filter(\n",
    "        (F.col('batting team') == 0) & (F.col('visiting team') == 'LAN')\n",
    "    ) \\\n",
    "    .select('pitcher') \\\n",
    "    .distinct() \\\n",
    "    .withColumnRenamed('pitcher', 'player')\n",
    "\n",
    "\n",
    "\n",
    "braves_players = braves_non_pitchers.union(braves_pitchers)\n",
    "\n",
    "\n",
    "both_teams = braves_players \\\n",
    "             .join(tigers_players, tigers_players.player == braves_players.player, 'inner' ) \\\n",
    "                .drop(tigers_players.player)\n",
    "\n",
    "\n",
    "both_teams = both_teams \\\n",
    "            .join(bio_select, bio_select.PLAYERID == both_teams.player, 'inner') \\\n",
    "            .select('NICKNAME', 'LAST').show()\n",
    "\n",
    "\n",
    "\n",
    "\n",
    "\n",
    "\n",
    "\n"
   ],
   "id": "1c11beb51aa8df89",
   "outputs": [
    {
     "name": "stderr",
     "output_type": "stream",
     "text": [
      "                                                                                \r"
     ]
    },
    {
     "name": "stdout",
     "output_type": "stream",
     "text": [
      "+--------+-----------+\n",
      "|NICKNAME|       LAST|\n",
      "+--------+-----------+\n",
      "|  Mickey|     Lolich|\n",
      "|     Joe|     Niekro|\n",
      "|    Bill|     Denehy|\n",
      "|   Denny|     McLain|\n",
      "|   Daryl|  Patterson|\n",
      "|    Fred|   Scherman|\n",
      "|     Joe|    Coleman|\n",
      "|     Ron| Perranoski|\n",
      "|    Duke|       Sims|\n",
      "|     Tom|     Haller|\n",
      "|   Frank|     Howard|\n",
      "|  Woodie|     Fryman|\n",
      "|    Fred| Holdsworth|\n",
      "|    Gene|    Michael|\n",
      "|    Kirk|     Gibson|\n",
      "|    Juan|Encarnacion|\n",
      "|   Karim|     Garcia|\n",
      "|    Brad|     Ausmus|\n",
      "|   Hiram|  Bocachica|\n",
      "|   Roger|     Cedeno|\n",
      "+--------+-----------+\n",
      "only showing top 20 rows\n",
      "\n"
     ]
    }
   ],
   "execution_count": 72
  },
  {
   "metadata": {},
   "cell_type": "markdown",
   "source": "#### What is a player from the Detroit Tigers with a 100+ RBI season",
   "id": "c279024e7e65a365"
  },
  {
   "metadata": {
    "ExecuteTime": {
     "end_time": "2025-05-12T05:56:19.748658Z",
     "start_time": "2025-05-12T05:55:50.563342Z"
    }
   },
   "cell_type": "code",
   "source": [
    "# bio_hof_select = bio_df.select('PLAYERID', 'NICKNAME', 'LAST', 'HOF') \\\n",
    "#                 .filter(F.col('HOF') == 'HOF')\n",
    "\n",
    "tigers_non_pitchers = full_df \\\n",
    "    .filter(\n",
    "        (F.col('batting team') == 1) & (F.col('home team') == 'DET')\n",
    "    ) \\\n",
    "    .select('batter') \\\n",
    "    .distinct() \\\n",
    "    .withColumnRenamed('batter', 'player')\n",
    "\n",
    "\n",
    "\n",
    "\n",
    "\n",
    "rbi_hundred_season_batters_det = full_df \\\n",
    "                            .join(tigers_non_pitchers, tigers_non_pitchers.player == full_df.batter, 'inner') \\\n",
    "                            .groupby('batter', 'Season') \\\n",
    "                            .agg(F.sum(F.col('RBI on play')).alias('Total RBIs')) \\\n",
    "                            .filter(F.col('Total RBIs') >= 100)\n",
    "\n",
    "\n",
    "rbi_hundred_season_batters_det = rbi_hundred_season_batters_det \\\n",
    "                            .join(bio_select, bio_select.PLAYERID == rbi_hundred_season_batters_det.batter, 'inner') \\\n",
    "                            .select('NICKNAME', 'LAST', 'Season', 'Total RBIs') \\\n",
    "                            .show()\n",
    "\n",
    "\n",
    "\n",
    "\n"
   ],
   "id": "a3821ad2e9f986e3",
   "outputs": [
    {
     "name": "stderr",
     "output_type": "stream",
     "text": [
      "                                                                                \r"
     ]
    },
    {
     "name": "stdout",
     "output_type": "stream",
     "text": [
      "+--------+---------+------+----------+\n",
      "|NICKNAME|     LAST|Season|Total RBIs|\n",
      "+--------+---------+------+----------+\n",
      "|   Steve|     Kemp|  1979|       105|\n",
      "|    Dale|Alexander|  1930|       123|\n",
      "|     Gee|   Walker|  1937|       110|\n",
      "|     Gee|   Walker|  1939|       103|\n",
      "| Charlie|   Keller|  1941|       122|\n",
      "| Charlie|   Keller|  1942|       104|\n",
      "|   Marty|  McManus|  1922|       107|\n",
      "|    Dale|Alexander|  1929|       118|\n",
      "|   Steve|     Kemp|  1980|       101|\n",
      "|    Alan| Trammell|  1987|       105|\n",
      "|    Matt|   Stairs|  1998|       106|\n",
      "|    Matt|   Stairs|  1999|       102|\n",
      "|    J.D.| Martinez|  2023|       103|\n",
      "|    J.D.| Martinez|  2015|       102|\n",
      "|    J.D.| Martinez|  2017|       104|\n",
      "|    J.D.| Martinez|  2018|       130|\n",
      "|    J.D.| Martinez|  2019|       105|\n",
      "|     Sam| Crawford|  1912|       116|\n",
      "|     Sam| Crawford|  1915|       116|\n",
      "|   Goose|   Goslin|  1930|       126|\n",
      "+--------+---------+------+----------+\n",
      "only showing top 20 rows\n",
      "\n"
     ]
    }
   ],
   "execution_count": 79
  },
  {
   "metadata": {},
   "cell_type": "markdown",
   "source": "#### What is a player on the Pirates with a 100+ RBI Season?",
   "id": "2590b760177340ed"
  },
  {
   "metadata": {
    "ExecuteTime": {
     "end_time": "2025-05-12T05:58:14.550203Z",
     "start_time": "2025-05-12T05:57:46.680027Z"
    }
   },
   "cell_type": "code",
   "source": [
    "# bio_hof_select = bio_df.select('PLAYERID', 'NICKNAME', 'LAST', 'HOF') \\\n",
    "#                 .filter(F.col('HOF') == 'HOF')\n",
    "\n",
    "pit_non_pitchers = full_df \\\n",
    "    .filter(\n",
    "        (F.col('batting team') == 1) & (F.col('home team') == 'PIT')\n",
    "    ) \\\n",
    "    .select('batter') \\\n",
    "    .distinct() \\\n",
    "    .withColumnRenamed('batter', 'player')\n",
    "\n",
    "\n",
    "\n",
    "\n",
    "\n",
    "rbi_hundred_season_batters_pir = full_df \\\n",
    "                            .join(pit_non_pitchers, pit_non_pitchers.player == full_df.batter, 'inner') \\\n",
    "                            .groupby('batter', 'Season') \\\n",
    "                            .agg(F.sum(F.col('RBI on play')).alias('Total RBIs')) \\\n",
    "                            .filter(F.col('Total RBIs') >= 100)\n",
    "\n",
    "\n",
    "rbi_hundred_season_batters_pir = rbi_hundred_season_batters_pir \\\n",
    "                            .join(bio_select, bio_select.PLAYERID == rbi_hundred_season_batters_pir.batter, 'inner') \\\n",
    "                            .select('NICKNAME', 'LAST', 'Season', 'Total RBIs') \\\n",
    "                            .show()\n",
    "\n",
    "\n",
    "\n",
    "\n"
   ],
   "id": "ea390c8e6e86f20a",
   "outputs": [
    {
     "name": "stderr",
     "output_type": "stream",
     "text": [
      "[Stage 489:===================================================> (140 + 4) / 144]\r"
     ]
    },
    {
     "name": "stdout",
     "output_type": "stream",
     "text": [
      "+------------+-------+------+----------+\n",
      "|    NICKNAME|   LAST|Season|Total RBIs|\n",
      "+------------+-------+------+----------+\n",
      "|       Steve|   Kemp|  1979|       105|\n",
      "|         Gus|   Suhr|  1930|       108|\n",
      "|       Chuck|  Klein|  1930|       155|\n",
      "|       Chuck|  Klein|  1931|       116|\n",
      "|       Chuck|  Klein|  1932|       131|\n",
      "|       Chuck|  Klein|  1933|       118|\n",
      "|         Gus|   Suhr|  1936|       112|\n",
      "|       Chuck|  Klein|  1936|       100|\n",
      "|       Ralph|  Kiner|  1953|       111|\n",
      "|      Walker| Cooper|  1947|       118|\n",
      "|       Ralph|  Kiner|  1947|       120|\n",
      "|       Ralph|  Kiner|  1948|       111|\n",
      "|       Ralph|  Kiner|  1949|       104|\n",
      "|High Pockets|  Kelly|  1921|       127|\n",
      "|High Pockets|  Kelly|  1922|       106|\n",
      "|High Pockets|  Kelly|  1923|       100|\n",
      "|High Pockets|  Kelly|  1924|       136|\n",
      "|       Chuck|  Klein|  1929|       141|\n",
      "|       Bobby|Bonilla|  1988|       100|\n",
      "|       Steve|   Kemp|  1980|       101|\n",
      "+------------+-------+------+----------+\n",
      "only showing top 20 rows\n",
      "\n"
     ]
    },
    {
     "name": "stderr",
     "output_type": "stream",
     "text": [
      "                                                                                \r"
     ]
    }
   ],
   "execution_count": 80
  },
  {
   "metadata": {},
   "cell_type": "markdown",
   "source": "#### What is a player that has played for both the Pirates and the Dodgers?",
   "id": "49608980d9d35407"
  },
  {
   "metadata": {
    "ExecuteTime": {
     "end_time": "2025-05-12T06:00:33.290009Z",
     "start_time": "2025-05-12T05:59:45.718270Z"
    }
   },
   "cell_type": "code",
   "source": [
    "\n",
    "\n",
    "# batting team.  A one-character identification of the team at\n",
    " #                    bat (\"0\" for the visiting team and \"1\" for the\n",
    " #                    home team).\n",
    "\n",
    "tigers_non_pitchers = full_df \\\n",
    "    .filter(\n",
    "        (F.col('batting team') == 1) & (F.col('home team') == 'PIT')\n",
    "    ) \\\n",
    "    .select('batter') \\\n",
    "    .distinct() \\\n",
    "    .withColumnRenamed('batter', 'player')\n",
    "\n",
    "\n",
    "tigers_pitchers = full_df \\\n",
    "    .filter(\n",
    "        (F.col('batting team') == 0) & (F.col('visiting team') == 'PIT')\n",
    "    ) \\\n",
    "    .select('pitcher') \\\n",
    "    .distinct() \\\n",
    "    .withColumnRenamed('pitcher', 'player')\n",
    "\n",
    "tigers_players = tigers_non_pitchers.unionByName(tigers_pitchers)\n",
    "\n",
    "\n",
    "\n",
    "braves_non_pitchers = full_df \\\n",
    "    .filter(\n",
    "        (F.col('batting team') == 1) & (F.col('home team') == 'LAN')\n",
    "    ) \\\n",
    "    .select('batter') \\\n",
    "    .distinct() \\\n",
    "    .withColumnRenamed('batter', 'player')\n",
    "\n",
    "\n",
    "braves_pitchers = full_df \\\n",
    "    .filter(\n",
    "        (F.col('batting team') == 0) & (F.col('visiting team') == 'LAN')\n",
    "    ) \\\n",
    "    .select('pitcher') \\\n",
    "    .distinct() \\\n",
    "    .withColumnRenamed('pitcher', 'player')\n",
    "\n",
    "\n",
    "\n",
    "braves_players = braves_non_pitchers.union(braves_pitchers)\n",
    "\n",
    "\n",
    "both_teams = braves_players \\\n",
    "             .join(tigers_players, tigers_players.player == braves_players.player, 'inner' ) \\\n",
    "                .drop(tigers_players.player)\n",
    "\n",
    "\n",
    "both_teams = both_teams \\\n",
    "            .join(bio_select, bio_select.PLAYERID == both_teams.player, 'inner') \\\n",
    "            .select('NICKNAME', 'LAST').show()\n",
    "\n",
    "\n",
    "\n",
    "\n",
    "\n",
    "\n",
    "\n"
   ],
   "id": "9d2f9ef9a690e947",
   "outputs": [
    {
     "name": "stderr",
     "output_type": "stream",
     "text": [
      "                                                                                \r"
     ]
    },
    {
     "name": "stdout",
     "output_type": "stream",
     "text": [
      "+--------+----------+\n",
      "|NICKNAME|      LAST|\n",
      "+--------+----------+\n",
      "|  Nelson|    Briles|\n",
      "| Orlando|      Pena|\n",
      "|     Joe|    Gibbon|\n",
      "|   Bruce|Dal Canton|\n",
      "|    John|      Lamb|\n",
      "|     Bob|     Moose|\n",
      "|    Dock|     Ellis|\n",
      "|    Dave|    Giusti|\n",
      "|  Mudcat|     Grant|\n",
      "|  Mudcat|     Grant|\n",
      "|     Bob|     Veale|\n",
      "|    Gene|    Garber|\n",
      "|      Al|    McBean|\n",
      "|      Al|    McBean|\n",
      "|     Bob|   Johnson|\n",
      "|     Jim|    Nelson|\n",
      "|    Luke|    Walker|\n",
      "|     Vic| Davalillo|\n",
      "|      Al|    Oliver|\n",
      "|  George|    Brunet|\n",
      "+--------+----------+\n",
      "only showing top 20 rows\n",
      "\n"
     ]
    }
   ],
   "execution_count": 81
  },
  {
   "metadata": {},
   "cell_type": "markdown",
   "source": "#### What is a player that has played for both the Braves and the Pirates?",
   "id": "d2ae59c3f2c760d4"
  },
  {
   "metadata": {
    "ExecuteTime": {
     "end_time": "2025-05-12T06:02:37.317836Z",
     "start_time": "2025-05-12T06:01:51.493078Z"
    }
   },
   "cell_type": "code",
   "source": [
    "\n",
    "\n",
    "# batting team.  A one-character identification of the team at\n",
    " #                    bat (\"0\" for the visiting team and \"1\" for the\n",
    " #                    home team).\n",
    "\n",
    "tigers_non_pitchers = full_df \\\n",
    "    .filter(\n",
    "        (F.col('batting team') == 1) & (F.col('home team') == 'PIT')\n",
    "    ) \\\n",
    "    .select('batter') \\\n",
    "    .distinct() \\\n",
    "    .withColumnRenamed('batter', 'player')\n",
    "\n",
    "\n",
    "tigers_pitchers = full_df \\\n",
    "    .filter(\n",
    "        (F.col('batting team') == 0) & (F.col('visiting team') == 'PIT')\n",
    "    ) \\\n",
    "    .select('pitcher') \\\n",
    "    .distinct() \\\n",
    "    .withColumnRenamed('pitcher', 'player')\n",
    "\n",
    "tigers_players = tigers_non_pitchers.unionByName(tigers_pitchers)\n",
    "\n",
    "\n",
    "\n",
    "braves_non_pitchers = full_df \\\n",
    "    .filter(\n",
    "        (F.col('batting team') == 1) & (F.col('home team') == 'ATL')\n",
    "    ) \\\n",
    "    .select('batter') \\\n",
    "    .distinct() \\\n",
    "    .withColumnRenamed('batter', 'player')\n",
    "\n",
    "\n",
    "braves_pitchers = full_df \\\n",
    "    .filter(\n",
    "        (F.col('batting team') == 0) & (F.col('visiting team') == 'ATL')\n",
    "    ) \\\n",
    "    .select('pitcher') \\\n",
    "    .distinct() \\\n",
    "    .withColumnRenamed('pitcher', 'player')\n",
    "\n",
    "\n",
    "\n",
    "braves_players = braves_non_pitchers.union(braves_pitchers)\n",
    "\n",
    "\n",
    "both_teams = braves_players \\\n",
    "             .join(tigers_players, tigers_players.player == braves_players.player, 'inner' ) \\\n",
    "                .drop(tigers_players.player)\n",
    "\n",
    "\n",
    "both_teams = both_teams \\\n",
    "            .join(bio_select, bio_select.PLAYERID == both_teams.player, 'inner') \\\n",
    "            .select('NICKNAME', 'LAST').show()\n",
    "\n",
    "\n",
    "\n",
    "\n",
    "\n",
    "\n",
    "\n"
   ],
   "id": "fd8eb4f65eade63c",
   "outputs": [
    {
     "name": "stderr",
     "output_type": "stream",
     "text": [
      "                                                                                \r"
     ]
    },
    {
     "name": "stdout",
     "output_type": "stream",
     "text": [
      "+--------+----------+\n",
      "|NICKNAME|      LAST|\n",
      "+--------+----------+\n",
      "|  Nelson|    Briles|\n",
      "| Orlando|      Pena|\n",
      "|  George|    Kopacz|\n",
      "|     Joe|    Gibbon|\n",
      "|   Bruce|Dal Canton|\n",
      "|   Bruce|Dal Canton|\n",
      "|     Bob|     Moose|\n",
      "|    Dock|     Ellis|\n",
      "|    Dave|    Giusti|\n",
      "|  Mudcat|     Grant|\n",
      "|     Bob|     Veale|\n",
      "|    Gene|    Garber|\n",
      "|    Gene|    Garber|\n",
      "|      Al|    McBean|\n",
      "|     Bob|   Johnson|\n",
      "|     Bob|   Johnson|\n",
      "|    Luke|    Walker|\n",
      "|   Steve|     Blass|\n",
      "|   Chuck|    Goggin|\n",
      "|   Ramon| Hernandez|\n",
      "+--------+----------+\n",
      "only showing top 20 rows\n",
      "\n"
     ]
    }
   ],
   "execution_count": 82
  },
  {
   "metadata": {},
   "cell_type": "markdown",
   "source": [
    "#### Grid Results using options from PySpark Queries\n",
    "#### ![Immaculate Grid Complete](https://raw.githubusercontent.com/jwolfe972/Spark-Projects/main/spark-learning-notebooks/images/mlb-imgs/immaculate_grid_complete.png)\n",
    "\n"
   ],
   "id": "f829f341ecd13aa6"
  },
  {
   "metadata": {},
   "cell_type": "code",
   "outputs": [],
   "execution_count": null,
   "source": "",
   "id": "5b1b473bba7ff77b"
  }
 ],
 "metadata": {
  "kernelspec": {
   "display_name": "Python 3",
   "language": "python",
   "name": "python3"
  },
  "language_info": {
   "codemirror_mode": {
    "name": "ipython",
    "version": 2
   },
   "file_extension": ".py",
   "mimetype": "text/x-python",
   "name": "python",
   "nbconvert_exporter": "python",
   "pygments_lexer": "ipython2",
   "version": "2.7.6"
  }
 },
 "nbformat": 4,
 "nbformat_minor": 5
}
