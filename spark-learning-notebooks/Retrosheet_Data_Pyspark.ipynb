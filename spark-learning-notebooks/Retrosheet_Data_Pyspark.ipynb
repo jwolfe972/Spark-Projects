{
 "cells": [
  {
   "cell_type": "code",
   "id": "initial_id",
   "metadata": {
    "collapsed": true,
    "ExecuteTime": {
     "end_time": "2025-05-11T18:37:44.797403Z",
     "start_time": "2025-05-11T18:37:44.509660Z"
    }
   },
   "source": [
    "from pyspark.sql import SparkSession\n",
    "from ucimlrepo import fetch_ucirepo\n",
    "from pyspark.sql import functions as F\n",
    "from pyspark.sql import Window\n",
    "import matplotlib.pyplot as plt\n",
    "import seaborn as sns\n",
    "import os\n",
    "print(f'{os.getcwd()}')\n",
    "import pandas as pd"
   ],
   "outputs": [
    {
     "name": "stdout",
     "output_type": "stream",
     "text": [
      "/home/jdwolfe/Spark-Projects/spark-learning-notebooks\n"
     ]
    }
   ],
   "execution_count": 1
  },
  {
   "metadata": {},
   "cell_type": "markdown",
   "source": "# We will find the pitcher's who gave given up the most amount of one inning cycles",
   "id": "3bc5ea8d33338663"
  },
  {
   "metadata": {
    "ExecuteTime": {
     "end_time": "2025-05-11T18:38:06.584363Z",
     "start_time": "2025-05-11T18:37:51.684754Z"
    }
   },
   "cell_type": "code",
   "source": [
    "spark = SparkSession.builder.appName(\"Jupyter\").getOrCreate()\n",
    "\n",
    "spark"
   ],
   "id": "61693490be9dade8",
   "outputs": [
    {
     "name": "stderr",
     "output_type": "stream",
     "text": [
      "25/05/11 13:37:57 WARN Utils: Your hostname, JordansGaming resolves to a loopback address: 127.0.1.1; using 10.255.255.254 instead (on interface lo)\n",
      "25/05/11 13:37:57 WARN Utils: Set SPARK_LOCAL_IP if you need to bind to another address\n",
      "Setting default log level to \"WARN\".\n",
      "To adjust logging level use sc.setLogLevel(newLevel). For SparkR, use setLogLevel(newLevel).\n",
      "25/05/11 13:37:59 WARN NativeCodeLoader: Unable to load native-hadoop library for your platform... using builtin-java classes where applicable\n"
     ]
    },
    {
     "data": {
      "text/plain": [
       "<pyspark.sql.session.SparkSession at 0x7f4939ee8d60>"
      ],
      "text/html": [
       "\n",
       "            <div>\n",
       "                <p><b>SparkSession - in-memory</b></p>\n",
       "                \n",
       "        <div>\n",
       "            <p><b>SparkContext</b></p>\n",
       "\n",
       "            <p><a href=\"http://10.255.255.254:4040\">Spark UI</a></p>\n",
       "\n",
       "            <dl>\n",
       "              <dt>Version</dt>\n",
       "                <dd><code>v3.5.5</code></dd>\n",
       "              <dt>Master</dt>\n",
       "                <dd><code>local[*]</code></dd>\n",
       "              <dt>AppName</dt>\n",
       "                <dd><code>Jupyter</code></dd>\n",
       "            </dl>\n",
       "        </div>\n",
       "        \n",
       "            </div>\n",
       "        "
      ]
     },
     "execution_count": 2,
     "metadata": {},
     "output_type": "execute_result"
    }
   ],
   "execution_count": 2
  },
  {
   "metadata": {
    "ExecuteTime": {
     "end_time": "2025-05-11T18:39:41.097320Z",
     "start_time": "2025-05-11T18:38:12.074386Z"
    }
   },
   "cell_type": "code",
   "source": [
    "csv_headers = [\n",
    "    \"game id\", \"visiting team\", \"inning\", \"batting team\", \"outs\", \"balls\", \"strikes\",\n",
    "    \"pitch sequence\", \"vis score\", \"home score\", \"batter\", \"batter hand\", \"res batter\",\n",
    "    \"res batter hand\", \"pitcher\", \"pitcher hand\", \"res pitcher\", \"res pitcher hand\",\n",
    "    \"catcher\", \"first base\", \"second base\", \"third base\", \"shortstop\", \"left field\",\n",
    "    \"center field\", \"right field\", \"first runner\", \"second runner\", \"third runner\",\n",
    "    \"event text\", \"leadoff flag\", \"pinchhit flag\", \"defensive position\", \"lineup position\",\n",
    "    \"event type\", \"batter event flag\", \"ab flag\", \"hit value\", \"SH flag\", \"SF flag\",\n",
    "    \"outs on play\", \"double play flag\", \"triple play flag\", \"RBI on play\", \"wild pitch flag\",\n",
    "    \"passed ball flag\", \"fielded by\", \"batted ball type\", \"bunt flag\", \"foul flag\",\n",
    "    \"hit location\", \"num errors\", \"1st error player\", \"1st error type\", \"2nd error player\",\n",
    "    \"2nd error type\", \"3rd error player\", \"3rd error type\", \"batter dest\",\n",
    "    \"runner on 1st dest\", \"runner on 2nd dest\", \"runner on 3rd dest\", \"play on batter\",\n",
    "    \"play on runner on 1st\", \"play on runner on 2nd\", \"play on runner on 3rd\",\n",
    "    \"SB for runner on 1st flag\", \"SB for runner on 2nd flag\", \"SB for runner on 3rd flag\",\n",
    "    \"CS for runner on 1st flag\", \"CS for runner on 2nd flag\", \"CS for runner on 3rd flag\",\n",
    "    \"PO for runner on 1st flag\", \"PO for runner on 2nd flag\", \"PO for runner on 3rd flag\",\n",
    "    \"Responsible pitcher for runner on 1st\", \"Responsible pitcher for runner on 2nd\",\n",
    "    \"Responsible pitcher for runner on 3rd\", \"New Game Flag\", \"End Game Flag\",\n",
    "    \"Pinch-runner on 1st\", \"Pinch-runner on 2nd\", \"Pinch-runner on 3rd\",\n",
    "    \"Runner removed for pinch-runner on 1st\", \"Runner removed for pinch-runner on 2nd\",\n",
    "    \"Runner removed for pinch-runner on 3rd\", \"Batter removed for pinch-hitter\",\n",
    "    \"Position of batter removed for pinch-hitter\", \"Fielder with First Putout\",\n",
    "    \"Fielder with Second Putout\", \"Fielder with Third Putout\", \"Fielder with First Assist\",\n",
    "    \"Fielder with Second Assist\", \"Fielder with Third Assist\", \"Fielder with Fourth Assist\",\n",
    "    \"Fielder with Fifth Assist\", \"event num\"\n",
    "]\n",
    "\n",
    "full_df = None\n",
    "\n",
    "for file in os.listdir(f'{os.getcwd()}/data/mlb_data'):\n",
    "    file_path = f'{os.getcwd()}/data/mlb_data/{file}'\n",
    "    print(f'Processing {file_path}')\n",
    "    df = spark.read.csv(file_path, header=False, inferSchema=True).toDF(*csv_headers)\n",
    "\n",
    "    if full_df is None:\n",
    "        full_df = df\n",
    "    else:\n",
    "        full_df = full_df.unionByName(df)\n",
    "\n",
    "full_df.show()\n"
   ],
   "id": "c20501e429dd9611",
   "outputs": [
    {
     "name": "stdout",
     "output_type": "stream",
     "text": [
      "Processing /home/jdwolfe/Spark-Projects/spark-learning-notebooks/data/mlb_data/full_1970s_pbp.csv\n"
     ]
    },
    {
     "name": "stderr",
     "output_type": "stream",
     "text": [
      "                                                                                \r"
     ]
    },
    {
     "name": "stdout",
     "output_type": "stream",
     "text": [
      "Processing /home/jdwolfe/Spark-Projects/spark-learning-notebooks/data/mlb_data/full_2000s_pbp.csv\n"
     ]
    },
    {
     "name": "stderr",
     "output_type": "stream",
     "text": [
      "                                                                                \r"
     ]
    },
    {
     "name": "stdout",
     "output_type": "stream",
     "text": [
      "Processing /home/jdwolfe/Spark-Projects/spark-learning-notebooks/data/mlb_data/full_1960s_pbp.csv\n"
     ]
    },
    {
     "name": "stderr",
     "output_type": "stream",
     "text": [
      "                                                                                \r"
     ]
    },
    {
     "name": "stdout",
     "output_type": "stream",
     "text": [
      "Processing /home/jdwolfe/Spark-Projects/spark-learning-notebooks/data/mlb_data/full_1950s_pbp.csv\n"
     ]
    },
    {
     "name": "stderr",
     "output_type": "stream",
     "text": [
      "                                                                                \r"
     ]
    },
    {
     "name": "stdout",
     "output_type": "stream",
     "text": [
      "Processing /home/jdwolfe/Spark-Projects/spark-learning-notebooks/data/mlb_data/full_1980s_pbp.csv\n"
     ]
    },
    {
     "name": "stderr",
     "output_type": "stream",
     "text": [
      "                                                                                \r"
     ]
    },
    {
     "name": "stdout",
     "output_type": "stream",
     "text": [
      "Processing /home/jdwolfe/Spark-Projects/spark-learning-notebooks/data/mlb_data/full_1990s_pbp.csv\n"
     ]
    },
    {
     "name": "stderr",
     "output_type": "stream",
     "text": [
      "                                                                                \r"
     ]
    },
    {
     "name": "stdout",
     "output_type": "stream",
     "text": [
      "Processing /home/jdwolfe/Spark-Projects/spark-learning-notebooks/data/mlb_data/full_2020s_pbp.csv\n"
     ]
    },
    {
     "name": "stderr",
     "output_type": "stream",
     "text": [
      "                                                                                \r"
     ]
    },
    {
     "name": "stdout",
     "output_type": "stream",
     "text": [
      "Processing /home/jdwolfe/Spark-Projects/spark-learning-notebooks/data/mlb_data/full_2010s_pbp.csv\n"
     ]
    },
    {
     "name": "stderr",
     "output_type": "stream",
     "text": [
      "25/05/11 13:39:38 WARN SparkStringUtils: Truncated the string representation of a plan since it was too large. This behavior can be adjusted by setting 'spark.sql.debug.maxToStringFields'.\n"
     ]
    },
    {
     "name": "stdout",
     "output_type": "stream",
     "text": [
      "+------------+-------------+------+------------+----+-----+-------+--------------+---------+----------+--------+-----------+----------+---------------+--------+------------+-----------+----------------+--------+----------+-----------+----------+---------+----------+------------+-----------+------------+-------------+------------+------------+------------+-------------+------------------+---------------+----------+-----------------+-------+---------+-------+-------+------------+----------------+----------------+-----------+---------------+----------------+----------+----------------+---------+---------+------------+----------+----------------+--------------+----------------+--------------+----------------+--------------+-----------+------------------+------------------+------------------+--------------+---------------------+---------------------+---------------------+-------------------------+-------------------------+-------------------------+-------------------------+-------------------------+-------------------------+-------------------------+-------------------------+-------------------------+-------------------------------------+-------------------------------------+-------------------------------------+-------------+-------------+-------------------+-------------------+-------------------+--------------------------------------+--------------------------------------+--------------------------------------+-------------------------------+-------------------------------------------+-------------------------+--------------------------+-------------------------+-------------------------+--------------------------+-------------------------+--------------------------+-------------------------+---------+\n",
      "|     game id|visiting team|inning|batting team|outs|balls|strikes|pitch sequence|vis score|home score|  batter|batter hand|res batter|res batter hand| pitcher|pitcher hand|res pitcher|res pitcher hand| catcher|first base|second base|third base|shortstop|left field|center field|right field|first runner|second runner|third runner|  event text|leadoff flag|pinchhit flag|defensive position|lineup position|event type|batter event flag|ab flag|hit value|SH flag|SF flag|outs on play|double play flag|triple play flag|RBI on play|wild pitch flag|passed ball flag|fielded by|batted ball type|bunt flag|foul flag|hit location|num errors|1st error player|1st error type|2nd error player|2nd error type|3rd error player|3rd error type|batter dest|runner on 1st dest|runner on 2nd dest|runner on 3rd dest|play on batter|play on runner on 1st|play on runner on 2nd|play on runner on 3rd|SB for runner on 1st flag|SB for runner on 2nd flag|SB for runner on 3rd flag|CS for runner on 1st flag|CS for runner on 2nd flag|CS for runner on 3rd flag|PO for runner on 1st flag|PO for runner on 2nd flag|PO for runner on 3rd flag|Responsible pitcher for runner on 1st|Responsible pitcher for runner on 2nd|Responsible pitcher for runner on 3rd|New Game Flag|End Game Flag|Pinch-runner on 1st|Pinch-runner on 2nd|Pinch-runner on 3rd|Runner removed for pinch-runner on 1st|Runner removed for pinch-runner on 2nd|Runner removed for pinch-runner on 3rd|Batter removed for pinch-hitter|Position of batter removed for pinch-hitter|Fielder with First Putout|Fielder with Second Putout|Fielder with Third Putout|Fielder with First Assist|Fielder with Second Assist|Fielder with Third Assist|Fielder with Fourth Assist|Fielder with Fifth Assist|event num|\n",
      "+------------+-------------+------+------------+----+-----+-------+--------------+---------+----------+--------+-----------+----------+---------------+--------+------------+-----------+----------------+--------+----------+-----------+----------+---------+----------+------------+-----------+------------+-------------+------------+------------+------------+-------------+------------------+---------------+----------+-----------------+-------+---------+-------+-------+------------+----------------+----------------+-----------+---------------+----------------+----------+----------------+---------+---------+------------+----------+----------------+--------------+----------------+--------------+----------------+--------------+-----------+------------------+------------------+------------------+--------------+---------------------+---------------------+---------------------+-------------------------+-------------------------+-------------------------+-------------------------+-------------------------+-------------------------+-------------------------+-------------------------+-------------------------+-------------------------------------+-------------------------------------+-------------------------------------+-------------+-------------+-------------------+-------------------+-------------------+--------------------------------------+--------------------------------------+--------------------------------------+-------------------------------+-------------------------------------------+-------------------------+--------------------------+-------------------------+-------------------------+--------------------------+-------------------------+--------------------------+-------------------------+---------+\n",
      "|ATL197004130|          SFN|     1|           0|   0|    0|      0|          NULL|        0|         0|bondb101|          R|  bondb101|              R|jarvp101|           R|   jarvp101|               R|tillb101|  cepeo101|   millf105|  boyec102| jacks102|  cartr101|    gonzt101|   aaroh101|        NULL|         NULL|        NULL|          D9|           T|            F|                 9|              1|        21|                T|      T|        2|      F|      F|           0|               F|               F|          0|              F|               F|         9|            NULL|        F|        F|        NULL|         0|               0|             N|               0|             N|               0|             N|          2|                 0|                 0|                 0|          NULL|                 NULL|                 NULL|                 NULL|                        F|                        F|                        F|                        F|                        F|                        F|                        F|                        F|                        F|                                 NULL|                                 NULL|                                 NULL|            T|            F|                  F|                  F|                  F|                                  NULL|                                  NULL|                                  NULL|                           NULL|                                          0|                        0|                         0|                        0|                        0|                         0|                        0|                         0|                        0|        1|\n",
      "|ATL197004130|          SFN|     1|           0|   0|    0|      0|          NULL|        0|         0|huntr101|          R|  huntr101|              R|jarvp101|           R|   jarvp101|               R|tillb101|  cepeo101|   millf105|  boyec102| jacks102|  cartr101|    gonzt101|   aaroh101|        NULL|     bondb101|        NULL|      31.2-3|           F|            F|                 4|              2|         2|                T|      T|        0|      F|      F|           1|               F|               F|          0|              F|               F|         3|               G|        F|        F|        NULL|         0|               0|             N|               0|             N|               0|             N|          0|                 0|                 3|                 0|          31.0|                 NULL|                 NULL|                 NULL|                        F|                        F|                        F|                        F|                        F|                        F|                        F|                        F|                        F|                                 NULL|                             jarvp101|                                 NULL|            F|            F|                  F|                  F|                  F|                                  NULL|                                  NULL|                                  NULL|                           NULL|                                          0|                        1|                         0|                        0|                        3|                         0|                        0|                         0|                        0|        2|\n",
      "|ATL197004130|          SFN|     1|           0|   1|    0|      0|          NULL|        0|         0|maysw101|          R|  maysw101|              R|jarvp101|           R|   jarvp101|               R|tillb101|  cepeo101|   millf105|  boyec102| jacks102|  cartr101|    gonzt101|   aaroh101|        NULL|         NULL|    bondb101|        3/FL|           F|            F|                 8|              3|         2|                T|      T|        0|      F|      F|           1|               F|               F|          0|              F|               F|         3|               F|        F|        T|        NULL|         0|               0|             N|               0|             N|               0|             N|          0|                 0|                 0|                 3|           3.0|                 NULL|                 NULL|                 NULL|                        F|                        F|                        F|                        F|                        F|                        F|                        F|                        F|                        F|                                 NULL|                                 NULL|                             jarvp101|            F|            F|                  F|                  F|                  F|                                  NULL|                                  NULL|                                  NULL|                           NULL|                                          0|                        3|                         0|                        0|                        0|                         0|                        0|                         0|                        0|        3|\n",
      "|ATL197004130|          SFN|     1|           0|   2|    0|      0|          NULL|        0|         0|mccow101|          L|  mccow101|              L|jarvp101|           R|   jarvp101|               R|tillb101|  cepeo101|   millf105|  boyec102| jacks102|  cartr101|    gonzt101|   aaroh101|        NULL|         NULL|    bondb101|          31|           F|            F|                 3|              4|         2|                T|      T|        0|      F|      F|           1|               F|               F|          0|              F|               F|         3|               G|        F|        F|        NULL|         0|               0|             N|               0|             N|               0|             N|          0|                 0|                 0|                 3|          31.0|                 NULL|                 NULL|                 NULL|                        F|                        F|                        F|                        F|                        F|                        F|                        F|                        F|                        F|                                 NULL|                                 NULL|                             jarvp101|            F|            F|                  F|                  F|                  F|                                  NULL|                                  NULL|                                  NULL|                           NULL|                                          0|                        1|                         0|                        0|                        3|                         0|                        0|                         0|                        0|        4|\n",
      "|ATL197004130|          SFN|     1|           1|   0|    0|      0|          NULL|        0|         0|jacks102|          L|  jacks102|              L|rebef101|           R|   rebef101|               R|dietd101|  mccow101|   huntr101|  galla101| heisb101|  hendk101|    maysw101|   bondb101|        NULL|         NULL|        NULL|        D/89|           T|            F|                 6|              1|        21|                T|      T|        2|      F|      F|           0|               F|               F|          0|              F|               F|         0|            NULL|        F|        F|          89|         0|               0|             N|               0|             N|               0|             N|          2|                 0|                 0|                 0|          NULL|                 NULL|                 NULL|                 NULL|                        F|                        F|                        F|                        F|                        F|                        F|                        F|                        F|                        F|                                 NULL|                                 NULL|                                 NULL|            F|            F|                  F|                  F|                  F|                                  NULL|                                  NULL|                                  NULL|                           NULL|                                          0|                        0|                         0|                        0|                        0|                         0|                        0|                         0|                        0|        5|\n",
      "|ATL197004130|          SFN|     1|           1|   0|    0|      0|          NULL|        0|         0|millf105|          R|  millf105|              R|rebef101|           R|   rebef101|               R|dietd101|  mccow101|   huntr101|  galla101| heisb101|  hendk101|    maysw101|   bondb101|        NULL|     jacks102|        NULL|      13/BG#|           F|            F|                 4|              2|         2|                T|      T|        0|      F|      F|           1|               F|               F|          0|              F|               F|         1|               G|        T|        F|        NULL|         0|               0|             N|               0|             N|               0|             N|          0|                 0|                 2|                 0|          13.0|                 NULL|                 NULL|                 NULL|                        F|                        F|                        F|                        F|                        F|                        F|                        F|                        F|                        F|                                 NULL|                             rebef101|                                 NULL|            F|            F|                  F|                  F|                  F|                                  NULL|                                  NULL|                                  NULL|                           NULL|                                          0|                        3|                         0|                        0|                        1|                         0|                        0|                         0|                        0|        6|\n",
      "|ATL197004130|          SFN|     1|           1|   1|    0|      0|          NULL|        0|         0|aaroh101|          R|  aaroh101|              R|rebef101|           R|   rebef101|               R|dietd101|  mccow101|   huntr101|  galla101| heisb101|  hendk101|    maysw101|   bondb101|        NULL|     jacks102|        NULL|    HR/7.2-H|           F|            F|                 9|              3|        23|                T|      T|        4|      F|      F|           0|               F|               F|          2|              F|               F|         0|            NULL|        F|        F|           7|         0|               0|             N|               0|             N|               0|             N|          4|                 0|                 4|                 0|          NULL|                 NULL|                 NULL|                 NULL|                        F|                        F|                        F|                        F|                        F|                        F|                        F|                        F|                        F|                                 NULL|                             rebef101|                                 NULL|            F|            F|                  F|                  F|                  F|                                  NULL|                                  NULL|                                  NULL|                           NULL|                                          0|                        0|                         0|                        0|                        0|                         0|                        0|                         0|                        0|        7|\n",
      "|ATL197004130|          SFN|     1|           1|   1|    0|      0|          NULL|        0|         2|cartr101|          R|  cartr101|              R|rebef101|           R|   rebef101|               R|dietd101|  mccow101|   huntr101|  galla101| heisb101|  hendk101|    maysw101|   bondb101|        NULL|         NULL|        NULL|           W|           F|            F|                 7|              4|        14|                T|      F|        0|      F|      F|           0|               F|               F|          0|              F|               F|         0|            NULL|        F|        F|        NULL|         0|               0|             N|               0|             N|               0|             N|          1|                 0|                 0|                 0|          NULL|                 NULL|                 NULL|                 NULL|                        F|                        F|                        F|                        F|                        F|                        F|                        F|                        F|                        F|                                 NULL|                                 NULL|                                 NULL|            F|            F|                  F|                  F|                  F|                                  NULL|                                  NULL|                                  NULL|                           NULL|                                          0|                        0|                         0|                        0|                        0|                         0|                        0|                         0|                        0|        8|\n",
      "|ATL197004130|          SFN|     1|           1|   1|    0|      0|          NULL|        0|         2|cepeo101|          R|  cepeo101|              R|rebef101|           R|   rebef101|               R|dietd101|  mccow101|   huntr101|  galla101| heisb101|  hendk101|    maysw101|   bondb101|    cartr101|         NULL|        NULL|      S7.1-2|           F|            F|                 3|              5|        20|                T|      T|        1|      F|      F|           0|               F|               F|          0|              F|               F|         7|            NULL|        F|        F|        NULL|         0|               0|             N|               0|             N|               0|             N|          1|                 2|                 0|                 0|          NULL|                 NULL|                 NULL|                 NULL|                        F|                        F|                        F|                        F|                        F|                        F|                        F|                        F|                        F|                             rebef101|                                 NULL|                                 NULL|            F|            F|                  F|                  F|                  F|                                  NULL|                                  NULL|                                  NULL|                           NULL|                                          0|                        0|                         0|                        0|                        0|                         0|                        0|                         0|                        0|        9|\n",
      "|ATL197004130|          SFN|     1|           1|   1|    0|      0|          NULL|        0|         2|gonzt101|          L|  gonzt101|              L|rebef101|           R|   rebef101|               R|dietd101|  mccow101|   huntr101|  galla101| heisb101|  hendk101|    maysw101|   bondb101|    cepeo101|     cartr101|        NULL|  S9.1-3;2-H|           F|            F|                 8|              6|        20|                T|      T|        1|      F|      F|           0|               F|               F|          1|              F|               F|         9|            NULL|        F|        F|        NULL|         0|               0|             N|               0|             N|               0|             N|          1|                 3|                 4|                 0|          NULL|                 NULL|                 NULL|                 NULL|                        F|                        F|                        F|                        F|                        F|                        F|                        F|                        F|                        F|                             rebef101|                             rebef101|                                 NULL|            F|            F|                  F|                  F|                  F|                                  NULL|                                  NULL|                                  NULL|                           NULL|                                          0|                        0|                         0|                        0|                        0|                         0|                        0|                         0|                        0|       10|\n",
      "|ATL197004130|          SFN|     1|           1|   1|    0|      0|          NULL|        0|         3|boyec102|          R|  boyec102|              R|johnj105|           L|   johnj105|               L|dietd101|  mccow101|   huntr101|  galla101| heisb101|  hendk101|    maysw101|   bondb101|    gonzt101|         NULL|    cepeo101|    9/SF.3-H|           F|            F|                 5|              7|         2|                T|      F|        0|      F|      T|           1|               F|               F|          1|              F|               F|         9|               F|        F|        F|        NULL|         0|               0|             N|               0|             N|               0|             N|          0|                 1|                 0|                 4|           9.0|                 NULL|                 NULL|                 NULL|                        F|                        F|                        F|                        F|                        F|                        F|                        F|                        F|                        F|                             rebef101|                                 NULL|                             rebef101|            F|            F|                  F|                  F|                  F|                                  NULL|                                  NULL|                                  NULL|                           NULL|                                          0|                        9|                         0|                        0|                        0|                         0|                        0|                         0|                        0|       11|\n",
      "|ATL197004130|          SFN|     1|           1|   2|    0|      0|          NULL|        0|         4|tillb101|          R|  tillb101|              R|johnj105|           L|   johnj105|               L|dietd101|  mccow101|   huntr101|  galla101| heisb101|  hendk101|    maysw101|   bondb101|    gonzt101|         NULL|        NULL|    64(1)/FO|           F|            F|                 2|              8|         2|                T|      T|        0|      F|      F|           1|               F|               F|          0|              F|               F|         6|               G|        F|        F|        NULL|         0|               0|             N|               0|             N|               0|             N|          1|                 0|                 0|                 0|          NULL|                   64|                 NULL|                 NULL|                        F|                        F|                        F|                        F|                        F|                        F|                        F|                        F|                        F|                             rebef101|                                 NULL|                                 NULL|            F|            F|                  F|                  F|                  F|                                  NULL|                                  NULL|                                  NULL|                           NULL|                                          0|                        4|                         0|                        0|                        6|                         0|                        0|                         0|                        0|       12|\n",
      "|ATL197004130|          SFN|     2|           0|   0|    0|      0|          NULL|        0|         4|hendk101|          L|  hendk101|              L|jarvp101|           R|   jarvp101|               R|tillb101|  cepeo101|   millf105|  boyec102| jacks102|  cartr101|    gonzt101|   aaroh101|        NULL|         NULL|        NULL|          D9|           T|            F|                 7|              5|        21|                T|      T|        2|      F|      F|           0|               F|               F|          0|              F|               F|         9|            NULL|        F|        F|        NULL|         0|               0|             N|               0|             N|               0|             N|          2|                 0|                 0|                 0|          NULL|                 NULL|                 NULL|                 NULL|                        F|                        F|                        F|                        F|                        F|                        F|                        F|                        F|                        F|                                 NULL|                                 NULL|                                 NULL|            F|            F|                  F|                  F|                  F|                                  NULL|                                  NULL|                                  NULL|                           NULL|                                          0|                        0|                         0|                        0|                        0|                         0|                        0|                         0|                        0|       13|\n",
      "|ATL197004130|          SFN|     2|           0|   0|    0|      0|          NULL|        0|         4|galla101|          R|  galla101|              R|jarvp101|           R|   jarvp101|               R|tillb101|  cepeo101|   millf105|  boyec102| jacks102|  cartr101|    gonzt101|   aaroh101|        NULL|     hendk101|        NULL|           W|           F|            F|                 5|              6|        14|                T|      F|        0|      F|      F|           0|               F|               F|          0|              F|               F|         0|            NULL|        F|        F|        NULL|         0|               0|             N|               0|             N|               0|             N|          1|                 0|                 2|                 0|          NULL|                 NULL|                 NULL|                 NULL|                        F|                        F|                        F|                        F|                        F|                        F|                        F|                        F|                        F|                                 NULL|                             jarvp101|                                 NULL|            F|            F|                  F|                  F|                  F|                                  NULL|                                  NULL|                                  NULL|                           NULL|                                          0|                        0|                         0|                        0|                        0|                         0|                        0|                         0|                        0|       14|\n",
      "|ATL197004130|          SFN|     2|           0|   0|    0|      0|          NULL|        0|         4|dietd101|          R|  dietd101|              R|jarvp101|           R|   jarvp101|               R|tillb101|  cepeo101|   millf105|  boyec102| jacks102|  cartr101|    gonzt101|   aaroh101|    galla101|     hendk101|        NULL|S/78.1-2;2-H|           F|            F|                 2|              7|        20|                T|      T|        1|      F|      F|           0|               F|               F|          1|              F|               F|         0|            NULL|        F|        F|          78|         0|               0|             N|               0|             N|               0|             N|          1|                 2|                 4|                 0|          NULL|                 NULL|                 NULL|                 NULL|                        F|                        F|                        F|                        F|                        F|                        F|                        F|                        F|                        F|                             jarvp101|                             jarvp101|                                 NULL|            F|            F|                  F|                  F|                  F|                                  NULL|                                  NULL|                                  NULL|                           NULL|                                          0|                        0|                         0|                        0|                        0|                         0|                        0|                         0|                        0|       15|\n",
      "|ATL197004130|          SFN|     2|           0|   0|    0|      0|          NULL|        1|         4|heisb101|          R|  heisb101|              R|jarvp101|           R|   jarvp101|               R|tillb101|  cepeo101|   millf105|  boyec102| jacks102|  cartr101|    gonzt101|   aaroh101|    dietd101|     galla101|        NULL| 3/G.1-2;2-3|           F|            F|                 6|              8|         2|                T|      T|        0|      F|      F|           1|               F|               F|          0|              F|               F|         3|               G|        F|        F|        NULL|         0|               0|             N|               0|             N|               0|             N|          0|                 2|                 3|                 0|           3.0|                 NULL|                 NULL|                 NULL|                        F|                        F|                        F|                        F|                        F|                        F|                        F|                        F|                        F|                             jarvp101|                             jarvp101|                                 NULL|            F|            F|                  F|                  F|                  F|                                  NULL|                                  NULL|                                  NULL|                           NULL|                                          0|                        3|                         0|                        0|                        0|                         0|                        0|                         0|                        0|       16|\n",
      "|ATL197004130|          SFN|     2|           0|   1|    0|      0|          NULL|        1|         4|johnj105|          L|  johnj105|              L|jarvp101|           R|   jarvp101|               R|tillb101|  cepeo101|   millf105|  boyec102| jacks102|  cartr101|    gonzt101|   aaroh101|        NULL|     dietd101|    galla101|           W|           F|            F|                 1|              9|        14|                T|      F|        0|      F|      F|           0|               F|               F|          0|              F|               F|         0|            NULL|        F|        F|        NULL|         0|               0|             N|               0|             N|               0|             N|          1|                 0|                 2|                 3|          NULL|                 NULL|                 NULL|                 NULL|                        F|                        F|                        F|                        F|                        F|                        F|                        F|                        F|                        F|                                 NULL|                             jarvp101|                             jarvp101|            F|            F|                  F|                  F|                  F|                                  NULL|                                  NULL|                                  NULL|                           NULL|                                          0|                        0|                         0|                        0|                        0|                         0|                        0|                         0|                        0|       17|\n",
      "|ATL197004130|          SFN|     2|           0|   1|    0|      0|          NULL|        1|         4|bondb101|          R|  bondb101|              R|jarvp101|           R|   jarvp101|               R|tillb101|  cepeo101|   millf105|  boyec102| jacks102|  cartr101|    gonzt101|   aaroh101|    johnj105|     dietd101|    galla101|  64(1)3/GDP|           F|            F|                 9|              1|         2|                T|      T|        0|      F|      F|           2|               T|               F|          0|              F|               F|         6|               G|        F|        F|        NULL|         0|               0|             N|               0|             N|               0|             N|          0|                 0|                 2|                 3|          43.0|                   64|                 NULL|                 NULL|                        F|                        F|                        F|                        F|                        F|                        F|                        F|                        F|                        F|                             jarvp101|                             jarvp101|                             jarvp101|            F|            F|                  F|                  F|                  F|                                  NULL|                                  NULL|                                  NULL|                           NULL|                                          0|                        4|                         3|                        0|                        6|                         4|                        0|                         0|                        0|       18|\n",
      "|ATL197004130|          SFN|     2|           1|   0|    0|      0|          NULL|        1|         4|jarvp101|          R|  jarvp101|              R|johnj105|           L|   johnj105|               L|dietd101|  mccow101|   huntr101|  galla101| heisb101|  hendk101|    maysw101|   bondb101|        NULL|         NULL|        NULL|        S/89|           T|            F|                 1|              9|        20|                T|      T|        1|      F|      F|           0|               F|               F|          0|              F|               F|         0|            NULL|        F|        F|          89|         0|               0|             N|               0|             N|               0|             N|          1|                 0|                 0|                 0|          NULL|                 NULL|                 NULL|                 NULL|                        F|                        F|                        F|                        F|                        F|                        F|                        F|                        F|                        F|                                 NULL|                                 NULL|                                 NULL|            F|            F|                  F|                  F|                  F|                                  NULL|                                  NULL|                                  NULL|                           NULL|                                          0|                        0|                         0|                        0|                        0|                         0|                        0|                         0|                        0|       19|\n",
      "|ATL197004130|          SFN|     2|           1|   0|    0|      0|          NULL|        1|         4|jacks102|          L|  jacks102|              L|johnj105|           L|   johnj105|               L|dietd101|  mccow101|   huntr101|  galla101| heisb101|  hendk101|    maysw101|   bondb101|    jarvp101|         NULL|        NULL|   13/SH.1-2|           F|            F|                 6|              1|         2|                T|      F|        0|      T|      F|           1|               F|               F|          0|              F|               F|         1|               G|        T|        F|        NULL|         0|               0|             N|               0|             N|               0|             N|          0|                 2|                 0|                 0|          13.0|                 NULL|                 NULL|                 NULL|                        F|                        F|                        F|                        F|                        F|                        F|                        F|                        F|                        F|                             johnj105|                                 NULL|                                 NULL|            F|            F|                  F|                  F|                  F|                                  NULL|                                  NULL|                                  NULL|                           NULL|                                          0|                        3|                         0|                        0|                        1|                         0|                        0|                         0|                        0|       20|\n",
      "+------------+-------------+------+------------+----+-----+-------+--------------+---------+----------+--------+-----------+----------+---------------+--------+------------+-----------+----------------+--------+----------+-----------+----------+---------+----------+------------+-----------+------------+-------------+------------+------------+------------+-------------+------------------+---------------+----------+-----------------+-------+---------+-------+-------+------------+----------------+----------------+-----------+---------------+----------------+----------+----------------+---------+---------+------------+----------+----------------+--------------+----------------+--------------+----------------+--------------+-----------+------------------+------------------+------------------+--------------+---------------------+---------------------+---------------------+-------------------------+-------------------------+-------------------------+-------------------------+-------------------------+-------------------------+-------------------------+-------------------------+-------------------------+-------------------------------------+-------------------------------------+-------------------------------------+-------------+-------------+-------------------+-------------------+-------------------+--------------------------------------+--------------------------------------+--------------------------------------+-------------------------------+-------------------------------------------+-------------------------+--------------------------+-------------------------+-------------------------+--------------------------+-------------------------+--------------------------+-------------------------+---------+\n",
      "only showing top 20 rows\n",
      "\n"
     ]
    }
   ],
   "execution_count": 3
  },
  {
   "metadata": {
    "ExecuteTime": {
     "end_time": "2025-05-11T18:39:49.233340Z",
     "start_time": "2025-05-11T18:39:49.220672Z"
    }
   },
   "cell_type": "code",
   "source": "full_df.printSchema()",
   "id": "abe2aeb619c43b73",
   "outputs": [
    {
     "name": "stdout",
     "output_type": "stream",
     "text": [
      "root\n",
      " |-- game id: string (nullable = true)\n",
      " |-- visiting team: string (nullable = true)\n",
      " |-- inning: integer (nullable = true)\n",
      " |-- batting team: integer (nullable = true)\n",
      " |-- outs: integer (nullable = true)\n",
      " |-- balls: integer (nullable = true)\n",
      " |-- strikes: integer (nullable = true)\n",
      " |-- pitch sequence: string (nullable = true)\n",
      " |-- vis score: integer (nullable = true)\n",
      " |-- home score: integer (nullable = true)\n",
      " |-- batter: string (nullable = true)\n",
      " |-- batter hand: string (nullable = true)\n",
      " |-- res batter: string (nullable = true)\n",
      " |-- res batter hand: string (nullable = true)\n",
      " |-- pitcher: string (nullable = true)\n",
      " |-- pitcher hand: string (nullable = true)\n",
      " |-- res pitcher: string (nullable = true)\n",
      " |-- res pitcher hand: string (nullable = true)\n",
      " |-- catcher: string (nullable = true)\n",
      " |-- first base: string (nullable = true)\n",
      " |-- second base: string (nullable = true)\n",
      " |-- third base: string (nullable = true)\n",
      " |-- shortstop: string (nullable = true)\n",
      " |-- left field: string (nullable = true)\n",
      " |-- center field: string (nullable = true)\n",
      " |-- right field: string (nullable = true)\n",
      " |-- first runner: string (nullable = true)\n",
      " |-- second runner: string (nullable = true)\n",
      " |-- third runner: string (nullable = true)\n",
      " |-- event text: string (nullable = true)\n",
      " |-- leadoff flag: string (nullable = true)\n",
      " |-- pinchhit flag: string (nullable = true)\n",
      " |-- defensive position: integer (nullable = true)\n",
      " |-- lineup position: integer (nullable = true)\n",
      " |-- event type: integer (nullable = true)\n",
      " |-- batter event flag: string (nullable = true)\n",
      " |-- ab flag: string (nullable = true)\n",
      " |-- hit value: integer (nullable = true)\n",
      " |-- SH flag: string (nullable = true)\n",
      " |-- SF flag: string (nullable = true)\n",
      " |-- outs on play: integer (nullable = true)\n",
      " |-- double play flag: string (nullable = true)\n",
      " |-- triple play flag: string (nullable = true)\n",
      " |-- RBI on play: integer (nullable = true)\n",
      " |-- wild pitch flag: string (nullable = true)\n",
      " |-- passed ball flag: string (nullable = true)\n",
      " |-- fielded by: integer (nullable = true)\n",
      " |-- batted ball type: string (nullable = true)\n",
      " |-- bunt flag: string (nullable = true)\n",
      " |-- foul flag: string (nullable = true)\n",
      " |-- hit location: string (nullable = true)\n",
      " |-- num errors: integer (nullable = true)\n",
      " |-- 1st error player: integer (nullable = true)\n",
      " |-- 1st error type: string (nullable = true)\n",
      " |-- 2nd error player: integer (nullable = true)\n",
      " |-- 2nd error type: string (nullable = true)\n",
      " |-- 3rd error player: integer (nullable = true)\n",
      " |-- 3rd error type: string (nullable = true)\n",
      " |-- batter dest: integer (nullable = true)\n",
      " |-- runner on 1st dest: integer (nullable = true)\n",
      " |-- runner on 2nd dest: integer (nullable = true)\n",
      " |-- runner on 3rd dest: integer (nullable = true)\n",
      " |-- play on batter: double (nullable = true)\n",
      " |-- play on runner on 1st: string (nullable = true)\n",
      " |-- play on runner on 2nd: string (nullable = true)\n",
      " |-- play on runner on 3rd: string (nullable = true)\n",
      " |-- SB for runner on 1st flag: string (nullable = true)\n",
      " |-- SB for runner on 2nd flag: string (nullable = true)\n",
      " |-- SB for runner on 3rd flag: string (nullable = true)\n",
      " |-- CS for runner on 1st flag: string (nullable = true)\n",
      " |-- CS for runner on 2nd flag: string (nullable = true)\n",
      " |-- CS for runner on 3rd flag: string (nullable = true)\n",
      " |-- PO for runner on 1st flag: string (nullable = true)\n",
      " |-- PO for runner on 2nd flag: string (nullable = true)\n",
      " |-- PO for runner on 3rd flag: string (nullable = true)\n",
      " |-- Responsible pitcher for runner on 1st: string (nullable = true)\n",
      " |-- Responsible pitcher for runner on 2nd: string (nullable = true)\n",
      " |-- Responsible pitcher for runner on 3rd: string (nullable = true)\n",
      " |-- New Game Flag: string (nullable = true)\n",
      " |-- End Game Flag: string (nullable = true)\n",
      " |-- Pinch-runner on 1st: string (nullable = true)\n",
      " |-- Pinch-runner on 2nd: string (nullable = true)\n",
      " |-- Pinch-runner on 3rd: string (nullable = true)\n",
      " |-- Runner removed for pinch-runner on 1st: string (nullable = true)\n",
      " |-- Runner removed for pinch-runner on 2nd: string (nullable = true)\n",
      " |-- Runner removed for pinch-runner on 3rd: string (nullable = true)\n",
      " |-- Batter removed for pinch-hitter: string (nullable = true)\n",
      " |-- Position of batter removed for pinch-hitter: integer (nullable = true)\n",
      " |-- Fielder with First Putout: integer (nullable = true)\n",
      " |-- Fielder with Second Putout: integer (nullable = true)\n",
      " |-- Fielder with Third Putout: integer (nullable = true)\n",
      " |-- Fielder with First Assist: integer (nullable = true)\n",
      " |-- Fielder with Second Assist: integer (nullable = true)\n",
      " |-- Fielder with Third Assist: integer (nullable = true)\n",
      " |-- Fielder with Fourth Assist: integer (nullable = true)\n",
      " |-- Fielder with Fifth Assist: integer (nullable = true)\n",
      " |-- event num: integer (nullable = true)\n",
      "\n"
     ]
    }
   ],
   "execution_count": 4
  },
  {
   "metadata": {
    "ExecuteTime": {
     "end_time": "2025-05-11T18:39:59.454710Z",
     "start_time": "2025-05-11T18:39:52.733261Z"
    }
   },
   "cell_type": "code",
   "source": "full_df.count()",
   "id": "97f996f9d5899b90",
   "outputs": [
    {
     "name": "stderr",
     "output_type": "stream",
     "text": [
      "                                                                                \r"
     ]
    },
    {
     "data": {
      "text/plain": [
       "11769225"
      ]
     },
     "execution_count": 5,
     "metadata": {},
     "output_type": "execute_result"
    }
   ],
   "execution_count": 5
  },
  {
   "metadata": {
    "ExecuteTime": {
     "end_time": "2025-05-11T18:47:53.299626Z",
     "start_time": "2025-05-11T18:47:51.361155Z"
    }
   },
   "cell_type": "code",
   "source": [
    "full_df = full_df.withColumn('Season', F.substring(F.col('game id'), 4, 4).cast('int'))\n",
    "\n",
    "full_df.show()"
   ],
   "id": "5506e2c84b451d3",
   "outputs": [
    {
     "name": "stdout",
     "output_type": "stream",
     "text": [
      "+------------+-------------+------+------------+----+-----+-------+--------------+---------+----------+--------+-----------+----------+---------------+--------+------------+-----------+----------------+--------+----------+-----------+----------+---------+----------+------------+-----------+------------+-------------+------------+------------+------------+-------------+------------------+---------------+----------+-----------------+-------+---------+-------+-------+------------+----------------+----------------+-----------+---------------+----------------+----------+----------------+---------+---------+------------+----------+----------------+--------------+----------------+--------------+----------------+--------------+-----------+------------------+------------------+------------------+--------------+---------------------+---------------------+---------------------+-------------------------+-------------------------+-------------------------+-------------------------+-------------------------+-------------------------+-------------------------+-------------------------+-------------------------+-------------------------------------+-------------------------------------+-------------------------------------+-------------+-------------+-------------------+-------------------+-------------------+--------------------------------------+--------------------------------------+--------------------------------------+-------------------------------+-------------------------------------------+-------------------------+--------------------------+-------------------------+-------------------------+--------------------------+-------------------------+--------------------------+-------------------------+---------+------+\n",
      "|     game id|visiting team|inning|batting team|outs|balls|strikes|pitch sequence|vis score|home score|  batter|batter hand|res batter|res batter hand| pitcher|pitcher hand|res pitcher|res pitcher hand| catcher|first base|second base|third base|shortstop|left field|center field|right field|first runner|second runner|third runner|  event text|leadoff flag|pinchhit flag|defensive position|lineup position|event type|batter event flag|ab flag|hit value|SH flag|SF flag|outs on play|double play flag|triple play flag|RBI on play|wild pitch flag|passed ball flag|fielded by|batted ball type|bunt flag|foul flag|hit location|num errors|1st error player|1st error type|2nd error player|2nd error type|3rd error player|3rd error type|batter dest|runner on 1st dest|runner on 2nd dest|runner on 3rd dest|play on batter|play on runner on 1st|play on runner on 2nd|play on runner on 3rd|SB for runner on 1st flag|SB for runner on 2nd flag|SB for runner on 3rd flag|CS for runner on 1st flag|CS for runner on 2nd flag|CS for runner on 3rd flag|PO for runner on 1st flag|PO for runner on 2nd flag|PO for runner on 3rd flag|Responsible pitcher for runner on 1st|Responsible pitcher for runner on 2nd|Responsible pitcher for runner on 3rd|New Game Flag|End Game Flag|Pinch-runner on 1st|Pinch-runner on 2nd|Pinch-runner on 3rd|Runner removed for pinch-runner on 1st|Runner removed for pinch-runner on 2nd|Runner removed for pinch-runner on 3rd|Batter removed for pinch-hitter|Position of batter removed for pinch-hitter|Fielder with First Putout|Fielder with Second Putout|Fielder with Third Putout|Fielder with First Assist|Fielder with Second Assist|Fielder with Third Assist|Fielder with Fourth Assist|Fielder with Fifth Assist|event num|Season|\n",
      "+------------+-------------+------+------------+----+-----+-------+--------------+---------+----------+--------+-----------+----------+---------------+--------+------------+-----------+----------------+--------+----------+-----------+----------+---------+----------+------------+-----------+------------+-------------+------------+------------+------------+-------------+------------------+---------------+----------+-----------------+-------+---------+-------+-------+------------+----------------+----------------+-----------+---------------+----------------+----------+----------------+---------+---------+------------+----------+----------------+--------------+----------------+--------------+----------------+--------------+-----------+------------------+------------------+------------------+--------------+---------------------+---------------------+---------------------+-------------------------+-------------------------+-------------------------+-------------------------+-------------------------+-------------------------+-------------------------+-------------------------+-------------------------+-------------------------------------+-------------------------------------+-------------------------------------+-------------+-------------+-------------------+-------------------+-------------------+--------------------------------------+--------------------------------------+--------------------------------------+-------------------------------+-------------------------------------------+-------------------------+--------------------------+-------------------------+-------------------------+--------------------------+-------------------------+--------------------------+-------------------------+---------+------+\n",
      "|ATL197004130|          SFN|     1|           0|   0|    0|      0|          NULL|        0|         0|bondb101|          R|  bondb101|              R|jarvp101|           R|   jarvp101|               R|tillb101|  cepeo101|   millf105|  boyec102| jacks102|  cartr101|    gonzt101|   aaroh101|        NULL|         NULL|        NULL|          D9|           T|            F|                 9|              1|        21|                T|      T|        2|      F|      F|           0|               F|               F|          0|              F|               F|         9|            NULL|        F|        F|        NULL|         0|               0|             N|               0|             N|               0|             N|          2|                 0|                 0|                 0|          NULL|                 NULL|                 NULL|                 NULL|                        F|                        F|                        F|                        F|                        F|                        F|                        F|                        F|                        F|                                 NULL|                                 NULL|                                 NULL|            T|            F|                  F|                  F|                  F|                                  NULL|                                  NULL|                                  NULL|                           NULL|                                          0|                        0|                         0|                        0|                        0|                         0|                        0|                         0|                        0|        1|  1970|\n",
      "|ATL197004130|          SFN|     1|           0|   0|    0|      0|          NULL|        0|         0|huntr101|          R|  huntr101|              R|jarvp101|           R|   jarvp101|               R|tillb101|  cepeo101|   millf105|  boyec102| jacks102|  cartr101|    gonzt101|   aaroh101|        NULL|     bondb101|        NULL|      31.2-3|           F|            F|                 4|              2|         2|                T|      T|        0|      F|      F|           1|               F|               F|          0|              F|               F|         3|               G|        F|        F|        NULL|         0|               0|             N|               0|             N|               0|             N|          0|                 0|                 3|                 0|          31.0|                 NULL|                 NULL|                 NULL|                        F|                        F|                        F|                        F|                        F|                        F|                        F|                        F|                        F|                                 NULL|                             jarvp101|                                 NULL|            F|            F|                  F|                  F|                  F|                                  NULL|                                  NULL|                                  NULL|                           NULL|                                          0|                        1|                         0|                        0|                        3|                         0|                        0|                         0|                        0|        2|  1970|\n",
      "|ATL197004130|          SFN|     1|           0|   1|    0|      0|          NULL|        0|         0|maysw101|          R|  maysw101|              R|jarvp101|           R|   jarvp101|               R|tillb101|  cepeo101|   millf105|  boyec102| jacks102|  cartr101|    gonzt101|   aaroh101|        NULL|         NULL|    bondb101|        3/FL|           F|            F|                 8|              3|         2|                T|      T|        0|      F|      F|           1|               F|               F|          0|              F|               F|         3|               F|        F|        T|        NULL|         0|               0|             N|               0|             N|               0|             N|          0|                 0|                 0|                 3|           3.0|                 NULL|                 NULL|                 NULL|                        F|                        F|                        F|                        F|                        F|                        F|                        F|                        F|                        F|                                 NULL|                                 NULL|                             jarvp101|            F|            F|                  F|                  F|                  F|                                  NULL|                                  NULL|                                  NULL|                           NULL|                                          0|                        3|                         0|                        0|                        0|                         0|                        0|                         0|                        0|        3|  1970|\n",
      "|ATL197004130|          SFN|     1|           0|   2|    0|      0|          NULL|        0|         0|mccow101|          L|  mccow101|              L|jarvp101|           R|   jarvp101|               R|tillb101|  cepeo101|   millf105|  boyec102| jacks102|  cartr101|    gonzt101|   aaroh101|        NULL|         NULL|    bondb101|          31|           F|            F|                 3|              4|         2|                T|      T|        0|      F|      F|           1|               F|               F|          0|              F|               F|         3|               G|        F|        F|        NULL|         0|               0|             N|               0|             N|               0|             N|          0|                 0|                 0|                 3|          31.0|                 NULL|                 NULL|                 NULL|                        F|                        F|                        F|                        F|                        F|                        F|                        F|                        F|                        F|                                 NULL|                                 NULL|                             jarvp101|            F|            F|                  F|                  F|                  F|                                  NULL|                                  NULL|                                  NULL|                           NULL|                                          0|                        1|                         0|                        0|                        3|                         0|                        0|                         0|                        0|        4|  1970|\n",
      "|ATL197004130|          SFN|     1|           1|   0|    0|      0|          NULL|        0|         0|jacks102|          L|  jacks102|              L|rebef101|           R|   rebef101|               R|dietd101|  mccow101|   huntr101|  galla101| heisb101|  hendk101|    maysw101|   bondb101|        NULL|         NULL|        NULL|        D/89|           T|            F|                 6|              1|        21|                T|      T|        2|      F|      F|           0|               F|               F|          0|              F|               F|         0|            NULL|        F|        F|          89|         0|               0|             N|               0|             N|               0|             N|          2|                 0|                 0|                 0|          NULL|                 NULL|                 NULL|                 NULL|                        F|                        F|                        F|                        F|                        F|                        F|                        F|                        F|                        F|                                 NULL|                                 NULL|                                 NULL|            F|            F|                  F|                  F|                  F|                                  NULL|                                  NULL|                                  NULL|                           NULL|                                          0|                        0|                         0|                        0|                        0|                         0|                        0|                         0|                        0|        5|  1970|\n",
      "|ATL197004130|          SFN|     1|           1|   0|    0|      0|          NULL|        0|         0|millf105|          R|  millf105|              R|rebef101|           R|   rebef101|               R|dietd101|  mccow101|   huntr101|  galla101| heisb101|  hendk101|    maysw101|   bondb101|        NULL|     jacks102|        NULL|      13/BG#|           F|            F|                 4|              2|         2|                T|      T|        0|      F|      F|           1|               F|               F|          0|              F|               F|         1|               G|        T|        F|        NULL|         0|               0|             N|               0|             N|               0|             N|          0|                 0|                 2|                 0|          13.0|                 NULL|                 NULL|                 NULL|                        F|                        F|                        F|                        F|                        F|                        F|                        F|                        F|                        F|                                 NULL|                             rebef101|                                 NULL|            F|            F|                  F|                  F|                  F|                                  NULL|                                  NULL|                                  NULL|                           NULL|                                          0|                        3|                         0|                        0|                        1|                         0|                        0|                         0|                        0|        6|  1970|\n",
      "|ATL197004130|          SFN|     1|           1|   1|    0|      0|          NULL|        0|         0|aaroh101|          R|  aaroh101|              R|rebef101|           R|   rebef101|               R|dietd101|  mccow101|   huntr101|  galla101| heisb101|  hendk101|    maysw101|   bondb101|        NULL|     jacks102|        NULL|    HR/7.2-H|           F|            F|                 9|              3|        23|                T|      T|        4|      F|      F|           0|               F|               F|          2|              F|               F|         0|            NULL|        F|        F|           7|         0|               0|             N|               0|             N|               0|             N|          4|                 0|                 4|                 0|          NULL|                 NULL|                 NULL|                 NULL|                        F|                        F|                        F|                        F|                        F|                        F|                        F|                        F|                        F|                                 NULL|                             rebef101|                                 NULL|            F|            F|                  F|                  F|                  F|                                  NULL|                                  NULL|                                  NULL|                           NULL|                                          0|                        0|                         0|                        0|                        0|                         0|                        0|                         0|                        0|        7|  1970|\n",
      "|ATL197004130|          SFN|     1|           1|   1|    0|      0|          NULL|        0|         2|cartr101|          R|  cartr101|              R|rebef101|           R|   rebef101|               R|dietd101|  mccow101|   huntr101|  galla101| heisb101|  hendk101|    maysw101|   bondb101|        NULL|         NULL|        NULL|           W|           F|            F|                 7|              4|        14|                T|      F|        0|      F|      F|           0|               F|               F|          0|              F|               F|         0|            NULL|        F|        F|        NULL|         0|               0|             N|               0|             N|               0|             N|          1|                 0|                 0|                 0|          NULL|                 NULL|                 NULL|                 NULL|                        F|                        F|                        F|                        F|                        F|                        F|                        F|                        F|                        F|                                 NULL|                                 NULL|                                 NULL|            F|            F|                  F|                  F|                  F|                                  NULL|                                  NULL|                                  NULL|                           NULL|                                          0|                        0|                         0|                        0|                        0|                         0|                        0|                         0|                        0|        8|  1970|\n",
      "|ATL197004130|          SFN|     1|           1|   1|    0|      0|          NULL|        0|         2|cepeo101|          R|  cepeo101|              R|rebef101|           R|   rebef101|               R|dietd101|  mccow101|   huntr101|  galla101| heisb101|  hendk101|    maysw101|   bondb101|    cartr101|         NULL|        NULL|      S7.1-2|           F|            F|                 3|              5|        20|                T|      T|        1|      F|      F|           0|               F|               F|          0|              F|               F|         7|            NULL|        F|        F|        NULL|         0|               0|             N|               0|             N|               0|             N|          1|                 2|                 0|                 0|          NULL|                 NULL|                 NULL|                 NULL|                        F|                        F|                        F|                        F|                        F|                        F|                        F|                        F|                        F|                             rebef101|                                 NULL|                                 NULL|            F|            F|                  F|                  F|                  F|                                  NULL|                                  NULL|                                  NULL|                           NULL|                                          0|                        0|                         0|                        0|                        0|                         0|                        0|                         0|                        0|        9|  1970|\n",
      "|ATL197004130|          SFN|     1|           1|   1|    0|      0|          NULL|        0|         2|gonzt101|          L|  gonzt101|              L|rebef101|           R|   rebef101|               R|dietd101|  mccow101|   huntr101|  galla101| heisb101|  hendk101|    maysw101|   bondb101|    cepeo101|     cartr101|        NULL|  S9.1-3;2-H|           F|            F|                 8|              6|        20|                T|      T|        1|      F|      F|           0|               F|               F|          1|              F|               F|         9|            NULL|        F|        F|        NULL|         0|               0|             N|               0|             N|               0|             N|          1|                 3|                 4|                 0|          NULL|                 NULL|                 NULL|                 NULL|                        F|                        F|                        F|                        F|                        F|                        F|                        F|                        F|                        F|                             rebef101|                             rebef101|                                 NULL|            F|            F|                  F|                  F|                  F|                                  NULL|                                  NULL|                                  NULL|                           NULL|                                          0|                        0|                         0|                        0|                        0|                         0|                        0|                         0|                        0|       10|  1970|\n",
      "|ATL197004130|          SFN|     1|           1|   1|    0|      0|          NULL|        0|         3|boyec102|          R|  boyec102|              R|johnj105|           L|   johnj105|               L|dietd101|  mccow101|   huntr101|  galla101| heisb101|  hendk101|    maysw101|   bondb101|    gonzt101|         NULL|    cepeo101|    9/SF.3-H|           F|            F|                 5|              7|         2|                T|      F|        0|      F|      T|           1|               F|               F|          1|              F|               F|         9|               F|        F|        F|        NULL|         0|               0|             N|               0|             N|               0|             N|          0|                 1|                 0|                 4|           9.0|                 NULL|                 NULL|                 NULL|                        F|                        F|                        F|                        F|                        F|                        F|                        F|                        F|                        F|                             rebef101|                                 NULL|                             rebef101|            F|            F|                  F|                  F|                  F|                                  NULL|                                  NULL|                                  NULL|                           NULL|                                          0|                        9|                         0|                        0|                        0|                         0|                        0|                         0|                        0|       11|  1970|\n",
      "|ATL197004130|          SFN|     1|           1|   2|    0|      0|          NULL|        0|         4|tillb101|          R|  tillb101|              R|johnj105|           L|   johnj105|               L|dietd101|  mccow101|   huntr101|  galla101| heisb101|  hendk101|    maysw101|   bondb101|    gonzt101|         NULL|        NULL|    64(1)/FO|           F|            F|                 2|              8|         2|                T|      T|        0|      F|      F|           1|               F|               F|          0|              F|               F|         6|               G|        F|        F|        NULL|         0|               0|             N|               0|             N|               0|             N|          1|                 0|                 0|                 0|          NULL|                   64|                 NULL|                 NULL|                        F|                        F|                        F|                        F|                        F|                        F|                        F|                        F|                        F|                             rebef101|                                 NULL|                                 NULL|            F|            F|                  F|                  F|                  F|                                  NULL|                                  NULL|                                  NULL|                           NULL|                                          0|                        4|                         0|                        0|                        6|                         0|                        0|                         0|                        0|       12|  1970|\n",
      "|ATL197004130|          SFN|     2|           0|   0|    0|      0|          NULL|        0|         4|hendk101|          L|  hendk101|              L|jarvp101|           R|   jarvp101|               R|tillb101|  cepeo101|   millf105|  boyec102| jacks102|  cartr101|    gonzt101|   aaroh101|        NULL|         NULL|        NULL|          D9|           T|            F|                 7|              5|        21|                T|      T|        2|      F|      F|           0|               F|               F|          0|              F|               F|         9|            NULL|        F|        F|        NULL|         0|               0|             N|               0|             N|               0|             N|          2|                 0|                 0|                 0|          NULL|                 NULL|                 NULL|                 NULL|                        F|                        F|                        F|                        F|                        F|                        F|                        F|                        F|                        F|                                 NULL|                                 NULL|                                 NULL|            F|            F|                  F|                  F|                  F|                                  NULL|                                  NULL|                                  NULL|                           NULL|                                          0|                        0|                         0|                        0|                        0|                         0|                        0|                         0|                        0|       13|  1970|\n",
      "|ATL197004130|          SFN|     2|           0|   0|    0|      0|          NULL|        0|         4|galla101|          R|  galla101|              R|jarvp101|           R|   jarvp101|               R|tillb101|  cepeo101|   millf105|  boyec102| jacks102|  cartr101|    gonzt101|   aaroh101|        NULL|     hendk101|        NULL|           W|           F|            F|                 5|              6|        14|                T|      F|        0|      F|      F|           0|               F|               F|          0|              F|               F|         0|            NULL|        F|        F|        NULL|         0|               0|             N|               0|             N|               0|             N|          1|                 0|                 2|                 0|          NULL|                 NULL|                 NULL|                 NULL|                        F|                        F|                        F|                        F|                        F|                        F|                        F|                        F|                        F|                                 NULL|                             jarvp101|                                 NULL|            F|            F|                  F|                  F|                  F|                                  NULL|                                  NULL|                                  NULL|                           NULL|                                          0|                        0|                         0|                        0|                        0|                         0|                        0|                         0|                        0|       14|  1970|\n",
      "|ATL197004130|          SFN|     2|           0|   0|    0|      0|          NULL|        0|         4|dietd101|          R|  dietd101|              R|jarvp101|           R|   jarvp101|               R|tillb101|  cepeo101|   millf105|  boyec102| jacks102|  cartr101|    gonzt101|   aaroh101|    galla101|     hendk101|        NULL|S/78.1-2;2-H|           F|            F|                 2|              7|        20|                T|      T|        1|      F|      F|           0|               F|               F|          1|              F|               F|         0|            NULL|        F|        F|          78|         0|               0|             N|               0|             N|               0|             N|          1|                 2|                 4|                 0|          NULL|                 NULL|                 NULL|                 NULL|                        F|                        F|                        F|                        F|                        F|                        F|                        F|                        F|                        F|                             jarvp101|                             jarvp101|                                 NULL|            F|            F|                  F|                  F|                  F|                                  NULL|                                  NULL|                                  NULL|                           NULL|                                          0|                        0|                         0|                        0|                        0|                         0|                        0|                         0|                        0|       15|  1970|\n",
      "|ATL197004130|          SFN|     2|           0|   0|    0|      0|          NULL|        1|         4|heisb101|          R|  heisb101|              R|jarvp101|           R|   jarvp101|               R|tillb101|  cepeo101|   millf105|  boyec102| jacks102|  cartr101|    gonzt101|   aaroh101|    dietd101|     galla101|        NULL| 3/G.1-2;2-3|           F|            F|                 6|              8|         2|                T|      T|        0|      F|      F|           1|               F|               F|          0|              F|               F|         3|               G|        F|        F|        NULL|         0|               0|             N|               0|             N|               0|             N|          0|                 2|                 3|                 0|           3.0|                 NULL|                 NULL|                 NULL|                        F|                        F|                        F|                        F|                        F|                        F|                        F|                        F|                        F|                             jarvp101|                             jarvp101|                                 NULL|            F|            F|                  F|                  F|                  F|                                  NULL|                                  NULL|                                  NULL|                           NULL|                                          0|                        3|                         0|                        0|                        0|                         0|                        0|                         0|                        0|       16|  1970|\n",
      "|ATL197004130|          SFN|     2|           0|   1|    0|      0|          NULL|        1|         4|johnj105|          L|  johnj105|              L|jarvp101|           R|   jarvp101|               R|tillb101|  cepeo101|   millf105|  boyec102| jacks102|  cartr101|    gonzt101|   aaroh101|        NULL|     dietd101|    galla101|           W|           F|            F|                 1|              9|        14|                T|      F|        0|      F|      F|           0|               F|               F|          0|              F|               F|         0|            NULL|        F|        F|        NULL|         0|               0|             N|               0|             N|               0|             N|          1|                 0|                 2|                 3|          NULL|                 NULL|                 NULL|                 NULL|                        F|                        F|                        F|                        F|                        F|                        F|                        F|                        F|                        F|                                 NULL|                             jarvp101|                             jarvp101|            F|            F|                  F|                  F|                  F|                                  NULL|                                  NULL|                                  NULL|                           NULL|                                          0|                        0|                         0|                        0|                        0|                         0|                        0|                         0|                        0|       17|  1970|\n",
      "|ATL197004130|          SFN|     2|           0|   1|    0|      0|          NULL|        1|         4|bondb101|          R|  bondb101|              R|jarvp101|           R|   jarvp101|               R|tillb101|  cepeo101|   millf105|  boyec102| jacks102|  cartr101|    gonzt101|   aaroh101|    johnj105|     dietd101|    galla101|  64(1)3/GDP|           F|            F|                 9|              1|         2|                T|      T|        0|      F|      F|           2|               T|               F|          0|              F|               F|         6|               G|        F|        F|        NULL|         0|               0|             N|               0|             N|               0|             N|          0|                 0|                 2|                 3|          43.0|                   64|                 NULL|                 NULL|                        F|                        F|                        F|                        F|                        F|                        F|                        F|                        F|                        F|                             jarvp101|                             jarvp101|                             jarvp101|            F|            F|                  F|                  F|                  F|                                  NULL|                                  NULL|                                  NULL|                           NULL|                                          0|                        4|                         3|                        0|                        6|                         4|                        0|                         0|                        0|       18|  1970|\n",
      "|ATL197004130|          SFN|     2|           1|   0|    0|      0|          NULL|        1|         4|jarvp101|          R|  jarvp101|              R|johnj105|           L|   johnj105|               L|dietd101|  mccow101|   huntr101|  galla101| heisb101|  hendk101|    maysw101|   bondb101|        NULL|         NULL|        NULL|        S/89|           T|            F|                 1|              9|        20|                T|      T|        1|      F|      F|           0|               F|               F|          0|              F|               F|         0|            NULL|        F|        F|          89|         0|               0|             N|               0|             N|               0|             N|          1|                 0|                 0|                 0|          NULL|                 NULL|                 NULL|                 NULL|                        F|                        F|                        F|                        F|                        F|                        F|                        F|                        F|                        F|                                 NULL|                                 NULL|                                 NULL|            F|            F|                  F|                  F|                  F|                                  NULL|                                  NULL|                                  NULL|                           NULL|                                          0|                        0|                         0|                        0|                        0|                         0|                        0|                         0|                        0|       19|  1970|\n",
      "|ATL197004130|          SFN|     2|           1|   0|    0|      0|          NULL|        1|         4|jacks102|          L|  jacks102|              L|johnj105|           L|   johnj105|               L|dietd101|  mccow101|   huntr101|  galla101| heisb101|  hendk101|    maysw101|   bondb101|    jarvp101|         NULL|        NULL|   13/SH.1-2|           F|            F|                 6|              1|         2|                T|      F|        0|      T|      F|           1|               F|               F|          0|              F|               F|         1|               G|        T|        F|        NULL|         0|               0|             N|               0|             N|               0|             N|          0|                 2|                 0|                 0|          13.0|                 NULL|                 NULL|                 NULL|                        F|                        F|                        F|                        F|                        F|                        F|                        F|                        F|                        F|                             johnj105|                                 NULL|                                 NULL|            F|            F|                  F|                  F|                  F|                                  NULL|                                  NULL|                                  NULL|                           NULL|                                          0|                        3|                         0|                        0|                        1|                         0|                        0|                         0|                        0|       20|  1970|\n",
      "+------------+-------------+------+------------+----+-----+-------+--------------+---------+----------+--------+-----------+----------+---------------+--------+------------+-----------+----------------+--------+----------+-----------+----------+---------+----------+------------+-----------+------------+-------------+------------+------------+------------+-------------+------------------+---------------+----------+-----------------+-------+---------+-------+-------+------------+----------------+----------------+-----------+---------------+----------------+----------+----------------+---------+---------+------------+----------+----------------+--------------+----------------+--------------+----------------+--------------+-----------+------------------+------------------+------------------+--------------+---------------------+---------------------+---------------------+-------------------------+-------------------------+-------------------------+-------------------------+-------------------------+-------------------------+-------------------------+-------------------------+-------------------------+-------------------------------------+-------------------------------------+-------------------------------------+-------------+-------------+-------------------+-------------------+-------------------+--------------------------------------+--------------------------------------+--------------------------------------+-------------------------------+-------------------------------------------+-------------------------+--------------------------+-------------------------+-------------------------+--------------------------+-------------------------+--------------------------+-------------------------+---------+------+\n",
      "only showing top 20 rows\n",
      "\n"
     ]
    }
   ],
   "execution_count": 8
  },
  {
   "metadata": {
    "ExecuteTime": {
     "end_time": "2025-05-11T18:51:35.961002Z",
     "start_time": "2025-05-11T18:51:15.236387Z"
    }
   },
   "cell_type": "code",
   "source": [
    "full_df.select(\n",
    "    F.min(\n",
    "        F.col('Season')\n",
    "    ).alias('Min Season of Data'),\n",
    "\n",
    "    F.max(\n",
    "        F.col('Season')\n",
    "    ).alias('Max Season of Data'),\n",
    ").distinct().show()"
   ],
   "id": "408af11db85e3260",
   "outputs": [
    {
     "name": "stderr",
     "output_type": "stream",
     "text": [
      "[Stage 30:======================================================> (94 + 2) / 96]\r"
     ]
    },
    {
     "name": "stdout",
     "output_type": "stream",
     "text": [
      "+------------------+------------------+\n",
      "|Min Season of Data|Max Season of Data|\n",
      "+------------------+------------------+\n",
      "|              1950|              2024|\n",
      "+------------------+------------------+\n",
      "\n"
     ]
    },
    {
     "name": "stderr",
     "output_type": "stream",
     "text": [
      "                                                                                \r"
     ]
    }
   ],
   "execution_count": 10
  },
  {
   "metadata": {
    "jupyter": {
     "is_executing": true
    },
    "ExecuteTime": {
     "start_time": "2025-05-11T18:21:49.222262Z"
    }
   },
   "cell_type": "code",
   "source": [
    "pandas_full = pd.DataFrame()\n",
    "for file in os.listdir(f'{os.getcwd()}/data/mlb_data'):\n",
    "    file_path = f'{os.getcwd()}/data/mlb_data/{file}'\n",
    "    print(f'Processing {file_path}')\n",
    "    df = pd.read_csv(file_path)\n",
    "\n",
    "    pandas_full = pd.concat([pandas_full, df])\n",
    "\n",
    "\n",
    "print(pandas_full.head())"
   ],
   "id": "316ab03d9bfec528",
   "outputs": [
    {
     "name": "stdout",
     "output_type": "stream",
     "text": [
      "Processing /home/jdwolfe/Spark-Projects/spark-learning-notebooks/data/mlb_data/full_1970s_pbp.csv\n"
     ]
    },
    {
     "name": "stderr",
     "output_type": "stream",
     "text": [
      "/tmp/ipykernel_1219/2705840558.py:5: DtypeWarning: Columns (7,50,64,65,84,85) have mixed types. Specify dtype option on import or set low_memory=False.\n",
      "  df = pd.read_csv(file_path)\n"
     ]
    },
    {
     "name": "stdout",
     "output_type": "stream",
     "text": [
      "Processing /home/jdwolfe/Spark-Projects/spark-learning-notebooks/data/mlb_data/full_2000s_pbp.csv\n"
     ]
    },
    {
     "name": "stderr",
     "output_type": "stream",
     "text": [
      "/tmp/ipykernel_1219/2705840558.py:5: DtypeWarning: Columns (63,64,65,85) have mixed types. Specify dtype option on import or set low_memory=False.\n",
      "  df = pd.read_csv(file_path)\n"
     ]
    },
    {
     "name": "stdout",
     "output_type": "stream",
     "text": [
      "Processing /home/jdwolfe/Spark-Projects/spark-learning-notebooks/data/mlb_data/full_1960s_pbp.csv\n"
     ]
    },
    {
     "name": "stderr",
     "output_type": "stream",
     "text": [
      "/tmp/ipykernel_1219/2705840558.py:5: DtypeWarning: Columns (7,50,64,65,85) have mixed types. Specify dtype option on import or set low_memory=False.\n",
      "  df = pd.read_csv(file_path)\n"
     ]
    },
    {
     "name": "stdout",
     "output_type": "stream",
     "text": [
      "Processing /home/jdwolfe/Spark-Projects/spark-learning-notebooks/data/mlb_data/full_1950s_pbp.csv\n"
     ]
    },
    {
     "name": "stderr",
     "output_type": "stream",
     "text": [
      "/tmp/ipykernel_1219/2705840558.py:5: DtypeWarning: Columns (7,64,65,85) have mixed types. Specify dtype option on import or set low_memory=False.\n",
      "  df = pd.read_csv(file_path)\n"
     ]
    }
   ],
   "execution_count": null
  },
  {
   "metadata": {},
   "cell_type": "markdown",
   "source": "### ^^ Pandas was taking almost 10 min here to process similar data to pyspark it didnt finish so I skipped it",
   "id": "5bddf20800509ab1"
  },
  {
   "metadata": {
    "ExecuteTime": {
     "end_time": "2025-05-11T18:41:07.188524Z",
     "start_time": "2025-05-11T18:40:37.788794Z"
    }
   },
   "cell_type": "code",
   "source": [
    "pitcher_inning_cycles = full_df.groupby('pitcher', 'game id', 'inning').agg(\n",
    "    F.sum(F.when(F.col('event type') == 20, 1).otherwise(0)).alias('singles'),\n",
    "    F.sum(F.when(F.col('event type') == 21, 1).otherwise(0)).alias('doubles'),\n",
    "    F.sum(F.when(F.col('event type') == 22, 1).otherwise(0)).alias('triples'),\n",
    "    F.sum(F.when(F.col('event type') == 23, 1).otherwise(0)).alias('home runs')\n",
    ")\n",
    "\n",
    "pitcher_inning_cycles \\\n",
    "    .filter(\n",
    "        (F.col('singles') > 0) &\n",
    "        (F.col('doubles') > 0) &\n",
    "        (F.col('triples') > 0) &\n",
    "        (F.col('home runs') > 0)\n",
    "    ) \\\n",
    "    .groupby('pitcher') \\\n",
    "    .agg(\n",
    "    F.count('pitcher').alias('count')\n",
    ").sort('count', ascending=False ) \\\n",
    "    .show()\n",
    "\n",
    "\n"
   ],
   "id": "fb1132006a6931d7",
   "outputs": [
    {
     "name": "stderr",
     "output_type": "stream",
     "text": [
      "25/05/11 13:41:06 WARN RowBasedKeyValueBatch: Calling spill() on RowBasedKeyValueBatch. Will not spill but return 0.\n",
      "25/05/11 13:41:06 WARN RowBasedKeyValueBatch: Calling spill() on RowBasedKeyValueBatch. Will not spill but return 0.\n",
      "[Stage 22:=================>                                       (4 + 9) / 13]\r"
     ]
    },
    {
     "name": "stdout",
     "output_type": "stream",
     "text": [
      "+--------+-----+\n",
      "| pitcher|count|\n",
      "+--------+-----+\n",
      "|jacke001|    6|\n",
      "|briln101|    4|\n",
      "|lynnl001|    4|\n",
      "|millk004|    3|\n",
      "|forsb001|    3|\n",
      "|davik002|    3|\n",
      "|cardd101|    3|\n",
      "|paulf001|    3|\n",
      "|frieb102|    3|\n",
      "|owenj101|    3|\n",
      "|pappm101|    3|\n",
      "|gullb001|    3|\n",
      "|wegmb001|    3|\n",
      "|lackj001|    3|\n",
      "|smitm002|    3|\n",
      "|radkb001|    3|\n",
      "|garlj001|    3|\n",
      "|mlicd001|    3|\n",
      "|olivd001|    3|\n",
      "|chatt001|    3|\n",
      "+--------+-----+\n",
      "only showing top 20 rows\n",
      "\n"
     ]
    },
    {
     "name": "stderr",
     "output_type": "stream",
     "text": [
      "                                                                                \r"
     ]
    }
   ],
   "execution_count": 6
  },
  {
   "metadata": {},
   "cell_type": "markdown",
   "source": "## Cycles by Players Leaders",
   "id": "df1bf2fd01e5e027"
  },
  {
   "metadata": {
    "ExecuteTime": {
     "end_time": "2025-05-11T18:55:35.908659Z",
     "start_time": "2025-05-11T18:55:09.811576Z"
    }
   },
   "cell_type": "code",
   "source": [
    "full_df.groupby('batter', 'game id').agg(\n",
    "    F.sum(F.when(F.col('event type') == 20, 1).otherwise(0)).alias('singles'),\n",
    "    F.sum(F.when(F.col('event type') == 21, 1).otherwise(0)).alias('doubles'),\n",
    "    F.sum(F.when(F.col('event type') == 22, 1).otherwise(0)).alias('triples'),\n",
    "    F.sum(F.when(F.col('event type') == 23, 1).otherwise(0)).alias('home runs')\n",
    "    ) \\\n",
    "    .filter(\n",
    "\n",
    "        (F.col('singles') > 0) &\n",
    "        (F.col('doubles') > 0) &\n",
    "        (F.col('triples') > 0) &\n",
    "        (F.col('home runs') > 0)\n",
    "\n",
    "    ).groupby('batter') \\\n",
    "    .agg(\n",
    "    F.count('batter').alias('count')\n",
    ").sort('count', ascending=False ) \\\n",
    "    .show()"
   ],
   "id": "94b9d297382b7099",
   "outputs": [
    {
     "name": "stderr",
     "output_type": "stream",
     "text": [
      "25/05/11 13:55:35 WARN RowBasedKeyValueBatch: Calling spill() on RowBasedKeyValueBatch. Will not spill but return 0.\n",
      "25/05/11 13:55:35 WARN RowBasedKeyValueBatch: Calling spill() on RowBasedKeyValueBatch. Will not spill but return 0.\n",
      "25/05/11 13:55:35 WARN RowBasedKeyValueBatch: Calling spill() on RowBasedKeyValueBatch. Will not spill but return 0.\n",
      "25/05/11 13:55:35 WARN RowBasedKeyValueBatch: Calling spill() on RowBasedKeyValueBatch. Will not spill but return 0.\n",
      "25/05/11 13:55:35 WARN RowBasedKeyValueBatch: Calling spill() on RowBasedKeyValueBatch. Will not spill but return 0.\n",
      "25/05/11 13:55:35 WARN RowBasedKeyValueBatch: Calling spill() on RowBasedKeyValueBatch. Will not spill but return 0.\n",
      "25/05/11 13:55:35 WARN RowBasedKeyValueBatch: Calling spill() on RowBasedKeyValueBatch. Will not spill but return 0.\n",
      "25/05/11 13:55:35 WARN RowBasedKeyValueBatch: Calling spill() on RowBasedKeyValueBatch. Will not spill but return 0.\n",
      "25/05/11 13:55:35 WARN RowBasedKeyValueBatch: Calling spill() on RowBasedKeyValueBatch. Will not spill but return 0.\n",
      "25/05/11 13:55:35 WARN RowBasedKeyValueBatch: Calling spill() on RowBasedKeyValueBatch. Will not spill but return 0.\n",
      "[Stage 35:>                                                       (0 + 12) / 13]\r"
     ]
    },
    {
     "name": "stdout",
     "output_type": "stream",
     "text": [
      "+--------+-----+\n",
      "|  batter|count|\n",
      "+--------+-----+\n",
      "|yelic001|    3|\n",
      "|belta001|    3|\n",
      "|turnt001|    3|\n",
      "|gomec002|    2|\n",
      "|arenn001|    2|\n",
      "|olerj001|    2|\n",
      "|boyek101|    2|\n",
      "|watsb001|    2|\n",
      "|speic001|    2|\n",
      "|bretg001|    2|\n",
      "|hilla001|    2|\n",
      "|freef001|    2|\n",
      "|wilkb002|    2|\n",
      "|fregj101|    2|\n",
      "|cuddm001|    2|\n",
      "|whitf001|    2|\n",
      "|cedec001|    2|\n",
      "|mcdoo001|    1|\n",
      "|dejei001|    1|\n",
      "|teixm001|    1|\n",
      "+--------+-----+\n",
      "only showing top 20 rows\n",
      "\n"
     ]
    },
    {
     "name": "stderr",
     "output_type": "stream",
     "text": [
      "                                                                                \r"
     ]
    }
   ],
   "execution_count": 11
  }
 ],
 "metadata": {
  "kernelspec": {
   "display_name": "Python 3",
   "language": "python",
   "name": "python3"
  },
  "language_info": {
   "codemirror_mode": {
    "name": "ipython",
    "version": 2
   },
   "file_extension": ".py",
   "mimetype": "text/x-python",
   "name": "python",
   "nbconvert_exporter": "python",
   "pygments_lexer": "ipython2",
   "version": "2.7.6"
  }
 },
 "nbformat": 4,
 "nbformat_minor": 5
}
