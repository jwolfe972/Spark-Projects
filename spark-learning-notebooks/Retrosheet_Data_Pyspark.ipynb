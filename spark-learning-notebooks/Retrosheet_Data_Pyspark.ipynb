{
 "cells": [
  {
   "cell_type": "code",
   "id": "initial_id",
   "metadata": {
    "collapsed": true,
    "ExecuteTime": {
     "end_time": "2025-05-11T18:37:44.797403Z",
     "start_time": "2025-05-11T18:37:44.509660Z"
    }
   },
   "source": [
    "from pyspark.sql import SparkSession\n",
    "from ucimlrepo import fetch_ucirepo\n",
    "from pyspark.sql import functions as F\n",
    "from pyspark.sql import Window\n",
    "import matplotlib.pyplot as plt\n",
    "import seaborn as sns\n",
    "import os\n",
    "print(f'{os.getcwd()}')\n",
    "import pandas as pd"
   ],
   "outputs": [
    {
     "name": "stdout",
     "output_type": "stream",
     "text": [
      "/home/jdwolfe/Spark-Projects/spark-learning-notebooks\n"
     ]
    }
   ],
   "execution_count": 1
  },
  {
   "metadata": {},
   "cell_type": "markdown",
   "source": "# We will find the pitcher's who gave given up the most amount of one inning cycles",
   "id": "3bc5ea8d33338663"
  },
  {
   "metadata": {
    "ExecuteTime": {
     "end_time": "2025-05-11T18:38:06.584363Z",
     "start_time": "2025-05-11T18:37:51.684754Z"
    }
   },
   "cell_type": "code",
   "source": [
    "spark = SparkSession.builder.appName(\"Jupyter\").getOrCreate()\n",
    "\n",
    "spark"
   ],
   "id": "61693490be9dade8",
   "outputs": [
    {
     "name": "stderr",
     "output_type": "stream",
     "text": [
      "25/05/11 13:37:57 WARN Utils: Your hostname, JordansGaming resolves to a loopback address: 127.0.1.1; using 10.255.255.254 instead (on interface lo)\n",
      "25/05/11 13:37:57 WARN Utils: Set SPARK_LOCAL_IP if you need to bind to another address\n",
      "Setting default log level to \"WARN\".\n",
      "To adjust logging level use sc.setLogLevel(newLevel). For SparkR, use setLogLevel(newLevel).\n",
      "25/05/11 13:37:59 WARN NativeCodeLoader: Unable to load native-hadoop library for your platform... using builtin-java classes where applicable\n"
     ]
    },
    {
     "data": {
      "text/plain": [
       "<pyspark.sql.session.SparkSession at 0x7f4939ee8d60>"
      ],
      "text/html": [
       "\n",
       "            <div>\n",
       "                <p><b>SparkSession - in-memory</b></p>\n",
       "                \n",
       "        <div>\n",
       "            <p><b>SparkContext</b></p>\n",
       "\n",
       "            <p><a href=\"http://10.255.255.254:4040\">Spark UI</a></p>\n",
       "\n",
       "            <dl>\n",
       "              <dt>Version</dt>\n",
       "                <dd><code>v3.5.5</code></dd>\n",
       "              <dt>Master</dt>\n",
       "                <dd><code>local[*]</code></dd>\n",
       "              <dt>AppName</dt>\n",
       "                <dd><code>Jupyter</code></dd>\n",
       "            </dl>\n",
       "        </div>\n",
       "        \n",
       "            </div>\n",
       "        "
      ]
     },
     "execution_count": 2,
     "metadata": {},
     "output_type": "execute_result"
    }
   ],
   "execution_count": 2
  },
  {
   "metadata": {
    "ExecuteTime": {
     "end_time": "2025-05-11T22:14:44.907849Z",
     "start_time": "2025-05-11T22:14:10.158163Z"
    }
   },
   "cell_type": "code",
   "source": [
    "csv_headers = [\n",
    "    \"game id\", \"visiting team\", \"inning\", \"batting team\", \"outs\", \"balls\", \"strikes\",\n",
    "    \"pitch sequence\", \"vis score\", \"home score\", \"batter\", \"batter hand\", \"res batter\",\n",
    "    \"res batter hand\", \"pitcher\", \"pitcher hand\", \"res pitcher\", \"res pitcher hand\",\n",
    "    \"catcher\", \"first base\", \"second base\", \"third base\", \"shortstop\", \"left field\",\n",
    "    \"center field\", \"right field\", \"first runner\", \"second runner\", \"third runner\",\n",
    "    \"event text\", \"leadoff flag\", \"pinchhit flag\", \"defensive position\", \"lineup position\",\n",
    "    \"event type\", \"batter event flag\", \"ab flag\", \"hit value\", \"SH flag\", \"SF flag\",\n",
    "    \"outs on play\", \"double play flag\", \"triple play flag\", \"RBI on play\", \"wild pitch flag\",\n",
    "    \"passed ball flag\", \"fielded by\", \"batted ball type\", \"bunt flag\", \"foul flag\",\n",
    "    \"hit location\", \"num errors\", \"1st error player\", \"1st error type\", \"2nd error player\",\n",
    "    \"2nd error type\", \"3rd error player\", \"3rd error type\", \"batter dest\",\n",
    "    \"runner on 1st dest\", \"runner on 2nd dest\", \"runner on 3rd dest\", \"play on batter\",\n",
    "    \"play on runner on 1st\", \"play on runner on 2nd\", \"play on runner on 3rd\",\n",
    "    \"SB for runner on 1st flag\", \"SB for runner on 2nd flag\", \"SB for runner on 3rd flag\",\n",
    "    \"CS for runner on 1st flag\", \"CS for runner on 2nd flag\", \"CS for runner on 3rd flag\",\n",
    "    \"PO for runner on 1st flag\", \"PO for runner on 2nd flag\", \"PO for runner on 3rd flag\",\n",
    "    \"Responsible pitcher for runner on 1st\", \"Responsible pitcher for runner on 2nd\",\n",
    "    \"Responsible pitcher for runner on 3rd\", \"New Game Flag\", \"End Game Flag\",\n",
    "    \"Pinch-runner on 1st\", \"Pinch-runner on 2nd\", \"Pinch-runner on 3rd\",\n",
    "    \"Runner removed for pinch-runner on 1st\", \"Runner removed for pinch-runner on 2nd\",\n",
    "    \"Runner removed for pinch-runner on 3rd\", \"Batter removed for pinch-hitter\",\n",
    "    \"Position of batter removed for pinch-hitter\", \"Fielder with First Putout\",\n",
    "    \"Fielder with Second Putout\", \"Fielder with Third Putout\", \"Fielder with First Assist\",\n",
    "    \"Fielder with Second Assist\", \"Fielder with Third Assist\", \"Fielder with Fourth Assist\",\n",
    "    \"Fielder with Fifth Assist\", \"event num\"\n",
    "]\n",
    "\n",
    "full_df = None\n",
    "\n",
    "for file in os.listdir(f'{os.getcwd()}/data/mlb_data/decade_pbp_files'):\n",
    "    file_path = f'{os.getcwd()}/data/mlb_data/decade_pbp_files/{file}'\n",
    "    print(f'Processing {file_path}')\n",
    "    df = spark.read.csv(file_path, header=False, inferSchema=True).toDF(*csv_headers)\n",
    "\n",
    "    if full_df is None:\n",
    "        full_df = df\n",
    "    else:\n",
    "        full_df = full_df.unionByName(df)\n",
    "\n",
    "full_df.show()\n"
   ],
   "id": "c20501e429dd9611",
   "outputs": [
    {
     "name": "stdout",
     "output_type": "stream",
     "text": [
      "Processing /home/jdwolfe/Spark-Projects/spark-learning-notebooks/data/mlb_data/decade_pbp_files/full_1910s_pbp.csv\n"
     ]
    },
    {
     "name": "stderr",
     "output_type": "stream",
     "text": [
      "                                                                                \r"
     ]
    },
    {
     "name": "stdout",
     "output_type": "stream",
     "text": [
      "Processing /home/jdwolfe/Spark-Projects/spark-learning-notebooks/data/mlb_data/decade_pbp_files/full_1970s_pbp.csv\n"
     ]
    },
    {
     "name": "stderr",
     "output_type": "stream",
     "text": [
      "                                                                                \r"
     ]
    },
    {
     "name": "stdout",
     "output_type": "stream",
     "text": [
      "Processing /home/jdwolfe/Spark-Projects/spark-learning-notebooks/data/mlb_data/decade_pbp_files/full_1930s_pbp.csv\n"
     ]
    },
    {
     "name": "stderr",
     "output_type": "stream",
     "text": [
      "                                                                                \r"
     ]
    },
    {
     "name": "stdout",
     "output_type": "stream",
     "text": [
      "Processing /home/jdwolfe/Spark-Projects/spark-learning-notebooks/data/mlb_data/decade_pbp_files/full_2000s_pbp.csv\n"
     ]
    },
    {
     "name": "stderr",
     "output_type": "stream",
     "text": [
      "                                                                                \r"
     ]
    },
    {
     "name": "stdout",
     "output_type": "stream",
     "text": [
      "Processing /home/jdwolfe/Spark-Projects/spark-learning-notebooks/data/mlb_data/decade_pbp_files/full_1960s_pbp.csv\n"
     ]
    },
    {
     "name": "stderr",
     "output_type": "stream",
     "text": [
      "                                                                                \r"
     ]
    },
    {
     "name": "stdout",
     "output_type": "stream",
     "text": [
      "Processing /home/jdwolfe/Spark-Projects/spark-learning-notebooks/data/mlb_data/decade_pbp_files/full_1950s_pbp.csv\n"
     ]
    },
    {
     "name": "stderr",
     "output_type": "stream",
     "text": [
      "                                                                                \r"
     ]
    },
    {
     "name": "stdout",
     "output_type": "stream",
     "text": [
      "Processing /home/jdwolfe/Spark-Projects/spark-learning-notebooks/data/mlb_data/decade_pbp_files/full_1940s_pbp.csv\n"
     ]
    },
    {
     "name": "stderr",
     "output_type": "stream",
     "text": [
      "                                                                                \r"
     ]
    },
    {
     "name": "stdout",
     "output_type": "stream",
     "text": [
      "Processing /home/jdwolfe/Spark-Projects/spark-learning-notebooks/data/mlb_data/decade_pbp_files/full_1920s_pbp.csv\n"
     ]
    },
    {
     "name": "stderr",
     "output_type": "stream",
     "text": [
      "                                                                                \r"
     ]
    },
    {
     "name": "stdout",
     "output_type": "stream",
     "text": [
      "Processing /home/jdwolfe/Spark-Projects/spark-learning-notebooks/data/mlb_data/decade_pbp_files/full_1980s_pbp.csv\n"
     ]
    },
    {
     "name": "stderr",
     "output_type": "stream",
     "text": [
      "                                                                                \r"
     ]
    },
    {
     "name": "stdout",
     "output_type": "stream",
     "text": [
      "Processing /home/jdwolfe/Spark-Projects/spark-learning-notebooks/data/mlb_data/decade_pbp_files/full_1990s_pbp.csv\n"
     ]
    },
    {
     "name": "stderr",
     "output_type": "stream",
     "text": [
      "                                                                                \r"
     ]
    },
    {
     "name": "stdout",
     "output_type": "stream",
     "text": [
      "Processing /home/jdwolfe/Spark-Projects/spark-learning-notebooks/data/mlb_data/decade_pbp_files/full_2020s_pbp.csv\n"
     ]
    },
    {
     "name": "stderr",
     "output_type": "stream",
     "text": [
      "                                                                                \r"
     ]
    },
    {
     "name": "stdout",
     "output_type": "stream",
     "text": [
      "Processing /home/jdwolfe/Spark-Projects/spark-learning-notebooks/data/mlb_data/decade_pbp_files/full_2010s_pbp.csv\n"
     ]
    },
    {
     "name": "stderr",
     "output_type": "stream",
     "text": [
      "                                                                                \r"
     ]
    },
    {
     "name": "stdout",
     "output_type": "stream",
     "text": [
      "+------------+-------------+------+------------+----+-----+-------+--------------+---------+----------+--------+-----------+----------+---------------+--------+------------+-----------+----------------+--------+----------+-----------+----------+---------+----------+------------+-----------+------------+-------------+------------+---------------+------------+-------------+------------------+---------------+----------+-----------------+-------+---------+-------+-------+------------+----------------+----------------+-----------+---------------+----------------+----------+----------------+---------+---------+------------+----------+----------------+--------------+----------------+--------------+----------------+--------------+-----------+------------------+------------------+------------------+--------------+---------------------+---------------------+---------------------+-------------------------+-------------------------+-------------------------+-------------------------+-------------------------+-------------------------+-------------------------+-------------------------+-------------------------+-------------------------------------+-------------------------------------+-------------------------------------+-------------+-------------+-------------------+-------------------+-------------------+--------------------------------------+--------------------------------------+--------------------------------------+-------------------------------+-------------------------------------------+-------------------------+--------------------------+-------------------------+-------------------------+--------------------------+-------------------------+--------------------------+-------------------------+---------+\n",
      "|     game id|visiting team|inning|batting team|outs|balls|strikes|pitch sequence|vis score|home score|  batter|batter hand|res batter|res batter hand| pitcher|pitcher hand|res pitcher|res pitcher hand| catcher|first base|second base|third base|shortstop|left field|center field|right field|first runner|second runner|third runner|     event text|leadoff flag|pinchhit flag|defensive position|lineup position|event type|batter event flag|ab flag|hit value|SH flag|SF flag|outs on play|double play flag|triple play flag|RBI on play|wild pitch flag|passed ball flag|fielded by|batted ball type|bunt flag|foul flag|hit location|num errors|1st error player|1st error type|2nd error player|2nd error type|3rd error player|3rd error type|batter dest|runner on 1st dest|runner on 2nd dest|runner on 3rd dest|play on batter|play on runner on 1st|play on runner on 2nd|play on runner on 3rd|SB for runner on 1st flag|SB for runner on 2nd flag|SB for runner on 3rd flag|CS for runner on 1st flag|CS for runner on 2nd flag|CS for runner on 3rd flag|PO for runner on 1st flag|PO for runner on 2nd flag|PO for runner on 3rd flag|Responsible pitcher for runner on 1st|Responsible pitcher for runner on 2nd|Responsible pitcher for runner on 3rd|New Game Flag|End Game Flag|Pinch-runner on 1st|Pinch-runner on 2nd|Pinch-runner on 3rd|Runner removed for pinch-runner on 1st|Runner removed for pinch-runner on 2nd|Runner removed for pinch-runner on 3rd|Batter removed for pinch-hitter|Position of batter removed for pinch-hitter|Fielder with First Putout|Fielder with Second Putout|Fielder with Third Putout|Fielder with First Assist|Fielder with Second Assist|Fielder with Third Assist|Fielder with Fourth Assist|Fielder with Fifth Assist|event num|\n",
      "+------------+-------------+------+------------+----+-----+-------+--------------+---------+----------+--------+-----------+----------+---------------+--------+------------+-----------+----------------+--------+----------+-----------+----------+---------+----------+------------+-----------+------------+-------------+------------+---------------+------------+-------------+------------------+---------------+----------+-----------------+-------+---------+-------+-------+------------+----------------+----------------+-----------+---------------+----------------+----------+----------------+---------+---------+------------+----------+----------------+--------------+----------------+--------------+----------------+--------------+-----------+------------------+------------------+------------------+--------------+---------------------+---------------------+---------------------+-------------------------+-------------------------+-------------------------+-------------------------+-------------------------+-------------------------+-------------------------+-------------------------+-------------------------+-------------------------------------+-------------------------------------+-------------------------------------+-------------+-------------+-------------------+-------------------+-------------------+--------------------------------------+--------------------------------------+--------------------------------------+-------------------------------+-------------------------------------------+-------------------------+--------------------------+-------------------------+-------------------------+--------------------------+-------------------------+--------------------------+-------------------------+---------+\n",
      "|BRO191204110|          NY1|     1|           0|   0|    0|      0|          NULL|        0|         0|devoj101|          L|  devoj101|              L|ruckn101|           L|   ruckn101|               L|phele101|  daubj101|   hummj101|  smitr108| stard101|  wheaz101|    north101|   morah101|        NULL|         NULL|        NULL|             13|           T|            F|                 7|              1|         2|                T|      T|        0|      F|      F|           1|               F|               F|          0|              F|               F|         1|               G|        F|        F|        NULL|         0|               0|             N|               0|             N|               0|             N|          0|                 0|                 0|                 0|          13.0|                 NULL|                 NULL|                 NULL|                        F|                        F|                        F|                        F|                        F|                        F|                        F|                        F|                        F|                                 NULL|                                 NULL|                                 NULL|            T|            F|                  F|                  F|                  F|                                  NULL|                                  NULL|                                  NULL|                           NULL|                                          0|                        3|                         0|                        0|                        1|                         0|                        0|                         0|                        0|        1|\n",
      "|BRO191204110|          NY1|     1|           0|   1|    0|      0|          NULL|        0|         0|doyll101|          L|  doyll101|              L|ruckn101|           L|   ruckn101|               L|phele101|  daubj101|   hummj101|  smitr108| stard101|  wheaz101|    north101|   morah101|        NULL|         NULL|        NULL|           E4/G|           F|            F|                 4|              2|        18|                T|      T|        0|      F|      F|           0|               F|               F|          0|              F|               F|         4|               G|        F|        F|        NULL|         1|               4|             F|               0|             N|               0|             N|          1|                 0|                 0|                 0|          NULL|                 NULL|                 NULL|                 NULL|                        F|                        F|                        F|                        F|                        F|                        F|                        F|                        F|                        F|                                 NULL|                                 NULL|                                 NULL|            F|            F|                  F|                  F|                  F|                                  NULL|                                  NULL|                                  NULL|                           NULL|                                          0|                        0|                         0|                        0|                        0|                         0|                        0|                         0|                        0|        2|\n",
      "|BRO191204110|          NY1|     1|           0|   1|    0|      0|          NULL|        0|         0|snodf101|          R|  snodf101|              R|ruckn101|           L|   ruckn101|               L|phele101|  daubj101|   hummj101|  smitr108| stard101|  wheaz101|    north101|   morah101|    doyll101|         NULL|        NULL|       64(1)/FO|           F|            F|                 8|              3|         2|                T|      T|        0|      F|      F|           1|               F|               F|          0|              F|               F|         6|               G|        F|        F|        NULL|         0|               0|             N|               0|             N|               0|             N|          1|                 0|                 0|                 0|          NULL|                   64|                 NULL|                 NULL|                        F|                        F|                        F|                        F|                        F|                        F|                        F|                        F|                        F|                             ruckn101|                                 NULL|                                 NULL|            F|            F|                  F|                  F|                  F|                                  NULL|                                  NULL|                                  NULL|                           NULL|                                          0|                        4|                         0|                        0|                        6|                         0|                        0|                         0|                        0|        3|\n",
      "|BRO191204110|          NY1|     1|           0|   2|    0|      0|          NULL|        0|         0|murrr103|          R|  murrr103|              R|ruckn101|           L|   ruckn101|               L|phele101|  daubj101|   hummj101|  smitr108| stard101|  wheaz101|    north101|   morah101|    snodf101|         NULL|        NULL|        CS2(26)|           F|            F|                 9|              4|         6|                F|      F|        0|      F|      F|           1|               F|               F|          0|              F|               F|         0|            NULL|        F|        F|        NULL|         0|               0|             N|               0|             N|               0|             N|          0|                 0|                 0|                 0|          NULL|                   26|                 NULL|                 NULL|                        F|                        F|                        F|                        T|                        F|                        F|                        F|                        F|                        F|                             ruckn101|                                 NULL|                                 NULL|            F|            F|                  F|                  F|                  F|                                  NULL|                                  NULL|                                  NULL|                           NULL|                                          0|                        6|                         0|                        0|                        2|                         0|                        0|                         0|                        0|        4|\n",
      "|BRO191204110|          NY1|     1|           1|   0|    0|      0|          NULL|        0|         0|morah101|          L|  morah101|              L|marqr102|           L|   marqr102|               L|meyec101|  merkf101|   doyll101|  herzb101| shaft102|  devoj101|    snodf101|   murrr103|        NULL|         NULL|        NULL|             53|           T|            F|                 9|              1|         2|                T|      T|        0|      F|      F|           1|               F|               F|          0|              F|               F|         5|               G|        F|        F|        NULL|         0|               0|             N|               0|             N|               0|             N|          0|                 0|                 0|                 0|          53.0|                 NULL|                 NULL|                 NULL|                        F|                        F|                        F|                        F|                        F|                        F|                        F|                        F|                        F|                                 NULL|                                 NULL|                                 NULL|            F|            F|                  F|                  F|                  F|                                  NULL|                                  NULL|                                  NULL|                           NULL|                                          0|                        3|                         0|                        0|                        5|                         0|                        0|                         0|                        0|        5|\n",
      "|BRO191204110|          NY1|     1|           1|   1|    0|      0|          NULL|        0|         0|daubj101|          L|  daubj101|              L|marqr102|           L|   marqr102|               L|meyec101|  merkf101|   doyll101|  herzb101| shaft102|  devoj101|    snodf101|   murrr103|        NULL|         NULL|        NULL|             S8|           F|            F|                 3|              2|        20|                T|      T|        1|      F|      F|           0|               F|               F|          0|              F|               F|         8|            NULL|        F|        F|        NULL|         0|               0|             N|               0|             N|               0|             N|          1|                 0|                 0|                 0|          NULL|                 NULL|                 NULL|                 NULL|                        F|                        F|                        F|                        F|                        F|                        F|                        F|                        F|                        F|                                 NULL|                                 NULL|                                 NULL|            F|            F|                  F|                  F|                  F|                                  NULL|                                  NULL|                                  NULL|                           NULL|                                          0|                        0|                         0|                        0|                        0|                         0|                        0|                         0|                        0|        6|\n",
      "|BRO191204110|          NY1|     1|           1|   1|    0|      0|          NULL|        0|         0|smitr108|          R|  smitr108|              R|marqr102|           L|   marqr102|               L|meyec101|  merkf101|   doyll101|  herzb101| shaft102|  devoj101|    snodf101|   murrr103|    daubj101|         NULL|        NULL|    POCS2(1343)|           F|            F|                 5|              3|         8|                F|      F|        0|      F|      F|           1|               F|               F|          0|              F|               F|         0|            NULL|        F|        F|        NULL|         0|               0|             N|               0|             N|               0|             N|          0|                 0|                 0|                 0|          NULL|                 1343|                 NULL|                 NULL|                        F|                        F|                        F|                        T|                        F|                        F|                        T|                        F|                        F|                             marqr102|                                 NULL|                                 NULL|            F|            F|                  F|                  F|                  F|                                  NULL|                                  NULL|                                  NULL|                           NULL|                                          0|                        3|                         0|                        0|                        1|                         3|                        4|                         0|                        0|        7|\n",
      "|BRO191204110|          NY1|     1|           1|   2|    0|      0|          NULL|        0|         0|smitr108|          R|  smitr108|              R|marqr102|           L|   marqr102|               L|meyec101|  merkf101|   doyll101|  herzb101| shaft102|  devoj101|    snodf101|   murrr103|        NULL|         NULL|        NULL|        23/INT#|           F|            F|                 5|              3|         2|                T|      T|        0|      F|      F|           1|               F|               F|          0|              F|               F|         2|               G|        F|        F|        NULL|         0|               0|             N|               0|             N|               0|             N|          0|                 0|                 0|                 0|          23.0|                 NULL|                 NULL|                 NULL|                        F|                        F|                        F|                        F|                        F|                        F|                        F|                        F|                        F|                                 NULL|                                 NULL|                                 NULL|            F|            F|                  F|                  F|                  F|                                  NULL|                                  NULL|                                  NULL|                           NULL|                                          0|                        3|                         0|                        0|                        2|                         0|                        0|                         0|                        0|        8|\n",
      "|BRO191204110|          NY1|     2|           0|   0|    0|      0|          NULL|        0|         0|murrr103|          R|  murrr103|              R|ruckn101|           L|   ruckn101|               L|phele101|  daubj101|   hummj101|  smitr108| stard101|  wheaz101|    north101|   morah101|        NULL|         NULL|        NULL|             13|           T|            F|                 9|              4|         2|                T|      T|        0|      F|      F|           1|               F|               F|          0|              F|               F|         1|               G|        F|        F|        NULL|         0|               0|             N|               0|             N|               0|             N|          0|                 0|                 0|                 0|          13.0|                 NULL|                 NULL|                 NULL|                        F|                        F|                        F|                        F|                        F|                        F|                        F|                        F|                        F|                                 NULL|                                 NULL|                                 NULL|            F|            F|                  F|                  F|                  F|                                  NULL|                                  NULL|                                  NULL|                           NULL|                                          0|                        3|                         0|                        0|                        1|                         0|                        0|                         0|                        0|        9|\n",
      "|BRO191204110|          NY1|     2|           0|   1|    0|      0|          NULL|        0|         0|merkf101|          R|  merkf101|              R|ruckn101|           L|   ruckn101|               L|phele101|  daubj101|   hummj101|  smitr108| stard101|  wheaz101|    north101|   morah101|        NULL|         NULL|        NULL|              W|           F|            F|                 3|              5|        14|                T|      F|        0|      F|      F|           0|               F|               F|          0|              F|               F|         0|            NULL|        F|        F|        NULL|         0|               0|             N|               0|             N|               0|             N|          1|                 0|                 0|                 0|          NULL|                 NULL|                 NULL|                 NULL|                        F|                        F|                        F|                        F|                        F|                        F|                        F|                        F|                        F|                                 NULL|                                 NULL|                                 NULL|            F|            F|                  F|                  F|                  F|                                  NULL|                                  NULL|                                  NULL|                           NULL|                                          0|                        0|                         0|                        0|                        0|                         0|                        0|                         0|                        0|       10|\n",
      "|BRO191204110|          NY1|     2|           0|   1|    0|      0|          NULL|        0|         0|herzb101|          R|  herzb101|              R|ruckn101|           L|   ruckn101|               L|phele101|  daubj101|   hummj101|  smitr108| stard101|  wheaz101|    north101|   morah101|    merkf101|         NULL|        NULL|      DGR/9.1-3|           F|            F|                 5|              6|        21|                T|      T|        2|      F|      F|           0|               F|               F|          0|              F|               F|         0|            NULL|        F|        F|           9|         0|               0|             N|               0|             N|               0|             N|          2|                 3|                 0|                 0|          NULL|                 NULL|                 NULL|                 NULL|                        F|                        F|                        F|                        F|                        F|                        F|                        F|                        F|                        F|                             ruckn101|                                 NULL|                                 NULL|            F|            F|                  F|                  F|                  F|                                  NULL|                                  NULL|                                  NULL|                           NULL|                                          0|                        0|                         0|                        0|                        0|                         0|                        0|                         0|                        0|       11|\n",
      "|BRO191204110|          NY1|     2|           0|   1|    0|      0|          NULL|        0|         0|shaft102|          R|  shaft102|              R|ruckn101|           L|   ruckn101|               L|phele101|  daubj101|   hummj101|  smitr108| stard101|  wheaz101|    north101|   morah101|        NULL|     herzb101|    merkf101|FC1.3XH(12);2-3|           F|            F|                 6|              7|        19|                T|      T|        0|      F|      F|           1|               F|               F|          0|              F|               F|         1|               G|        F|        F|        NULL|         0|               0|             N|               0|             N|               0|             N|          1|                 0|                 3|                 0|          NULL|                 NULL|                 NULL|                   12|                        F|                        F|                        F|                        F|                        F|                        F|                        F|                        F|                        F|                                 NULL|                             ruckn101|                             ruckn101|            F|            F|                  F|                  F|                  F|                                  NULL|                                  NULL|                                  NULL|                           NULL|                                          0|                        2|                         0|                        0|                        1|                         0|                        0|                         0|                        0|       12|\n",
      "|BRO191204110|          NY1|     2|           0|   2|    0|      0|          NULL|        0|         0|meyec101|          R|  meyec101|              R|ruckn101|           L|   ruckn101|               L|phele101|  daubj101|   hummj101|  smitr108| stard101|  wheaz101|    north101|   morah101|    shaft102|         NULL|    herzb101|  DGR/8.3-H;1-3|           F|            F|                 2|              8|        21|                T|      T|        2|      F|      F|           0|               F|               F|          1|              F|               F|         0|            NULL|        F|        F|           8|         0|               0|             N|               0|             N|               0|             N|          2|                 3|                 0|                 4|          NULL|                 NULL|                 NULL|                 NULL|                        F|                        F|                        F|                        F|                        F|                        F|                        F|                        F|                        F|                             ruckn101|                                 NULL|                             ruckn101|            F|            F|                  F|                  F|                  F|                                  NULL|                                  NULL|                                  NULL|                           NULL|                                          0|                        0|                         0|                        0|                        0|                         0|                        0|                         0|                        0|       13|\n",
      "|BRO191204110|          NY1|     2|           0|   2|    0|      0|          NULL|        1|         0|marqr102|          R|  marqr102|              R|ruckn101|           L|   ruckn101|               L|phele101|  daubj101|   hummj101|  smitr108| stard101|  wheaz101|    north101|   morah101|        NULL|     meyec101|    shaft102|  DGR/8.3-H;2-H|           F|            F|                 1|              9|        21|                T|      T|        2|      F|      F|           0|               F|               F|          2|              F|               F|         0|            NULL|        F|        F|           8|         0|               0|             N|               0|             N|               0|             N|          2|                 0|                 4|                 4|          NULL|                 NULL|                 NULL|                 NULL|                        F|                        F|                        F|                        F|                        F|                        F|                        F|                        F|                        F|                                 NULL|                             ruckn101|                             ruckn101|            F|            F|                  F|                  F|                  F|                                  NULL|                                  NULL|                                  NULL|                           NULL|                                          0|                        0|                         0|                        0|                        0|                         0|                        0|                         0|                        0|       14|\n",
      "|BRO191204110|          NY1|     2|           0|   2|    0|      0|          NULL|        3|         0|devoj101|          L|  devoj101|              L|ruckn101|           L|   ruckn101|               L|phele101|  daubj101|   hummj101|  smitr108| stard101|  wheaz101|    north101|   morah101|        NULL|     marqr102|        NULL|             43|           F|            F|                 7|              1|         2|                T|      T|        0|      F|      F|           1|               F|               F|          0|              F|               F|         4|               G|        F|        F|        NULL|         0|               0|             N|               0|             N|               0|             N|          0|                 0|                 2|                 0|          43.0|                 NULL|                 NULL|                 NULL|                        F|                        F|                        F|                        F|                        F|                        F|                        F|                        F|                        F|                                 NULL|                             ruckn101|                                 NULL|            F|            F|                  F|                  F|                  F|                                  NULL|                                  NULL|                                  NULL|                           NULL|                                          0|                        3|                         0|                        0|                        4|                         0|                        0|                         0|                        0|       15|\n",
      "|BRO191204110|          NY1|     2|           1|   0|    0|      0|          NULL|        3|         0|north101|          L|  north101|              L|marqr102|           L|   marqr102|               L|meyec101|  merkf101|   doyll101|  herzb101| shaft102|  devoj101|    snodf101|   murrr103|        NULL|         NULL|        NULL|            7/F|           T|            F|                 8|              4|         2|                T|      T|        0|      F|      F|           1|               F|               F|          0|              F|               F|         7|               F|        F|        F|        NULL|         0|               0|             N|               0|             N|               0|             N|          0|                 0|                 0|                 0|           7.0|                 NULL|                 NULL|                 NULL|                        F|                        F|                        F|                        F|                        F|                        F|                        F|                        F|                        F|                                 NULL|                                 NULL|                                 NULL|            F|            F|                  F|                  F|                  F|                                  NULL|                                  NULL|                                  NULL|                           NULL|                                          0|                        7|                         0|                        0|                        0|                         0|                        0|                         0|                        0|       16|\n",
      "|BRO191204110|          NY1|     2|           1|   1|    0|      0|          NULL|        3|         0|wheaz101|          L|  wheaz101|              L|marqr102|           L|   marqr102|               L|meyec101|  merkf101|   doyll101|  herzb101| shaft102|  devoj101|    snodf101|   murrr103|        NULL|         NULL|        NULL|              W|           F|            F|                 7|              5|        14|                T|      F|        0|      F|      F|           0|               F|               F|          0|              F|               F|         0|            NULL|        F|        F|        NULL|         0|               0|             N|               0|             N|               0|             N|          1|                 0|                 0|                 0|          NULL|                 NULL|                 NULL|                 NULL|                        F|                        F|                        F|                        F|                        F|                        F|                        F|                        F|                        F|                                 NULL|                                 NULL|                                 NULL|            F|            F|                  F|                  F|                  F|                                  NULL|                                  NULL|                                  NULL|                           NULL|                                          0|                        0|                         0|                        0|                        0|                         0|                        0|                         0|                        0|       17|\n",
      "|BRO191204110|          NY1|     2|           1|   1|    0|      0|          NULL|        3|         0|hummj101|          R|  hummj101|              R|marqr102|           L|   marqr102|               L|meyec101|  merkf101|   doyll101|  herzb101| shaft102|  devoj101|    snodf101|   murrr103|    wheaz101|         NULL|        NULL|            4/P|           F|            F|                 4|              6|         2|                T|      T|        0|      F|      F|           1|               F|               F|          0|              F|               F|         4|               P|        F|        F|        NULL|         0|               0|             N|               0|             N|               0|             N|          0|                 1|                 0|                 0|           4.0|                 NULL|                 NULL|                 NULL|                        F|                        F|                        F|                        F|                        F|                        F|                        F|                        F|                        F|                             marqr102|                                 NULL|                                 NULL|            F|            F|                  F|                  F|                  F|                                  NULL|                                  NULL|                                  NULL|                           NULL|                                          0|                        4|                         0|                        0|                        0|                         0|                        0|                         0|                        0|       18|\n",
      "|BRO191204110|          NY1|     2|           1|   2|    0|      0|          NULL|        3|         0|stard101|          R|  stard101|              R|marqr102|           L|   marqr102|               L|meyec101|  merkf101|   doyll101|  herzb101| shaft102|  devoj101|    snodf101|   murrr103|    wheaz101|         NULL|        NULL|         S7.1-2|           F|            F|                 6|              7|        20|                T|      T|        1|      F|      F|           0|               F|               F|          0|              F|               F|         7|            NULL|        F|        F|        NULL|         0|               0|             N|               0|             N|               0|             N|          1|                 2|                 0|                 0|          NULL|                 NULL|                 NULL|                 NULL|                        F|                        F|                        F|                        F|                        F|                        F|                        F|                        F|                        F|                             marqr102|                                 NULL|                                 NULL|            F|            F|                  F|                  F|                  F|                                  NULL|                                  NULL|                                  NULL|                           NULL|                                          0|                        0|                         0|                        0|                        0|                         0|                        0|                         0|                        0|       19|\n",
      "|BRO191204110|          NY1|     2|           1|   2|    0|      0|          NULL|        3|         0|phele101|          R|  phele101|              R|marqr102|           L|   marqr102|               L|meyec101|  merkf101|   doyll101|  herzb101| shaft102|  devoj101|    snodf101|   murrr103|    stard101|     wheaz101|        NULL|      W.2-3;1-2|           F|            F|                 2|              8|        14|                T|      F|        0|      F|      F|           0|               F|               F|          0|              F|               F|         0|            NULL|        F|        F|        NULL|         0|               0|             N|               0|             N|               0|             N|          1|                 2|                 3|                 0|          NULL|                 NULL|                 NULL|                 NULL|                        F|                        F|                        F|                        F|                        F|                        F|                        F|                        F|                        F|                             marqr102|                             marqr102|                                 NULL|            F|            F|                  F|                  F|                  F|                                  NULL|                                  NULL|                                  NULL|                           NULL|                                          0|                        0|                         0|                        0|                        0|                         0|                        0|                         0|                        0|       20|\n",
      "+------------+-------------+------+------------+----+-----+-------+--------------+---------+----------+--------+-----------+----------+---------------+--------+------------+-----------+----------------+--------+----------+-----------+----------+---------+----------+------------+-----------+------------+-------------+------------+---------------+------------+-------------+------------------+---------------+----------+-----------------+-------+---------+-------+-------+------------+----------------+----------------+-----------+---------------+----------------+----------+----------------+---------+---------+------------+----------+----------------+--------------+----------------+--------------+----------------+--------------+-----------+------------------+------------------+------------------+--------------+---------------------+---------------------+---------------------+-------------------------+-------------------------+-------------------------+-------------------------+-------------------------+-------------------------+-------------------------+-------------------------+-------------------------+-------------------------------------+-------------------------------------+-------------------------------------+-------------+-------------+-------------------+-------------------+-------------------+--------------------------------------+--------------------------------------+--------------------------------------+-------------------------------+-------------------------------------------+-------------------------+--------------------------+-------------------------+-------------------------+--------------------------+-------------------------+--------------------------+-------------------------+---------+\n",
      "only showing top 20 rows\n",
      "\n"
     ]
    }
   ],
   "execution_count": 30
  },
  {
   "metadata": {
    "ExecuteTime": {
     "end_time": "2025-05-11T18:39:49.233340Z",
     "start_time": "2025-05-11T18:39:49.220672Z"
    }
   },
   "cell_type": "code",
   "source": "full_df.printSchema()",
   "id": "abe2aeb619c43b73",
   "outputs": [
    {
     "name": "stdout",
     "output_type": "stream",
     "text": [
      "root\n",
      " |-- game id: string (nullable = true)\n",
      " |-- visiting team: string (nullable = true)\n",
      " |-- inning: integer (nullable = true)\n",
      " |-- batting team: integer (nullable = true)\n",
      " |-- outs: integer (nullable = true)\n",
      " |-- balls: integer (nullable = true)\n",
      " |-- strikes: integer (nullable = true)\n",
      " |-- pitch sequence: string (nullable = true)\n",
      " |-- vis score: integer (nullable = true)\n",
      " |-- home score: integer (nullable = true)\n",
      " |-- batter: string (nullable = true)\n",
      " |-- batter hand: string (nullable = true)\n",
      " |-- res batter: string (nullable = true)\n",
      " |-- res batter hand: string (nullable = true)\n",
      " |-- pitcher: string (nullable = true)\n",
      " |-- pitcher hand: string (nullable = true)\n",
      " |-- res pitcher: string (nullable = true)\n",
      " |-- res pitcher hand: string (nullable = true)\n",
      " |-- catcher: string (nullable = true)\n",
      " |-- first base: string (nullable = true)\n",
      " |-- second base: string (nullable = true)\n",
      " |-- third base: string (nullable = true)\n",
      " |-- shortstop: string (nullable = true)\n",
      " |-- left field: string (nullable = true)\n",
      " |-- center field: string (nullable = true)\n",
      " |-- right field: string (nullable = true)\n",
      " |-- first runner: string (nullable = true)\n",
      " |-- second runner: string (nullable = true)\n",
      " |-- third runner: string (nullable = true)\n",
      " |-- event text: string (nullable = true)\n",
      " |-- leadoff flag: string (nullable = true)\n",
      " |-- pinchhit flag: string (nullable = true)\n",
      " |-- defensive position: integer (nullable = true)\n",
      " |-- lineup position: integer (nullable = true)\n",
      " |-- event type: integer (nullable = true)\n",
      " |-- batter event flag: string (nullable = true)\n",
      " |-- ab flag: string (nullable = true)\n",
      " |-- hit value: integer (nullable = true)\n",
      " |-- SH flag: string (nullable = true)\n",
      " |-- SF flag: string (nullable = true)\n",
      " |-- outs on play: integer (nullable = true)\n",
      " |-- double play flag: string (nullable = true)\n",
      " |-- triple play flag: string (nullable = true)\n",
      " |-- RBI on play: integer (nullable = true)\n",
      " |-- wild pitch flag: string (nullable = true)\n",
      " |-- passed ball flag: string (nullable = true)\n",
      " |-- fielded by: integer (nullable = true)\n",
      " |-- batted ball type: string (nullable = true)\n",
      " |-- bunt flag: string (nullable = true)\n",
      " |-- foul flag: string (nullable = true)\n",
      " |-- hit location: string (nullable = true)\n",
      " |-- num errors: integer (nullable = true)\n",
      " |-- 1st error player: integer (nullable = true)\n",
      " |-- 1st error type: string (nullable = true)\n",
      " |-- 2nd error player: integer (nullable = true)\n",
      " |-- 2nd error type: string (nullable = true)\n",
      " |-- 3rd error player: integer (nullable = true)\n",
      " |-- 3rd error type: string (nullable = true)\n",
      " |-- batter dest: integer (nullable = true)\n",
      " |-- runner on 1st dest: integer (nullable = true)\n",
      " |-- runner on 2nd dest: integer (nullable = true)\n",
      " |-- runner on 3rd dest: integer (nullable = true)\n",
      " |-- play on batter: double (nullable = true)\n",
      " |-- play on runner on 1st: string (nullable = true)\n",
      " |-- play on runner on 2nd: string (nullable = true)\n",
      " |-- play on runner on 3rd: string (nullable = true)\n",
      " |-- SB for runner on 1st flag: string (nullable = true)\n",
      " |-- SB for runner on 2nd flag: string (nullable = true)\n",
      " |-- SB for runner on 3rd flag: string (nullable = true)\n",
      " |-- CS for runner on 1st flag: string (nullable = true)\n",
      " |-- CS for runner on 2nd flag: string (nullable = true)\n",
      " |-- CS for runner on 3rd flag: string (nullable = true)\n",
      " |-- PO for runner on 1st flag: string (nullable = true)\n",
      " |-- PO for runner on 2nd flag: string (nullable = true)\n",
      " |-- PO for runner on 3rd flag: string (nullable = true)\n",
      " |-- Responsible pitcher for runner on 1st: string (nullable = true)\n",
      " |-- Responsible pitcher for runner on 2nd: string (nullable = true)\n",
      " |-- Responsible pitcher for runner on 3rd: string (nullable = true)\n",
      " |-- New Game Flag: string (nullable = true)\n",
      " |-- End Game Flag: string (nullable = true)\n",
      " |-- Pinch-runner on 1st: string (nullable = true)\n",
      " |-- Pinch-runner on 2nd: string (nullable = true)\n",
      " |-- Pinch-runner on 3rd: string (nullable = true)\n",
      " |-- Runner removed for pinch-runner on 1st: string (nullable = true)\n",
      " |-- Runner removed for pinch-runner on 2nd: string (nullable = true)\n",
      " |-- Runner removed for pinch-runner on 3rd: string (nullable = true)\n",
      " |-- Batter removed for pinch-hitter: string (nullable = true)\n",
      " |-- Position of batter removed for pinch-hitter: integer (nullable = true)\n",
      " |-- Fielder with First Putout: integer (nullable = true)\n",
      " |-- Fielder with Second Putout: integer (nullable = true)\n",
      " |-- Fielder with Third Putout: integer (nullable = true)\n",
      " |-- Fielder with First Assist: integer (nullable = true)\n",
      " |-- Fielder with Second Assist: integer (nullable = true)\n",
      " |-- Fielder with Third Assist: integer (nullable = true)\n",
      " |-- Fielder with Fourth Assist: integer (nullable = true)\n",
      " |-- Fielder with Fifth Assist: integer (nullable = true)\n",
      " |-- event num: integer (nullable = true)\n",
      "\n"
     ]
    }
   ],
   "execution_count": 4
  },
  {
   "metadata": {
    "ExecuteTime": {
     "end_time": "2025-05-11T22:15:07.306128Z",
     "start_time": "2025-05-11T22:15:05.018933Z"
    }
   },
   "cell_type": "code",
   "source": "full_df.count()",
   "id": "97f996f9d5899b90",
   "outputs": [
    {
     "name": "stderr",
     "output_type": "stream",
     "text": [
      "                                                                                \r"
     ]
    },
    {
     "data": {
      "text/plain": [
       "15217681"
      ]
     },
     "execution_count": 31,
     "metadata": {},
     "output_type": "execute_result"
    }
   ],
   "execution_count": 31
  },
  {
   "metadata": {
    "ExecuteTime": {
     "end_time": "2025-05-11T22:15:16.173431Z",
     "start_time": "2025-05-11T22:15:15.394226Z"
    }
   },
   "cell_type": "code",
   "source": [
    "full_df = full_df.withColumn('Season', F.substring(F.col('game id'), 4, 4).cast('int'))\n",
    "\n",
    "full_df.show()"
   ],
   "id": "5506e2c84b451d3",
   "outputs": [
    {
     "name": "stdout",
     "output_type": "stream",
     "text": [
      "+------------+-------------+------+------------+----+-----+-------+--------------+---------+----------+--------+-----------+----------+---------------+--------+------------+-----------+----------------+--------+----------+-----------+----------+---------+----------+------------+-----------+------------+-------------+------------+---------------+------------+-------------+------------------+---------------+----------+-----------------+-------+---------+-------+-------+------------+----------------+----------------+-----------+---------------+----------------+----------+----------------+---------+---------+------------+----------+----------------+--------------+----------------+--------------+----------------+--------------+-----------+------------------+------------------+------------------+--------------+---------------------+---------------------+---------------------+-------------------------+-------------------------+-------------------------+-------------------------+-------------------------+-------------------------+-------------------------+-------------------------+-------------------------+-------------------------------------+-------------------------------------+-------------------------------------+-------------+-------------+-------------------+-------------------+-------------------+--------------------------------------+--------------------------------------+--------------------------------------+-------------------------------+-------------------------------------------+-------------------------+--------------------------+-------------------------+-------------------------+--------------------------+-------------------------+--------------------------+-------------------------+---------+------+\n",
      "|     game id|visiting team|inning|batting team|outs|balls|strikes|pitch sequence|vis score|home score|  batter|batter hand|res batter|res batter hand| pitcher|pitcher hand|res pitcher|res pitcher hand| catcher|first base|second base|third base|shortstop|left field|center field|right field|first runner|second runner|third runner|     event text|leadoff flag|pinchhit flag|defensive position|lineup position|event type|batter event flag|ab flag|hit value|SH flag|SF flag|outs on play|double play flag|triple play flag|RBI on play|wild pitch flag|passed ball flag|fielded by|batted ball type|bunt flag|foul flag|hit location|num errors|1st error player|1st error type|2nd error player|2nd error type|3rd error player|3rd error type|batter dest|runner on 1st dest|runner on 2nd dest|runner on 3rd dest|play on batter|play on runner on 1st|play on runner on 2nd|play on runner on 3rd|SB for runner on 1st flag|SB for runner on 2nd flag|SB for runner on 3rd flag|CS for runner on 1st flag|CS for runner on 2nd flag|CS for runner on 3rd flag|PO for runner on 1st flag|PO for runner on 2nd flag|PO for runner on 3rd flag|Responsible pitcher for runner on 1st|Responsible pitcher for runner on 2nd|Responsible pitcher for runner on 3rd|New Game Flag|End Game Flag|Pinch-runner on 1st|Pinch-runner on 2nd|Pinch-runner on 3rd|Runner removed for pinch-runner on 1st|Runner removed for pinch-runner on 2nd|Runner removed for pinch-runner on 3rd|Batter removed for pinch-hitter|Position of batter removed for pinch-hitter|Fielder with First Putout|Fielder with Second Putout|Fielder with Third Putout|Fielder with First Assist|Fielder with Second Assist|Fielder with Third Assist|Fielder with Fourth Assist|Fielder with Fifth Assist|event num|Season|\n",
      "+------------+-------------+------+------------+----+-----+-------+--------------+---------+----------+--------+-----------+----------+---------------+--------+------------+-----------+----------------+--------+----------+-----------+----------+---------+----------+------------+-----------+------------+-------------+------------+---------------+------------+-------------+------------------+---------------+----------+-----------------+-------+---------+-------+-------+------------+----------------+----------------+-----------+---------------+----------------+----------+----------------+---------+---------+------------+----------+----------------+--------------+----------------+--------------+----------------+--------------+-----------+------------------+------------------+------------------+--------------+---------------------+---------------------+---------------------+-------------------------+-------------------------+-------------------------+-------------------------+-------------------------+-------------------------+-------------------------+-------------------------+-------------------------+-------------------------------------+-------------------------------------+-------------------------------------+-------------+-------------+-------------------+-------------------+-------------------+--------------------------------------+--------------------------------------+--------------------------------------+-------------------------------+-------------------------------------------+-------------------------+--------------------------+-------------------------+-------------------------+--------------------------+-------------------------+--------------------------+-------------------------+---------+------+\n",
      "|BRO191204110|          NY1|     1|           0|   0|    0|      0|          NULL|        0|         0|devoj101|          L|  devoj101|              L|ruckn101|           L|   ruckn101|               L|phele101|  daubj101|   hummj101|  smitr108| stard101|  wheaz101|    north101|   morah101|        NULL|         NULL|        NULL|             13|           T|            F|                 7|              1|         2|                T|      T|        0|      F|      F|           1|               F|               F|          0|              F|               F|         1|               G|        F|        F|        NULL|         0|               0|             N|               0|             N|               0|             N|          0|                 0|                 0|                 0|          13.0|                 NULL|                 NULL|                 NULL|                        F|                        F|                        F|                        F|                        F|                        F|                        F|                        F|                        F|                                 NULL|                                 NULL|                                 NULL|            T|            F|                  F|                  F|                  F|                                  NULL|                                  NULL|                                  NULL|                           NULL|                                          0|                        3|                         0|                        0|                        1|                         0|                        0|                         0|                        0|        1|  1912|\n",
      "|BRO191204110|          NY1|     1|           0|   1|    0|      0|          NULL|        0|         0|doyll101|          L|  doyll101|              L|ruckn101|           L|   ruckn101|               L|phele101|  daubj101|   hummj101|  smitr108| stard101|  wheaz101|    north101|   morah101|        NULL|         NULL|        NULL|           E4/G|           F|            F|                 4|              2|        18|                T|      T|        0|      F|      F|           0|               F|               F|          0|              F|               F|         4|               G|        F|        F|        NULL|         1|               4|             F|               0|             N|               0|             N|          1|                 0|                 0|                 0|          NULL|                 NULL|                 NULL|                 NULL|                        F|                        F|                        F|                        F|                        F|                        F|                        F|                        F|                        F|                                 NULL|                                 NULL|                                 NULL|            F|            F|                  F|                  F|                  F|                                  NULL|                                  NULL|                                  NULL|                           NULL|                                          0|                        0|                         0|                        0|                        0|                         0|                        0|                         0|                        0|        2|  1912|\n",
      "|BRO191204110|          NY1|     1|           0|   1|    0|      0|          NULL|        0|         0|snodf101|          R|  snodf101|              R|ruckn101|           L|   ruckn101|               L|phele101|  daubj101|   hummj101|  smitr108| stard101|  wheaz101|    north101|   morah101|    doyll101|         NULL|        NULL|       64(1)/FO|           F|            F|                 8|              3|         2|                T|      T|        0|      F|      F|           1|               F|               F|          0|              F|               F|         6|               G|        F|        F|        NULL|         0|               0|             N|               0|             N|               0|             N|          1|                 0|                 0|                 0|          NULL|                   64|                 NULL|                 NULL|                        F|                        F|                        F|                        F|                        F|                        F|                        F|                        F|                        F|                             ruckn101|                                 NULL|                                 NULL|            F|            F|                  F|                  F|                  F|                                  NULL|                                  NULL|                                  NULL|                           NULL|                                          0|                        4|                         0|                        0|                        6|                         0|                        0|                         0|                        0|        3|  1912|\n",
      "|BRO191204110|          NY1|     1|           0|   2|    0|      0|          NULL|        0|         0|murrr103|          R|  murrr103|              R|ruckn101|           L|   ruckn101|               L|phele101|  daubj101|   hummj101|  smitr108| stard101|  wheaz101|    north101|   morah101|    snodf101|         NULL|        NULL|        CS2(26)|           F|            F|                 9|              4|         6|                F|      F|        0|      F|      F|           1|               F|               F|          0|              F|               F|         0|            NULL|        F|        F|        NULL|         0|               0|             N|               0|             N|               0|             N|          0|                 0|                 0|                 0|          NULL|                   26|                 NULL|                 NULL|                        F|                        F|                        F|                        T|                        F|                        F|                        F|                        F|                        F|                             ruckn101|                                 NULL|                                 NULL|            F|            F|                  F|                  F|                  F|                                  NULL|                                  NULL|                                  NULL|                           NULL|                                          0|                        6|                         0|                        0|                        2|                         0|                        0|                         0|                        0|        4|  1912|\n",
      "|BRO191204110|          NY1|     1|           1|   0|    0|      0|          NULL|        0|         0|morah101|          L|  morah101|              L|marqr102|           L|   marqr102|               L|meyec101|  merkf101|   doyll101|  herzb101| shaft102|  devoj101|    snodf101|   murrr103|        NULL|         NULL|        NULL|             53|           T|            F|                 9|              1|         2|                T|      T|        0|      F|      F|           1|               F|               F|          0|              F|               F|         5|               G|        F|        F|        NULL|         0|               0|             N|               0|             N|               0|             N|          0|                 0|                 0|                 0|          53.0|                 NULL|                 NULL|                 NULL|                        F|                        F|                        F|                        F|                        F|                        F|                        F|                        F|                        F|                                 NULL|                                 NULL|                                 NULL|            F|            F|                  F|                  F|                  F|                                  NULL|                                  NULL|                                  NULL|                           NULL|                                          0|                        3|                         0|                        0|                        5|                         0|                        0|                         0|                        0|        5|  1912|\n",
      "|BRO191204110|          NY1|     1|           1|   1|    0|      0|          NULL|        0|         0|daubj101|          L|  daubj101|              L|marqr102|           L|   marqr102|               L|meyec101|  merkf101|   doyll101|  herzb101| shaft102|  devoj101|    snodf101|   murrr103|        NULL|         NULL|        NULL|             S8|           F|            F|                 3|              2|        20|                T|      T|        1|      F|      F|           0|               F|               F|          0|              F|               F|         8|            NULL|        F|        F|        NULL|         0|               0|             N|               0|             N|               0|             N|          1|                 0|                 0|                 0|          NULL|                 NULL|                 NULL|                 NULL|                        F|                        F|                        F|                        F|                        F|                        F|                        F|                        F|                        F|                                 NULL|                                 NULL|                                 NULL|            F|            F|                  F|                  F|                  F|                                  NULL|                                  NULL|                                  NULL|                           NULL|                                          0|                        0|                         0|                        0|                        0|                         0|                        0|                         0|                        0|        6|  1912|\n",
      "|BRO191204110|          NY1|     1|           1|   1|    0|      0|          NULL|        0|         0|smitr108|          R|  smitr108|              R|marqr102|           L|   marqr102|               L|meyec101|  merkf101|   doyll101|  herzb101| shaft102|  devoj101|    snodf101|   murrr103|    daubj101|         NULL|        NULL|    POCS2(1343)|           F|            F|                 5|              3|         8|                F|      F|        0|      F|      F|           1|               F|               F|          0|              F|               F|         0|            NULL|        F|        F|        NULL|         0|               0|             N|               0|             N|               0|             N|          0|                 0|                 0|                 0|          NULL|                 1343|                 NULL|                 NULL|                        F|                        F|                        F|                        T|                        F|                        F|                        T|                        F|                        F|                             marqr102|                                 NULL|                                 NULL|            F|            F|                  F|                  F|                  F|                                  NULL|                                  NULL|                                  NULL|                           NULL|                                          0|                        3|                         0|                        0|                        1|                         3|                        4|                         0|                        0|        7|  1912|\n",
      "|BRO191204110|          NY1|     1|           1|   2|    0|      0|          NULL|        0|         0|smitr108|          R|  smitr108|              R|marqr102|           L|   marqr102|               L|meyec101|  merkf101|   doyll101|  herzb101| shaft102|  devoj101|    snodf101|   murrr103|        NULL|         NULL|        NULL|        23/INT#|           F|            F|                 5|              3|         2|                T|      T|        0|      F|      F|           1|               F|               F|          0|              F|               F|         2|               G|        F|        F|        NULL|         0|               0|             N|               0|             N|               0|             N|          0|                 0|                 0|                 0|          23.0|                 NULL|                 NULL|                 NULL|                        F|                        F|                        F|                        F|                        F|                        F|                        F|                        F|                        F|                                 NULL|                                 NULL|                                 NULL|            F|            F|                  F|                  F|                  F|                                  NULL|                                  NULL|                                  NULL|                           NULL|                                          0|                        3|                         0|                        0|                        2|                         0|                        0|                         0|                        0|        8|  1912|\n",
      "|BRO191204110|          NY1|     2|           0|   0|    0|      0|          NULL|        0|         0|murrr103|          R|  murrr103|              R|ruckn101|           L|   ruckn101|               L|phele101|  daubj101|   hummj101|  smitr108| stard101|  wheaz101|    north101|   morah101|        NULL|         NULL|        NULL|             13|           T|            F|                 9|              4|         2|                T|      T|        0|      F|      F|           1|               F|               F|          0|              F|               F|         1|               G|        F|        F|        NULL|         0|               0|             N|               0|             N|               0|             N|          0|                 0|                 0|                 0|          13.0|                 NULL|                 NULL|                 NULL|                        F|                        F|                        F|                        F|                        F|                        F|                        F|                        F|                        F|                                 NULL|                                 NULL|                                 NULL|            F|            F|                  F|                  F|                  F|                                  NULL|                                  NULL|                                  NULL|                           NULL|                                          0|                        3|                         0|                        0|                        1|                         0|                        0|                         0|                        0|        9|  1912|\n",
      "|BRO191204110|          NY1|     2|           0|   1|    0|      0|          NULL|        0|         0|merkf101|          R|  merkf101|              R|ruckn101|           L|   ruckn101|               L|phele101|  daubj101|   hummj101|  smitr108| stard101|  wheaz101|    north101|   morah101|        NULL|         NULL|        NULL|              W|           F|            F|                 3|              5|        14|                T|      F|        0|      F|      F|           0|               F|               F|          0|              F|               F|         0|            NULL|        F|        F|        NULL|         0|               0|             N|               0|             N|               0|             N|          1|                 0|                 0|                 0|          NULL|                 NULL|                 NULL|                 NULL|                        F|                        F|                        F|                        F|                        F|                        F|                        F|                        F|                        F|                                 NULL|                                 NULL|                                 NULL|            F|            F|                  F|                  F|                  F|                                  NULL|                                  NULL|                                  NULL|                           NULL|                                          0|                        0|                         0|                        0|                        0|                         0|                        0|                         0|                        0|       10|  1912|\n",
      "|BRO191204110|          NY1|     2|           0|   1|    0|      0|          NULL|        0|         0|herzb101|          R|  herzb101|              R|ruckn101|           L|   ruckn101|               L|phele101|  daubj101|   hummj101|  smitr108| stard101|  wheaz101|    north101|   morah101|    merkf101|         NULL|        NULL|      DGR/9.1-3|           F|            F|                 5|              6|        21|                T|      T|        2|      F|      F|           0|               F|               F|          0|              F|               F|         0|            NULL|        F|        F|           9|         0|               0|             N|               0|             N|               0|             N|          2|                 3|                 0|                 0|          NULL|                 NULL|                 NULL|                 NULL|                        F|                        F|                        F|                        F|                        F|                        F|                        F|                        F|                        F|                             ruckn101|                                 NULL|                                 NULL|            F|            F|                  F|                  F|                  F|                                  NULL|                                  NULL|                                  NULL|                           NULL|                                          0|                        0|                         0|                        0|                        0|                         0|                        0|                         0|                        0|       11|  1912|\n",
      "|BRO191204110|          NY1|     2|           0|   1|    0|      0|          NULL|        0|         0|shaft102|          R|  shaft102|              R|ruckn101|           L|   ruckn101|               L|phele101|  daubj101|   hummj101|  smitr108| stard101|  wheaz101|    north101|   morah101|        NULL|     herzb101|    merkf101|FC1.3XH(12);2-3|           F|            F|                 6|              7|        19|                T|      T|        0|      F|      F|           1|               F|               F|          0|              F|               F|         1|               G|        F|        F|        NULL|         0|               0|             N|               0|             N|               0|             N|          1|                 0|                 3|                 0|          NULL|                 NULL|                 NULL|                   12|                        F|                        F|                        F|                        F|                        F|                        F|                        F|                        F|                        F|                                 NULL|                             ruckn101|                             ruckn101|            F|            F|                  F|                  F|                  F|                                  NULL|                                  NULL|                                  NULL|                           NULL|                                          0|                        2|                         0|                        0|                        1|                         0|                        0|                         0|                        0|       12|  1912|\n",
      "|BRO191204110|          NY1|     2|           0|   2|    0|      0|          NULL|        0|         0|meyec101|          R|  meyec101|              R|ruckn101|           L|   ruckn101|               L|phele101|  daubj101|   hummj101|  smitr108| stard101|  wheaz101|    north101|   morah101|    shaft102|         NULL|    herzb101|  DGR/8.3-H;1-3|           F|            F|                 2|              8|        21|                T|      T|        2|      F|      F|           0|               F|               F|          1|              F|               F|         0|            NULL|        F|        F|           8|         0|               0|             N|               0|             N|               0|             N|          2|                 3|                 0|                 4|          NULL|                 NULL|                 NULL|                 NULL|                        F|                        F|                        F|                        F|                        F|                        F|                        F|                        F|                        F|                             ruckn101|                                 NULL|                             ruckn101|            F|            F|                  F|                  F|                  F|                                  NULL|                                  NULL|                                  NULL|                           NULL|                                          0|                        0|                         0|                        0|                        0|                         0|                        0|                         0|                        0|       13|  1912|\n",
      "|BRO191204110|          NY1|     2|           0|   2|    0|      0|          NULL|        1|         0|marqr102|          R|  marqr102|              R|ruckn101|           L|   ruckn101|               L|phele101|  daubj101|   hummj101|  smitr108| stard101|  wheaz101|    north101|   morah101|        NULL|     meyec101|    shaft102|  DGR/8.3-H;2-H|           F|            F|                 1|              9|        21|                T|      T|        2|      F|      F|           0|               F|               F|          2|              F|               F|         0|            NULL|        F|        F|           8|         0|               0|             N|               0|             N|               0|             N|          2|                 0|                 4|                 4|          NULL|                 NULL|                 NULL|                 NULL|                        F|                        F|                        F|                        F|                        F|                        F|                        F|                        F|                        F|                                 NULL|                             ruckn101|                             ruckn101|            F|            F|                  F|                  F|                  F|                                  NULL|                                  NULL|                                  NULL|                           NULL|                                          0|                        0|                         0|                        0|                        0|                         0|                        0|                         0|                        0|       14|  1912|\n",
      "|BRO191204110|          NY1|     2|           0|   2|    0|      0|          NULL|        3|         0|devoj101|          L|  devoj101|              L|ruckn101|           L|   ruckn101|               L|phele101|  daubj101|   hummj101|  smitr108| stard101|  wheaz101|    north101|   morah101|        NULL|     marqr102|        NULL|             43|           F|            F|                 7|              1|         2|                T|      T|        0|      F|      F|           1|               F|               F|          0|              F|               F|         4|               G|        F|        F|        NULL|         0|               0|             N|               0|             N|               0|             N|          0|                 0|                 2|                 0|          43.0|                 NULL|                 NULL|                 NULL|                        F|                        F|                        F|                        F|                        F|                        F|                        F|                        F|                        F|                                 NULL|                             ruckn101|                                 NULL|            F|            F|                  F|                  F|                  F|                                  NULL|                                  NULL|                                  NULL|                           NULL|                                          0|                        3|                         0|                        0|                        4|                         0|                        0|                         0|                        0|       15|  1912|\n",
      "|BRO191204110|          NY1|     2|           1|   0|    0|      0|          NULL|        3|         0|north101|          L|  north101|              L|marqr102|           L|   marqr102|               L|meyec101|  merkf101|   doyll101|  herzb101| shaft102|  devoj101|    snodf101|   murrr103|        NULL|         NULL|        NULL|            7/F|           T|            F|                 8|              4|         2|                T|      T|        0|      F|      F|           1|               F|               F|          0|              F|               F|         7|               F|        F|        F|        NULL|         0|               0|             N|               0|             N|               0|             N|          0|                 0|                 0|                 0|           7.0|                 NULL|                 NULL|                 NULL|                        F|                        F|                        F|                        F|                        F|                        F|                        F|                        F|                        F|                                 NULL|                                 NULL|                                 NULL|            F|            F|                  F|                  F|                  F|                                  NULL|                                  NULL|                                  NULL|                           NULL|                                          0|                        7|                         0|                        0|                        0|                         0|                        0|                         0|                        0|       16|  1912|\n",
      "|BRO191204110|          NY1|     2|           1|   1|    0|      0|          NULL|        3|         0|wheaz101|          L|  wheaz101|              L|marqr102|           L|   marqr102|               L|meyec101|  merkf101|   doyll101|  herzb101| shaft102|  devoj101|    snodf101|   murrr103|        NULL|         NULL|        NULL|              W|           F|            F|                 7|              5|        14|                T|      F|        0|      F|      F|           0|               F|               F|          0|              F|               F|         0|            NULL|        F|        F|        NULL|         0|               0|             N|               0|             N|               0|             N|          1|                 0|                 0|                 0|          NULL|                 NULL|                 NULL|                 NULL|                        F|                        F|                        F|                        F|                        F|                        F|                        F|                        F|                        F|                                 NULL|                                 NULL|                                 NULL|            F|            F|                  F|                  F|                  F|                                  NULL|                                  NULL|                                  NULL|                           NULL|                                          0|                        0|                         0|                        0|                        0|                         0|                        0|                         0|                        0|       17|  1912|\n",
      "|BRO191204110|          NY1|     2|           1|   1|    0|      0|          NULL|        3|         0|hummj101|          R|  hummj101|              R|marqr102|           L|   marqr102|               L|meyec101|  merkf101|   doyll101|  herzb101| shaft102|  devoj101|    snodf101|   murrr103|    wheaz101|         NULL|        NULL|            4/P|           F|            F|                 4|              6|         2|                T|      T|        0|      F|      F|           1|               F|               F|          0|              F|               F|         4|               P|        F|        F|        NULL|         0|               0|             N|               0|             N|               0|             N|          0|                 1|                 0|                 0|           4.0|                 NULL|                 NULL|                 NULL|                        F|                        F|                        F|                        F|                        F|                        F|                        F|                        F|                        F|                             marqr102|                                 NULL|                                 NULL|            F|            F|                  F|                  F|                  F|                                  NULL|                                  NULL|                                  NULL|                           NULL|                                          0|                        4|                         0|                        0|                        0|                         0|                        0|                         0|                        0|       18|  1912|\n",
      "|BRO191204110|          NY1|     2|           1|   2|    0|      0|          NULL|        3|         0|stard101|          R|  stard101|              R|marqr102|           L|   marqr102|               L|meyec101|  merkf101|   doyll101|  herzb101| shaft102|  devoj101|    snodf101|   murrr103|    wheaz101|         NULL|        NULL|         S7.1-2|           F|            F|                 6|              7|        20|                T|      T|        1|      F|      F|           0|               F|               F|          0|              F|               F|         7|            NULL|        F|        F|        NULL|         0|               0|             N|               0|             N|               0|             N|          1|                 2|                 0|                 0|          NULL|                 NULL|                 NULL|                 NULL|                        F|                        F|                        F|                        F|                        F|                        F|                        F|                        F|                        F|                             marqr102|                                 NULL|                                 NULL|            F|            F|                  F|                  F|                  F|                                  NULL|                                  NULL|                                  NULL|                           NULL|                                          0|                        0|                         0|                        0|                        0|                         0|                        0|                         0|                        0|       19|  1912|\n",
      "|BRO191204110|          NY1|     2|           1|   2|    0|      0|          NULL|        3|         0|phele101|          R|  phele101|              R|marqr102|           L|   marqr102|               L|meyec101|  merkf101|   doyll101|  herzb101| shaft102|  devoj101|    snodf101|   murrr103|    stard101|     wheaz101|        NULL|      W.2-3;1-2|           F|            F|                 2|              8|        14|                T|      F|        0|      F|      F|           0|               F|               F|          0|              F|               F|         0|            NULL|        F|        F|        NULL|         0|               0|             N|               0|             N|               0|             N|          1|                 2|                 3|                 0|          NULL|                 NULL|                 NULL|                 NULL|                        F|                        F|                        F|                        F|                        F|                        F|                        F|                        F|                        F|                             marqr102|                             marqr102|                                 NULL|            F|            F|                  F|                  F|                  F|                                  NULL|                                  NULL|                                  NULL|                           NULL|                                          0|                        0|                         0|                        0|                        0|                         0|                        0|                         0|                        0|       20|  1912|\n",
      "+------------+-------------+------+------------+----+-----+-------+--------------+---------+----------+--------+-----------+----------+---------------+--------+------------+-----------+----------------+--------+----------+-----------+----------+---------+----------+------------+-----------+------------+-------------+------------+---------------+------------+-------------+------------------+---------------+----------+-----------------+-------+---------+-------+-------+------------+----------------+----------------+-----------+---------------+----------------+----------+----------------+---------+---------+------------+----------+----------------+--------------+----------------+--------------+----------------+--------------+-----------+------------------+------------------+------------------+--------------+---------------------+---------------------+---------------------+-------------------------+-------------------------+-------------------------+-------------------------+-------------------------+-------------------------+-------------------------+-------------------------+-------------------------+-------------------------------------+-------------------------------------+-------------------------------------+-------------+-------------+-------------------+-------------------+-------------------+--------------------------------------+--------------------------------------+--------------------------------------+-------------------------------+-------------------------------------------+-------------------------+--------------------------+-------------------------+-------------------------+--------------------------+-------------------------+--------------------------+-------------------------+---------+------+\n",
      "only showing top 20 rows\n",
      "\n"
     ]
    }
   ],
   "execution_count": 32
  },
  {
   "metadata": {
    "ExecuteTime": {
     "end_time": "2025-05-11T22:15:34.143395Z",
     "start_time": "2025-05-11T22:15:23.320885Z"
    }
   },
   "cell_type": "code",
   "source": [
    "full_df.select(\n",
    "    F.min(\n",
    "        F.col('Season')\n",
    "    ).alias('Min Season of Data'),\n",
    "\n",
    "    F.max(\n",
    "        F.col('Season')\n",
    "    ).alias('Max Season of Data'),\n",
    ").distinct().show()"
   ],
   "id": "408af11db85e3260",
   "outputs": [
    {
     "name": "stderr",
     "output_type": "stream",
     "text": [
      "[Stage 190:=================================================>   (135 + 9) / 144]\r"
     ]
    },
    {
     "name": "stdout",
     "output_type": "stream",
     "text": [
      "+------------------+------------------+\n",
      "|Min Season of Data|Max Season of Data|\n",
      "+------------------+------------------+\n",
      "|              1912|              2024|\n",
      "+------------------+------------------+\n",
      "\n"
     ]
    },
    {
     "name": "stderr",
     "output_type": "stream",
     "text": [
      "                                                                                \r"
     ]
    }
   ],
   "execution_count": 33
  },
  {
   "metadata": {},
   "cell_type": "markdown",
   "source": "## Bring in the Biofile so we can get player names",
   "id": "a08424a7ccbec904"
  },
  {
   "metadata": {
    "ExecuteTime": {
     "end_time": "2025-05-11T22:15:41.634827Z",
     "start_time": "2025-05-11T22:15:41.363218Z"
    }
   },
   "cell_type": "code",
   "source": [
    "\n",
    "file_path = f'{os.getcwd()}/data/mlb_data/biofile.csv'\n",
    "bio_df = spark.read.csv(file_path, header=True, inferSchema=True)\n",
    "\n",
    "bio_df.show()"
   ],
   "id": "b89ce619e37fee5a",
   "outputs": [
    {
     "name": "stdout",
     "output_type": "stream",
     "text": [
      "+--------+-----------+----------------+--------+----------+------------+-------------+------------------+----------+-------------+---------+------------+-----------+--------------+----------+------------+----------+---------------+-----------+-------------+----+------+------+------+--------------------+---------------+------------+------------+---------+--------------------+--------+-------+----+\n",
      "|PLAYERID|       LAST|           FIRST|NICKNAME| BIRTHDATE|  BIRTH.CITY|  BIRTH.STATE|     BIRTH.COUNTRY|PLAY.DEBUT|PLAY.LASTGAME|MGR.DEBUT|MGR.LASTGAME|COACH.DEBUT|COACH.LASTGAME| UMP.DEBUT|UMP.LASTGAME| DEATHDATE|     DEATH.CITY|DEATH.STATE|DEATH.COUNTRY|BATS|THROWS|HEIGHT|WEIGHT|            CEMETERY|      CEME.CITY|  CEME.STATE|CEME.COUNTRY|CEME.NOTE|          BIRTH.NAME|NAME.CHG|BAT.CHG| HOF|\n",
      "+--------+-----------+----------------+--------+----------+------------+-------------+------------------+----------+-------------+---------+------------+-----------+--------------+----------+------------+----------+---------------+-----------+-------------+----+------+------+------+--------------------+---------------+------------+------------+---------+--------------------+--------+-------+----+\n",
      "|aardd001|    Aardsma|     David Allan|   David|12/27/1981|      Denver|     Colorado|               USA|04/06/2004|   08/23/2015|     NULL|        NULL|       NULL|          NULL|      NULL|        NULL|      NULL|           NULL|       NULL|         NULL|   R|     R|  6-05| 200.0|                NULL|           NULL|        NULL|        NULL|     NULL|                NULL|    NULL|   NULL|NULL|\n",
      "|aaroh101|      Aaron|     Henry Louis|    Hank|02/05/1934|      Mobile|      Alabama|               USA|04/13/1954|   10/03/1976|     NULL|        NULL|       NULL|          NULL|      NULL|        NULL|01/22/2021|        Atlanta|    Georgia|          USA|   R|     R|  6-00| 180.0| South-View Cemetery|        Atlanta|     Georgia|         USA|     NULL|                NULL|    NULL|   NULL| HOF|\n",
      "|aarot101|      Aaron|      Tommie Lee|  Tommie|08/05/1939|      Mobile|      Alabama|               USA|04/10/1962|   09/26/1971|     NULL|        NULL| 04/06/1979|    09/30/1984|      NULL|        NULL|08/16/1984|        Atlanta|    Georgia|          USA|   R|     R|  6-03| 190.0|   Catholic Cemetery|         Mobile|     Alabama|         USA|     NULL|                NULL|    NULL|   NULL|NULL|\n",
      "|aased001|       Aase|  Donald William|     Don|09/08/1954|      Orange|   California|               USA|07/26/1977|   10/03/1990|     NULL|        NULL|       NULL|          NULL|      NULL|        NULL|      NULL|           NULL|       NULL|         NULL|   R|     R|  6-03| 190.0|                NULL|           NULL|        NULL|        NULL|     NULL|                NULL|    NULL|   NULL|NULL|\n",
      "|abada001|       Abad|   Fausto Andres|    Andy|08/25/1972|  Palm Beach|      Florida|               USA|09/10/2001|   04/13/2006|     NULL|        NULL|       NULL|          NULL|      NULL|        NULL|      NULL|           NULL|       NULL|         NULL|   L|     L|  6-01| 184.0|                NULL|           NULL|        NULL|        NULL|     NULL|                NULL|    NULL|   NULL|NULL|\n",
      "|abadf001|       Abad|Fernando Antonio|Fernando|12/17/1985|   La Romana|    La Romana|Dominican Republic|07/28/2010|   07/18/2023|     NULL|        NULL|       NULL|          NULL|      NULL|        NULL|      NULL|           NULL|       NULL|         NULL|   L|     L|  6-02| 205.0|                NULL|           NULL|        NULL|        NULL|     NULL|                NULL|    NULL|   NULL|NULL|\n",
      "|abadj101|     Abadie|         John W.|    John|11/04/1850|Philadelphia| Pennsylvania|               USA|04/26/1875|   06/10/1875|     NULL|        NULL|       NULL|          NULL|      NULL|        NULL|05/17/1905|      Pemberton| New Jersey|          USA|   R|     R|  6-00| 192.0|  St. Denis Cemetery|      Havertown|Pennsylvania|         USA|     NULL|                NULL|    NULL|   NULL|NULL|\n",
      "|abbae101|Abbaticchio|    Edward James|      Ed|04/15/1877|     Latrobe| Pennsylvania|               USA|09/04/1897|   09/15/1910|     NULL|        NULL|       NULL|          NULL|      NULL|        NULL|01/06/1957|Fort Lauderdale|    Florida|          USA|   R|     R|  5-11| 170.0|   St. Mary Cemetery|        Latrobe|Pennsylvania|         USA|     NULL|                NULL|    NULL|   NULL|NULL|\n",
      "|abbeb101|      Abbey|       Bert Wood|    Bert|11/11/1869|       Essex|      Vermont|               USA|06/14/1892|   09/23/1896|     NULL|        NULL|       NULL|          NULL|      NULL|        NULL|06/11/1962|     Colchester|    Vermont|          USA|   R|     R|  5-11| 175.0|Mountain View Cem...| Essex Junction|     Vermont|         USA|     NULL|                NULL|    NULL|   NULL|NULL|\n",
      "|abbec101|      Abbey|      Charles S.| Charlie|10/14/1866|  Falls City|     Nebraska|               USA|08/16/1893|   08/19/1897|     NULL|        NULL|       NULL|          NULL|07/21/1897|  07/21/1897|04/27/1926|  San Francisco| California|          USA|   L|     L|5-08.5| 169.0|     Steele Cemetery|     Falls City|    Nebraska|         USA|     NULL|                NULL|    NULL|   NULL|NULL|\n",
      "|abboa001|     Abbott|     Andrew Cole|  Andrew|06/01/1999|   Lynchburg|     Virginia|               USA|06/05/2023|   08/18/2024|     NULL|        NULL|       NULL|          NULL|      NULL|        NULL|      NULL|           NULL|       NULL|         NULL|   L|     L|  6-00| 192.0|                NULL|           NULL|        NULL|        NULL|     NULL|                NULL|    NULL|   NULL|NULL|\n",
      "|abboc001|     Abbott|      Cory James|    Cory|09/20/1995|   San Diego|   California|               USA|06/05/2021|   10/01/2023|     NULL|        NULL|       NULL|          NULL|      NULL|        NULL|      NULL|           NULL|       NULL|         NULL|   R|     R|  6-01| 210.0|                NULL|           NULL|        NULL|        NULL|     NULL|                NULL|    NULL|   NULL|NULL|\n",
      "|abbod101|     Abbott|Leander Franklin|     Dan|03/16/1862|     Portage|         Ohio|               USA|04/19/1890|   05/23/1890|     NULL|        NULL|       NULL|          NULL|      NULL|        NULL|02/13/1930|    Ottawa Lake|   Michigan|          USA|   R|     R|  5-11| 190.0|     Weston Cemetery|         Weston|        Ohio|         USA|     NULL|                NULL|    NULL|   NULL|NULL|\n",
      "|abbof101|     Abbott| Harry Frederick|    Fred|10/22/1874|  Versailles|         Ohio|               USA|04/25/1903|   09/20/1905|     NULL|        NULL|       NULL|          NULL|08/21/1905|  09/09/1905|06/11/1935|    Los Angeles| California|          USA|   R|     R|  5-10| 180.0|Pierce Brothers V...|North Hollywood|  California|         USA|     NULL|Harry Frederick W...|    NULL|   NULL|NULL|\n",
      "|abbog001|     Abbott|   William Glenn|   Glenn|02/16/1951| Little Rock|     Arkansas|               USA|07/29/1973|   08/08/1984|     NULL|        NULL|       NULL|          NULL|      NULL|        NULL|      NULL|           NULL|       NULL|         NULL|   R|     R|  6-06| 200.0|                NULL|           NULL|        NULL|        NULL|     NULL|                NULL|    NULL|   NULL|NULL|\n",
      "|abboj001|     Abbott|   James Anthony|     Jim|09/19/1967|       Flint|     Michigan|               USA|04/08/1989|   07/21/1999|     NULL|        NULL|       NULL|          NULL|      NULL|        NULL|      NULL|           NULL|       NULL|         NULL|   L|     L|  6-03| 200.0|                NULL|           NULL|        NULL|        NULL|     NULL|                NULL|    NULL|   NULL|NULL|\n",
      "|abboj002|     Abbott| Jeffrey William|    Jeff|08/17/1972|     Atlanta|      Georgia|               USA|06/10/1997|   09/29/2001|     NULL|        NULL|       NULL|          NULL|      NULL|        NULL|      NULL|           NULL|       NULL|         NULL|   R|     L|  6-02| 190.0|                NULL|           NULL|        NULL|        NULL|     NULL|                NULL|    NULL|   NULL|NULL|\n",
      "|abboj101|     Abbott|     James Isaac|     Jim|12/15/1884|        NULL|     New York|               USA|      NULL|         NULL|     NULL|        NULL|       NULL|          NULL|      NULL|        NULL|      NULL|           NULL|       NULL|         NULL|NULL|     R|  NULL|  NULL|                NULL|           NULL|        NULL|        NULL|     NULL|                NULL|    NULL|   NULL|NULL|\n",
      "|abbok001|     Abbott|   Lawrence Kyle|    Kyle|02/18/1968| Newburyport|Massachusetts|               USA|09/10/1991|   08/24/1996|     NULL|        NULL|       NULL|          NULL|      NULL|        NULL|      NULL|           NULL|       NULL|         NULL|   L|     L|  6-04| 200.0|                NULL|           NULL|        NULL|        NULL|     NULL|                NULL|    NULL|   NULL|NULL|\n",
      "|abbok002|     Abbott|     Kurt Thomas|    Kurt|06/02/1969|  Zanesville|         Ohio|               USA|09/07/1993|   04/13/2001|     NULL|        NULL|       NULL|          NULL|      NULL|        NULL|      NULL|           NULL|       NULL|         NULL|   R|     R|  5-11| 180.0|                NULL|           NULL|        NULL|        NULL|     NULL|                NULL|    NULL|   NULL|NULL|\n",
      "+--------+-----------+----------------+--------+----------+------------+-------------+------------------+----------+-------------+---------+------------+-----------+--------------+----------+------------+----------+---------------+-----------+-------------+----+------+------+------+--------------------+---------------+------------+------------+---------+--------------------+--------+-------+----+\n",
      "only showing top 20 rows\n",
      "\n"
     ]
    }
   ],
   "execution_count": 34
  },
  {
   "metadata": {
    "jupyter": {
     "is_executing": true
    },
    "ExecuteTime": {
     "start_time": "2025-05-11T18:21:49.222262Z"
    }
   },
   "cell_type": "code",
   "source": [
    "pandas_full = pd.DataFrame()\n",
    "for file in os.listdir(f'{os.getcwd()}/data/mlb_data'):\n",
    "    file_path = f'{os.getcwd()}/data/mlb_data/{file}'\n",
    "    print(f'Processing {file_path}')\n",
    "    df = pd.read_csv(file_path)\n",
    "\n",
    "    pandas_full = pd.concat([pandas_full, df])\n",
    "\n",
    "\n",
    "print(pandas_full.head())"
   ],
   "id": "316ab03d9bfec528",
   "outputs": [
    {
     "name": "stdout",
     "output_type": "stream",
     "text": [
      "Processing /home/jdwolfe/Spark-Projects/spark-learning-notebooks/data/mlb_data/full_1970s_pbp.csv\n"
     ]
    },
    {
     "name": "stderr",
     "output_type": "stream",
     "text": [
      "/tmp/ipykernel_1219/2705840558.py:5: DtypeWarning: Columns (7,50,64,65,84,85) have mixed types. Specify dtype option on import or set low_memory=False.\n",
      "  df = pd.read_csv(file_path)\n"
     ]
    },
    {
     "name": "stdout",
     "output_type": "stream",
     "text": [
      "Processing /home/jdwolfe/Spark-Projects/spark-learning-notebooks/data/mlb_data/full_2000s_pbp.csv\n"
     ]
    },
    {
     "name": "stderr",
     "output_type": "stream",
     "text": [
      "/tmp/ipykernel_1219/2705840558.py:5: DtypeWarning: Columns (63,64,65,85) have mixed types. Specify dtype option on import or set low_memory=False.\n",
      "  df = pd.read_csv(file_path)\n"
     ]
    },
    {
     "name": "stdout",
     "output_type": "stream",
     "text": [
      "Processing /home/jdwolfe/Spark-Projects/spark-learning-notebooks/data/mlb_data/full_1960s_pbp.csv\n"
     ]
    },
    {
     "name": "stderr",
     "output_type": "stream",
     "text": [
      "/tmp/ipykernel_1219/2705840558.py:5: DtypeWarning: Columns (7,50,64,65,85) have mixed types. Specify dtype option on import or set low_memory=False.\n",
      "  df = pd.read_csv(file_path)\n"
     ]
    },
    {
     "name": "stdout",
     "output_type": "stream",
     "text": [
      "Processing /home/jdwolfe/Spark-Projects/spark-learning-notebooks/data/mlb_data/full_1950s_pbp.csv\n"
     ]
    },
    {
     "name": "stderr",
     "output_type": "stream",
     "text": [
      "/tmp/ipykernel_1219/2705840558.py:5: DtypeWarning: Columns (7,64,65,85) have mixed types. Specify dtype option on import or set low_memory=False.\n",
      "  df = pd.read_csv(file_path)\n"
     ]
    }
   ],
   "execution_count": null
  },
  {
   "metadata": {},
   "cell_type": "markdown",
   "source": "### ^^ Pandas was taking almost 10 min here to process similar data to pyspark it didnt finish so I skipped it",
   "id": "5bddf20800509ab1"
  },
  {
   "metadata": {
    "ExecuteTime": {
     "end_time": "2025-05-11T22:16:06.128602Z",
     "start_time": "2025-05-11T22:15:49.377692Z"
    }
   },
   "cell_type": "code",
   "source": [
    "pitcher_inning_cycles = full_df.groupby('pitcher', 'game id', 'inning').agg(\n",
    "    F.sum(F.when(F.col('event type') == 20, 1).otherwise(0)).alias('singles'),\n",
    "    F.sum(F.when(F.col('event type') == 21, 1).otherwise(0)).alias('doubles'),\n",
    "    F.sum(F.when(F.col('event type') == 22, 1).otherwise(0)).alias('triples'),\n",
    "    F.sum(F.when(F.col('event type') == 23, 1).otherwise(0)).alias('home runs')\n",
    ")\n",
    "\n",
    "pitcher_inning_cycles \\\n",
    "    .filter(\n",
    "        (F.col('singles') > 0) &\n",
    "        (F.col('doubles') > 0) &\n",
    "        (F.col('triples') > 0) &\n",
    "        (F.col('home runs') > 0)\n",
    "    ) \\\n",
    "    .groupby('pitcher') \\\n",
    "    .agg(\n",
    "    F.count('pitcher').alias('count')\n",
    ").sort('count', ascending=False ) \\\n",
    "    .show()\n",
    "\n",
    "\n"
   ],
   "id": "fb1132006a6931d7",
   "outputs": [
    {
     "name": "stderr",
     "output_type": "stream",
     "text": [
      "25/05/11 17:16:03 WARN RowBasedKeyValueBatch: Calling spill() on RowBasedKeyValueBatch. Will not spill but return 0.\n",
      "25/05/11 17:16:03 WARN RowBasedKeyValueBatch: Calling spill() on RowBasedKeyValueBatch. Will not spill but return 0.\n",
      "25/05/11 17:16:03 WARN RowBasedKeyValueBatch: Calling spill() on RowBasedKeyValueBatch. Will not spill but return 0.\n",
      "25/05/11 17:16:03 WARN RowBasedKeyValueBatch: Calling spill() on RowBasedKeyValueBatch. Will not spill but return 0.\n",
      "25/05/11 17:16:03 WARN RowBasedKeyValueBatch: Calling spill() on RowBasedKeyValueBatch. Will not spill but return 0.\n",
      "25/05/11 17:16:03 WARN RowBasedKeyValueBatch: Calling spill() on RowBasedKeyValueBatch. Will not spill but return 0.\n",
      "25/05/11 17:16:03 WARN RowBasedKeyValueBatch: Calling spill() on RowBasedKeyValueBatch. Will not spill but return 0.\n",
      "25/05/11 17:16:03 WARN RowBasedKeyValueBatch: Calling spill() on RowBasedKeyValueBatch. Will not spill but return 0.\n",
      "25/05/11 17:16:03 WARN RowBasedKeyValueBatch: Calling spill() on RowBasedKeyValueBatch. Will not spill but return 0.\n",
      "25/05/11 17:16:03 WARN RowBasedKeyValueBatch: Calling spill() on RowBasedKeyValueBatch. Will not spill but return 0.\n",
      "25/05/11 17:16:03 WARN RowBasedKeyValueBatch: Calling spill() on RowBasedKeyValueBatch. Will not spill but return 0.\n",
      "25/05/11 17:16:03 WARN RowBasedKeyValueBatch: Calling spill() on RowBasedKeyValueBatch. Will not spill but return 0.\n",
      "25/05/11 17:16:03 WARN RowBasedKeyValueBatch: Calling spill() on RowBasedKeyValueBatch. Will not spill but return 0.\n",
      "25/05/11 17:16:03 WARN RowBasedKeyValueBatch: Calling spill() on RowBasedKeyValueBatch. Will not spill but return 0.\n",
      "25/05/11 17:16:03 WARN RowBasedKeyValueBatch: Calling spill() on RowBasedKeyValueBatch. Will not spill but return 0.\n",
      "25/05/11 17:16:03 WARN RowBasedKeyValueBatch: Calling spill() on RowBasedKeyValueBatch. Will not spill but return 0.\n",
      "25/05/11 17:16:03 WARN RowBasedKeyValueBatch: Calling spill() on RowBasedKeyValueBatch. Will not spill but return 0.\n",
      "25/05/11 17:16:03 WARN RowBasedKeyValueBatch: Calling spill() on RowBasedKeyValueBatch. Will not spill but return 0.\n",
      "25/05/11 17:16:03 WARN RowBasedKeyValueBatch: Calling spill() on RowBasedKeyValueBatch. Will not spill but return 0.\n",
      "25/05/11 17:16:03 WARN RowBasedKeyValueBatch: Calling spill() on RowBasedKeyValueBatch. Will not spill but return 0.\n",
      "25/05/11 17:16:03 WARN RowBasedKeyValueBatch: Calling spill() on RowBasedKeyValueBatch. Will not spill but return 0.\n",
      "25/05/11 17:16:03 WARN RowBasedKeyValueBatch: Calling spill() on RowBasedKeyValueBatch. Will not spill but return 0.\n",
      "25/05/11 17:16:03 WARN RowBasedKeyValueBatch: Calling spill() on RowBasedKeyValueBatch. Will not spill but return 0.\n",
      "25/05/11 17:16:03 WARN RowBasedKeyValueBatch: Calling spill() on RowBasedKeyValueBatch. Will not spill but return 0.\n",
      "[Stage 198:=====================>                                  (5 + 8) / 13]\r"
     ]
    },
    {
     "name": "stdout",
     "output_type": "stream",
     "text": [
      "+--------+-----+\n",
      "| pitcher|count|\n",
      "+--------+-----+\n",
      "|jacke001|    6|\n",
      "|briln101|    4|\n",
      "|lynnl001|    4|\n",
      "|millk004|    3|\n",
      "|forsb001|    3|\n",
      "|hainj101|    3|\n",
      "|davik002|    3|\n",
      "|cardd101|    3|\n",
      "|doakb101|    3|\n",
      "|paulf001|    3|\n",
      "|lucar102|    3|\n",
      "|frieb102|    3|\n",
      "|hubbc101|    3|\n",
      "|owenj101|    3|\n",
      "|hudss101|    3|\n",
      "|brane101|    3|\n",
      "|pappm101|    3|\n",
      "|gullb001|    3|\n",
      "|wegmb001|    3|\n",
      "|ruffr101|    3|\n",
      "+--------+-----+\n",
      "only showing top 20 rows\n",
      "\n"
     ]
    },
    {
     "name": "stderr",
     "output_type": "stream",
     "text": [
      "                                                                                \r"
     ]
    }
   ],
   "execution_count": 35
  },
  {
   "metadata": {},
   "cell_type": "markdown",
   "source": "## Cycles by Players Leaders",
   "id": "df1bf2fd01e5e027"
  },
  {
   "metadata": {
    "ExecuteTime": {
     "end_time": "2025-05-11T18:55:35.908659Z",
     "start_time": "2025-05-11T18:55:09.811576Z"
    }
   },
   "cell_type": "code",
   "source": [
    "full_df.groupby('batter', 'game id').agg(\n",
    "    F.sum(F.when(F.col('event type') == 20, 1).otherwise(0)).alias('singles'),\n",
    "    F.sum(F.when(F.col('event type') == 21, 1).otherwise(0)).alias('doubles'),\n",
    "    F.sum(F.when(F.col('event type') == 22, 1).otherwise(0)).alias('triples'),\n",
    "    F.sum(F.when(F.col('event type') == 23, 1).otherwise(0)).alias('home runs')\n",
    "    ) \\\n",
    "    .filter(\n",
    "\n",
    "        (F.col('singles') > 0) &\n",
    "        (F.col('doubles') > 0) &\n",
    "        (F.col('triples') > 0) &\n",
    "        (F.col('home runs') > 0)\n",
    "\n",
    "    ).groupby('batter') \\\n",
    "    .agg(\n",
    "    F.count('batter').alias('count')\n",
    ").sort('count', ascending=False ) \\\n",
    "    .show()"
   ],
   "id": "94b9d297382b7099",
   "outputs": [
    {
     "name": "stderr",
     "output_type": "stream",
     "text": [
      "25/05/11 13:55:35 WARN RowBasedKeyValueBatch: Calling spill() on RowBasedKeyValueBatch. Will not spill but return 0.\n",
      "25/05/11 13:55:35 WARN RowBasedKeyValueBatch: Calling spill() on RowBasedKeyValueBatch. Will not spill but return 0.\n",
      "25/05/11 13:55:35 WARN RowBasedKeyValueBatch: Calling spill() on RowBasedKeyValueBatch. Will not spill but return 0.\n",
      "25/05/11 13:55:35 WARN RowBasedKeyValueBatch: Calling spill() on RowBasedKeyValueBatch. Will not spill but return 0.\n",
      "25/05/11 13:55:35 WARN RowBasedKeyValueBatch: Calling spill() on RowBasedKeyValueBatch. Will not spill but return 0.\n",
      "25/05/11 13:55:35 WARN RowBasedKeyValueBatch: Calling spill() on RowBasedKeyValueBatch. Will not spill but return 0.\n",
      "25/05/11 13:55:35 WARN RowBasedKeyValueBatch: Calling spill() on RowBasedKeyValueBatch. Will not spill but return 0.\n",
      "25/05/11 13:55:35 WARN RowBasedKeyValueBatch: Calling spill() on RowBasedKeyValueBatch. Will not spill but return 0.\n",
      "25/05/11 13:55:35 WARN RowBasedKeyValueBatch: Calling spill() on RowBasedKeyValueBatch. Will not spill but return 0.\n",
      "25/05/11 13:55:35 WARN RowBasedKeyValueBatch: Calling spill() on RowBasedKeyValueBatch. Will not spill but return 0.\n",
      "[Stage 35:>                                                       (0 + 12) / 13]\r"
     ]
    },
    {
     "name": "stdout",
     "output_type": "stream",
     "text": [
      "+--------+-----+\n",
      "|  batter|count|\n",
      "+--------+-----+\n",
      "|yelic001|    3|\n",
      "|belta001|    3|\n",
      "|turnt001|    3|\n",
      "|gomec002|    2|\n",
      "|arenn001|    2|\n",
      "|olerj001|    2|\n",
      "|boyek101|    2|\n",
      "|watsb001|    2|\n",
      "|speic001|    2|\n",
      "|bretg001|    2|\n",
      "|hilla001|    2|\n",
      "|freef001|    2|\n",
      "|wilkb002|    2|\n",
      "|fregj101|    2|\n",
      "|cuddm001|    2|\n",
      "|whitf001|    2|\n",
      "|cedec001|    2|\n",
      "|mcdoo001|    1|\n",
      "|dejei001|    1|\n",
      "|teixm001|    1|\n",
      "+--------+-----+\n",
      "only showing top 20 rows\n",
      "\n"
     ]
    },
    {
     "name": "stderr",
     "output_type": "stream",
     "text": [
      "                                                                                \r"
     ]
    }
   ],
   "execution_count": 11
  },
  {
   "metadata": {},
   "cell_type": "markdown",
   "source": "## Hit Leaders",
   "id": "418dbc20c5968662"
  },
  {
   "metadata": {
    "ExecuteTime": {
     "end_time": "2025-05-11T22:16:32.125812Z",
     "start_time": "2025-05-11T22:16:21.171812Z"
    }
   },
   "cell_type": "code",
   "source": [
    "full_df.groupby('batter').agg(\n",
    "    F.sum(F.when(F.col('event type').isin(20,21,22,23), 1).otherwise(0)).alias('total_hits')\n",
    "\n",
    ").sort('total_hits', ascending=False ).show()"
   ],
   "id": "fdff49e9148db70c",
   "outputs": [
    {
     "name": "stderr",
     "output_type": "stream",
     "text": [
      "[Stage 202:==================================================>  (136 + 8) / 144]\r"
     ]
    },
    {
     "name": "stdout",
     "output_type": "stream",
     "text": [
      "+--------+----------+\n",
      "|  batter|total_hits|\n",
      "+--------+----------+\n",
      "|rosep001|      4256|\n",
      "|aaroh101|      3698|\n",
      "|jeted001|      3465|\n",
      "|yastc101|      3419|\n",
      "|pujoa001|      3384|\n",
      "|molip001|      3319|\n",
      "|musis101|      3317|\n",
      "|murre001|      3255|\n",
      "|maysw101|      3238|\n",
      "|ripkc001|      3184|\n",
      "|cabrm001|      3174|\n",
      "|belta001|      3166|\n",
      "|bretg001|      3154|\n",
      "|younr001|      3142|\n",
      "|gwynt001|      3141|\n",
      "|rodra001|      3115|\n",
      "|winfd001|      3110|\n",
      "|suzui001|      3089|\n",
      "|biggc001|      3060|\n",
      "|hendr001|      3055|\n",
      "+--------+----------+\n",
      "only showing top 20 rows\n",
      "\n"
     ]
    },
    {
     "name": "stderr",
     "output_type": "stream",
     "text": [
      "                                                                                \r"
     ]
    }
   ],
   "execution_count": 36
  },
  {
   "metadata": {
    "ExecuteTime": {
     "end_time": "2025-05-11T22:16:59.818298Z",
     "start_time": "2025-05-11T22:16:49.128434Z"
    }
   },
   "cell_type": "code",
   "source": [
    "(full_df\n",
    ".filter(F.col('Season') >= 2000)\n",
    " .groupby('batter').agg(\n",
    "    F.sum(F.when(F.col('event type').isin(20,21,22,23), 1).otherwise(0)).alias('total_hits')\n",
    "\n",
    ").sort('total_hits', ascending=False ).show())"
   ],
   "id": "7a9a7155792e10b9",
   "outputs": [
    {
     "name": "stderr",
     "output_type": "stream",
     "text": [
      "[Stage 205:====================================================>(142 + 2) / 144]\r"
     ]
    },
    {
     "name": "stdout",
     "output_type": "stream",
     "text": [
      "+--------+----------+\n",
      "|  batter|total_hits|\n",
      "+--------+----------+\n",
      "|pujoa001|      3384|\n",
      "|cabrm001|      3174|\n",
      "|suzui001|      3089|\n",
      "|belta001|      2976|\n",
      "|jeted001|      2658|\n",
      "|canor001|      2639|\n",
      "|beltc001|      2515|\n",
      "|rollj001|      2455|\n",
      "|markn001|      2388|\n",
      "|ortid001|      2379|\n",
      "|younm003|      2375|\n",
      "|huntt001|      2350|\n",
      "|rodra001|      2324|\n",
      "|freef001|      2267|\n",
      "|ramia001|      2234|\n",
      "|altuj001|      2232|\n",
      "|pierj002|      2217|\n",
      "|moliy001|      2168|\n",
      "|tejam001|      2153|\n",
      "|martv001|      2153|\n",
      "+--------+----------+\n",
      "only showing top 20 rows\n",
      "\n"
     ]
    },
    {
     "name": "stderr",
     "output_type": "stream",
     "text": [
      "                                                                                \r"
     ]
    }
   ],
   "execution_count": 37
  },
  {
   "metadata": {
    "ExecuteTime": {
     "end_time": "2025-05-11T22:17:15.594685Z",
     "start_time": "2025-05-11T22:17:04.188351Z"
    }
   },
   "cell_type": "code",
   "source": [
    "(full_df\n",
    ".filter(F.col('Season') >= 2010)\n",
    " .groupby('batter').agg(\n",
    "    F.sum(F.when(F.col('event type').isin(20,21,22,23), 1).otherwise(0)).alias('total_hits')\n",
    "\n",
    ").sort('total_hits', ascending=False ).show())"
   ],
   "id": "692a97148dca2075",
   "outputs": [
    {
     "name": "stderr",
     "output_type": "stream",
     "text": [
      "[Stage 208:=================================================>   (135 + 9) / 144]\r"
     ]
    },
    {
     "name": "stdout",
     "output_type": "stream",
     "text": [
      "+--------+----------+\n",
      "|  batter|total_hits|\n",
      "+--------+----------+\n",
      "|freef001|      2267|\n",
      "|altuj001|      2232|\n",
      "|goldp001|      2056|\n",
      "|mccua001|      2028|\n",
      "|andre001|      1963|\n",
      "|cabrm001|      1954|\n",
      "|machm001|      1900|\n",
      "|arenn001|      1826|\n",
      "|blacc001|      1805|\n",
      "|vottj001|      1801|\n",
      "|cruzn002|      1793|\n",
      "|santc002|      1789|\n",
      "|canor001|      1764|\n",
      "|hosme001|      1753|\n",
      "|martj006|      1741|\n",
      "|lemad001|      1738|\n",
      "|casts001|      1722|\n",
      "|bogax001|      1693|\n",
      "|markn001|      1684|\n",
      "|harpb003|      1670|\n",
      "+--------+----------+\n",
      "only showing top 20 rows\n",
      "\n"
     ]
    },
    {
     "name": "stderr",
     "output_type": "stream",
     "text": [
      "                                                                                \r"
     ]
    }
   ],
   "execution_count": 38
  },
  {
   "metadata": {},
   "cell_type": "markdown",
   "source": "## Hit Leader for Every Season",
   "id": "e4091587066223ef"
  },
  {
   "metadata": {
    "ExecuteTime": {
     "end_time": "2025-05-11T22:18:01.542553Z",
     "start_time": "2025-05-11T22:17:38.251863Z"
    }
   },
   "cell_type": "code",
   "source": [
    "window_for_hit_leaders = Window.partitionBy(\"Season\",).orderBy(F.desc(\"total_hits\"))\n",
    "\n",
    "\n",
    "season_hit_leaders = full_df \\\n",
    " .groupby('batter', 'Season').agg(\n",
    "    F.sum(F.when(F.col('event type').isin(20,21,22,23), 1).otherwise(0)).alias('total_hits')\n",
    ")\\\n",
    "    .withColumn('season_rank', F.rank().over(window_for_hit_leaders)) \\\n",
    "    .filter(F.col('season_rank') == 1) \\\n",
    "    .drop('season_rank')\n",
    "\n",
    "bio_select   = bio_df.select('PLAYERID', 'NICKNAME', 'LAST')\n",
    "\n",
    "season_hit_leaders = season_hit_leaders.join(bio_select, bio_select.PLAYERID == season_hit_leaders.batter) \\\n",
    "                    .drop('PLAYERID', 'batter') \\\n",
    "                    .select('NICKNAME', 'LAST', 'Season', 'total_hits')\n",
    "\n",
    "\n",
    "season_hit_leaders.show(season_hit_leaders.count())"
   ],
   "id": "15843619ee72fd0a",
   "outputs": [
    {
     "name": "stderr",
     "output_type": "stream",
     "text": [
      "[Stage 223:==================================================>  (136 + 8) / 144]\r"
     ]
    },
    {
     "name": "stdout",
     "output_type": "stream",
     "text": [
      "+------------+--------------+------+----------+\n",
      "|    NICKNAME|          LAST|Season|total_hits|\n",
      "+------------+--------------+------+----------+\n",
      "|          Ty|          Cobb|  1912|       226|\n",
      "|Shoeless Joe|       Jackson|  1912|       226|\n",
      "|         Max|         Carey|  1913|       171|\n",
      "|        Tris|       Speaker|  1914|       187|\n",
      "|          Ty|          Cobb|  1915|       208|\n",
      "|        Tris|       Speaker|  1916|       196|\n",
      "|          Ty|          Cobb|  1917|       225|\n",
      "|      George|         Burns|  1918|       177|\n",
      "|       Bobby|         Veach|  1919|       189|\n",
      "|      George|        Sisler|  1920|       257|\n",
      "|        Jack|         Tobin|  1921|       230|\n",
      "|      Rogers|       Hornsby|  1921|       230|\n",
      "|      Rogers|       Hornsby|  1922|       248|\n",
      "|     Frankie|        Frisch|  1923|       220|\n",
      "|        Zack|         Wheat|  1924|       209|\n",
      "|      Rogers|       Hornsby|  1924|       209|\n",
      "|          Al|       Simmons|  1925|       248|\n",
      "|      George|         Burns|  1926|       217|\n",
      "|        Paul|         Waner|  1927|       237|\n",
      "|     Freddie|     Lindstrom|  1928|       228|\n",
      "|       Lefty|        O'Doul|  1929|       245|\n",
      "|        Bill|         Terry|  1930|       250|\n",
      "|       Lloyd|         Waner|  1931|       206|\n",
      "|          Al|       Simmons|  1932|       215|\n",
      "|       Chuck|         Klein|  1933|       211|\n",
      "|     Charlie|     Gehringer|  1934|       210|\n",
      "|       Billy|        Herman|  1935|       217|\n",
      "|        Earl|       Averill|  1936|       231|\n",
      "|         Joe|       Medwick|  1937|       230|\n",
      "|       Frank|     McCormick|  1938|       209|\n",
      "|         Red|         Rolfe|  1939|       213|\n",
      "|       Frank|     McCormick|  1940|       191|\n",
      "|       Cecil|        Travis|  1941|       196|\n",
      "|      Johnny|         Pesky|  1942|       184|\n",
      "|        Stan|        Musial|  1943|       197|\n",
      "|       Dixie|        Walker|  1944|       188|\n",
      "|       Goody|         Rosen|  1945|       197|\n",
      "|        Stan|        Musial|  1946|       215|\n",
      "|       Frank|     Baumholtz|  1947|       182|\n",
      "|        Dale|      Mitchell|  1948|       204|\n",
      "|        Dale|      Mitchell|  1949|       203|\n",
      "|      Jackie|      Robinson|  1949|       203|\n",
      "|        Duke|        Snider|  1950|       199|\n",
      "|      Richie|       Ashburn|  1951|       203|\n",
      "|      Nellie|           Fox|  1952|       192|\n",
      "|      Harvey|         Kuenn|  1953|       209|\n",
      "|         Don|       Mueller|  1954|       205|\n",
      "|          Al|        Kaline|  1955|       200|\n",
      "|      Harvey|         Kuenn|  1956|       196|\n",
      "|         Red|  Schoendienst|  1957|       200|\n",
      "|      Richie|       Ashburn|  1958|       215|\n",
      "|        Hank|         Aaron|  1959|       223|\n",
      "|      Willie|          Mays|  1960|       190|\n",
      "|        Vada|        Pinson|  1961|       208|\n",
      "|       Tommy|         Davis|  1962|       230|\n",
      "|        Vada|        Pinson|  1963|       204|\n",
      "|        Tony|         Oliva|  1964|       217|\n",
      "|        Pete|          Rose|  1965|       209|\n",
      "|      Felipe|          Alou|  1966|       214|\n",
      "|     Roberto|      Clemente|  1967|       206|\n",
      "|         Lou|         Brock|  1967|       206|\n",
      "|        Pete|          Rose|  1968|       210|\n",
      "|       Matty|          Alou|  1969|       231|\n",
      "|       Billy|      Williams|  1970|       205|\n",
      "|        Pete|          Rose|  1970|       205|\n",
      "|         Joe|         Torre|  1971|       230|\n",
      "|        Pete|          Rose|  1972|       198|\n",
      "|        Pete|          Rose|  1973|       230|\n",
      "|         Rod|         Carew|  1974|       218|\n",
      "|        Dave|          Cash|  1975|       213|\n",
      "|        Pete|          Rose|  1976|       215|\n",
      "|      George|         Brett|  1976|       215|\n",
      "|         Rod|         Carew|  1977|       239|\n",
      "|         Jim|          Rice|  1978|       213|\n",
      "|      George|         Brett|  1979|       212|\n",
      "|      Willie|        Wilson|  1980|       230|\n",
      "|        Pete|          Rose|  1981|       140|\n",
      "|       Robin|         Yount|  1982|       210|\n",
      "|         Cal|        Ripken|  1983|       211|\n",
      "|        Tony|         Gwynn|  1984|       213|\n",
      "|        Wade|         Boggs|  1985|       240|\n",
      "|         Don|     Mattingly|  1986|       238|\n",
      "|        Tony|         Gwynn|  1987|       218|\n",
      "|       Kirby|       Puckett|  1988|       234|\n",
      "|       Kirby|       Puckett|  1989|       215|\n",
      "|      Willie|         McGee|  1990|       199|\n",
      "|        Paul|       Molitor|  1991|       216|\n",
      "|       Kirby|       Puckett|  1992|       210|\n",
      "|        Paul|       Molitor|  1993|       211|\n",
      "|        Tony|         Gwynn|  1994|       165|\n",
      "|       Dante|      Bichette|  1995|       197|\n",
      "|        Tony|         Gwynn|  1995|       197|\n",
      "|       Lance|       Johnson|  1996|       227|\n",
      "|        Tony|         Gwynn|  1997|       220|\n",
      "|       Dante|      Bichette|  1998|       219|\n",
      "|       Derek|         Jeter|  1999|       219|\n",
      "|       Darin|        Erstad|  2000|       240|\n",
      "|      Ichiro|        Suzuki|  2001|       242|\n",
      "|     Alfonso|       Soriano|  2002|       209|\n",
      "|      Vernon|         Wells|  2003|       215|\n",
      "|      Ichiro|        Suzuki|  2004|       262|\n",
      "|     Michael|         Young|  2005|       221|\n",
      "|      Ichiro|        Suzuki|  2006|       224|\n",
      "|      Ichiro|        Suzuki|  2007|       238|\n",
      "|      Ichiro|        Suzuki|  2008|       213|\n",
      "|      Dustin|       Pedroia|  2008|       213|\n",
      "|      Ichiro|        Suzuki|  2009|       225|\n",
      "|      Ichiro|        Suzuki|  2010|       214|\n",
      "|      Adrian|      Gonzalez|  2011|       213|\n",
      "|     Michael|         Young|  2011|       213|\n",
      "|       Derek|         Jeter|  2012|       216|\n",
      "|        Matt|     Carpenter|  2013|       199|\n",
      "|      Adrian|        Beltre|  2013|       199|\n",
      "|        Jose|        Altuve|  2014|       225|\n",
      "|         Dee|Strange-Gordon|  2015|       205|\n",
      "|        Jose|        Altuve|  2016|       216|\n",
      "|     Charlie|      Blackmon|  2017|       213|\n",
      "|        Whit|    Merrifield|  2018|       192|\n",
      "|        Whit|    Merrifield|  2019|       206|\n",
      "|        Trea|        Turner|  2020|        78|\n",
      "|        Trea|        Turner|  2021|       195|\n",
      "|     Freddie|       Freeman|  2022|       199|\n",
      "|      Ronald|         Acuna|  2023|       217|\n",
      "|       Bobby|          Witt|  2024|       211|\n",
      "+------------+--------------+------+----------+\n",
      "\n"
     ]
    },
    {
     "name": "stderr",
     "output_type": "stream",
     "text": [
      "                                                                                \r"
     ]
    }
   ],
   "execution_count": 39
  },
  {
   "metadata": {
    "ExecuteTime": {
     "end_time": "2025-05-11T22:29:04.431012Z",
     "start_time": "2025-05-11T22:28:39.987537Z"
    }
   },
   "cell_type": "code",
   "source": [
    "window_for_hit_leaders = Window.partitionBy(\"Season\",).orderBy(F.desc(\"total_hits\"))\n",
    "\n",
    "\n",
    "season_hit_leaders = full_df \\\n",
    " .groupby('batter', 'Season').agg(\n",
    "    F.sum(F.when(F.col('event type').isin(20,21,22,23), 1).otherwise(0)).alias('total_hits')\n",
    ")\\\n",
    "    .withColumn('season_rank', F.rank().over(window_for_hit_leaders)) \\\n",
    "    .filter(F.col('season_rank') == 1) \\\n",
    "    .drop('season_rank')\n",
    "\n",
    "bio_select   = bio_df.select('PLAYERID', 'NICKNAME', 'LAST')\n",
    "\n",
    "season_hit_leaders = season_hit_leaders \\\n",
    "                    .select( 'Season', 'total_hits', 'batter') \\\n",
    "                    .groupby('batter') \\\n",
    "                    .agg(F.count('batter').alias('Total Hitting Leaders'))\n",
    "\n",
    "season_hit_leaders = season_hit_leaders \\\n",
    "                    .join(bio_select, bio_select.PLAYERID == season_hit_leaders.batter ) \\\n",
    "                    .drop('PLAYERID', 'batter') \\\n",
    "                    .sort('Total Hitting Leaders', ascending=False )\n",
    "\n",
    "\n",
    "\n",
    "\n",
    "season_hit_leaders.show(season_hit_leaders.count())"
   ],
   "id": "c35f646feff8e769",
   "outputs": [
    {
     "name": "stderr",
     "output_type": "stream",
     "text": [
      "[Stage 318:==================================================>  (136 + 8) / 144]\r"
     ]
    },
    {
     "name": "stdout",
     "output_type": "stream",
     "text": [
      "+---------------------+------------+--------------+\n",
      "|Total Hitting Leaders|    NICKNAME|          LAST|\n",
      "+---------------------+------------+--------------+\n",
      "|                    7|      Ichiro|        Suzuki|\n",
      "|                    7|        Pete|          Rose|\n",
      "|                    5|        Tony|         Gwynn|\n",
      "|                    3|       Kirby|       Puckett|\n",
      "|                    3|      Rogers|       Hornsby|\n",
      "|                    3|          Ty|          Cobb|\n",
      "|                    2|      Richie|       Ashburn|\n",
      "|                    2|        Trea|        Turner|\n",
      "|                    2|       Frank|     McCormick|\n",
      "|                    2|        Jose|        Altuve|\n",
      "|                    2|      George|         Brett|\n",
      "|                    2|      George|         Burns|\n",
      "|                    2|        Vada|        Pinson|\n",
      "|                    2|        Dale|      Mitchell|\n",
      "|                    2|        Paul|       Molitor|\n",
      "|                    2|        Stan|        Musial|\n",
      "|                    2|          Al|       Simmons|\n",
      "|                    2|        Tris|       Speaker|\n",
      "|                    2|       Derek|         Jeter|\n",
      "|                    2|        Whit|    Merrifield|\n",
      "|                    2|       Dante|      Bichette|\n",
      "|                    2|     Michael|         Young|\n",
      "|                    2|         Rod|         Carew|\n",
      "|                    2|      Harvey|         Kuenn|\n",
      "|                    1|         Max|         Carey|\n",
      "|                    1|         Red|         Rolfe|\n",
      "|                    1|         Red|  Schoendienst|\n",
      "|                    1|         Jim|          Rice|\n",
      "|                    1|        Bill|         Terry|\n",
      "|                    1|       Chuck|         Klein|\n",
      "|                    1|         Dee|Strange-Gordon|\n",
      "|                    1|      Nellie|           Fox|\n",
      "|                    1|        Paul|         Waner|\n",
      "|                    1|         Joe|         Torre|\n",
      "|                    1|         Don|     Mattingly|\n",
      "|                    1|        Wade|         Boggs|\n",
      "|                    1|      Johnny|         Pesky|\n",
      "|                    1|       Tommy|         Davis|\n",
      "|                    1|       Lance|       Johnson|\n",
      "|                    1|          Al|        Kaline|\n",
      "|                    1|Shoeless Joe|       Jackson|\n",
      "|                    1|      Willie|         McGee|\n",
      "|                    1|       Bobby|         Veach|\n",
      "|                    1|         Don|       Mueller|\n",
      "|                    1|         Joe|       Medwick|\n",
      "|                    1|       Darin|        Erstad|\n",
      "|                    1|       Goody|         Rosen|\n",
      "|                    1|     Charlie|     Gehringer|\n",
      "|                    1|      Jackie|      Robinson|\n",
      "|                    1|         Cal|        Ripken|\n",
      "|                    1|        Matt|     Carpenter|\n",
      "|                    1|     Alfonso|       Soriano|\n",
      "|                    1|       Lloyd|         Waner|\n",
      "|                    1|      Willie|        Wilson|\n",
      "|                    1|       Billy|        Herman|\n",
      "|                    1|        Duke|        Snider|\n",
      "|                    1|       Bobby|          Witt|\n",
      "|                    1|      George|        Sisler|\n",
      "|                    1|       Dixie|        Walker|\n",
      "|                    1|        Hank|         Aaron|\n",
      "|                    1|        Jack|         Tobin|\n",
      "|                    1|       Billy|      Williams|\n",
      "|                    1|     Roberto|      Clemente|\n",
      "|                    1|      Adrian|        Beltre|\n",
      "|                    1|         Lou|         Brock|\n",
      "|                    1|     Charlie|      Blackmon|\n",
      "|                    1|      Felipe|          Alou|\n",
      "|                    1|      Adrian|      Gonzalez|\n",
      "|                    1|       Frank|     Baumholtz|\n",
      "|                    1|     Frankie|        Frisch|\n",
      "|                    1|        Earl|       Averill|\n",
      "|                    1|      Ronald|         Acuna|\n",
      "|                    1|       Robin|         Yount|\n",
      "|                    1|       Matty|          Alou|\n",
      "|                    1|     Freddie|       Freeman|\n",
      "|                    1|       Lefty|        O'Doul|\n",
      "|                    1|       Cecil|        Travis|\n",
      "|                    1|      Willie|          Mays|\n",
      "|                    1|      Vernon|         Wells|\n",
      "|                    1|        Zack|         Wheat|\n",
      "|                    1|     Freddie|     Lindstrom|\n",
      "|                    1|        Dave|          Cash|\n",
      "|                    1|      Dustin|       Pedroia|\n",
      "|                    1|        Tony|         Oliva|\n",
      "+---------------------+------------+--------------+\n",
      "\n"
     ]
    },
    {
     "name": "stderr",
     "output_type": "stream",
     "text": [
      "                                                                                \r"
     ]
    }
   ],
   "execution_count": 45
  }
 ],
 "metadata": {
  "kernelspec": {
   "display_name": "Python 3",
   "language": "python",
   "name": "python3"
  },
  "language_info": {
   "codemirror_mode": {
    "name": "ipython",
    "version": 2
   },
   "file_extension": ".py",
   "mimetype": "text/x-python",
   "name": "python",
   "nbconvert_exporter": "python",
   "pygments_lexer": "ipython2",
   "version": "2.7.6"
  }
 },
 "nbformat": 4,
 "nbformat_minor": 5
}
