{
 "cells": [
  {
   "metadata": {
    "ExecuteTime": {
     "end_time": "2025-05-10T23:48:46.758307Z",
     "start_time": "2025-05-10T23:48:46.754471Z"
    }
   },
   "cell_type": "code",
   "source": [
    "\n",
    "from pyspark.sql import SparkSession\n",
    "from ucimlrepo import fetch_ucirepo\n",
    "from pyspark.sql import functions as F\n",
    "from pyspark.sql import Window"
   ],
   "id": "6b09be134665e878",
   "outputs": [],
   "execution_count": 49
  },
  {
   "cell_type": "code",
   "id": "initial_id",
   "metadata": {
    "collapsed": true,
    "ExecuteTime": {
     "end_time": "2025-05-10T23:03:16.586994Z",
     "start_time": "2025-05-10T23:03:10.037860Z"
    }
   },
   "source": [
    "spark = SparkSession.builder.appName(\"Jupyter\").getOrCreate()\n",
    "\n",
    "spark"
   ],
   "outputs": [
    {
     "name": "stderr",
     "output_type": "stream",
     "text": [
      "25/05/10 18:03:12 WARN Utils: Your hostname, JordansGaming resolves to a loopback address: 127.0.1.1; using 10.255.255.254 instead (on interface lo)\n",
      "25/05/10 18:03:12 WARN Utils: Set SPARK_LOCAL_IP if you need to bind to another address\n",
      "Setting default log level to \"WARN\".\n",
      "To adjust logging level use sc.setLogLevel(newLevel). For SparkR, use setLogLevel(newLevel).\n",
      "25/05/10 18:03:13 WARN NativeCodeLoader: Unable to load native-hadoop library for your platform... using builtin-java classes where applicable\n"
     ]
    },
    {
     "data": {
      "text/plain": [
       "<pyspark.sql.session.SparkSession at 0x7f133011aa70>"
      ],
      "text/html": [
       "\n",
       "            <div>\n",
       "                <p><b>SparkSession - in-memory</b></p>\n",
       "                \n",
       "        <div>\n",
       "            <p><b>SparkContext</b></p>\n",
       "\n",
       "            <p><a href=\"http://10.255.255.254:4040\">Spark UI</a></p>\n",
       "\n",
       "            <dl>\n",
       "              <dt>Version</dt>\n",
       "                <dd><code>v3.5.5</code></dd>\n",
       "              <dt>Master</dt>\n",
       "                <dd><code>local[*]</code></dd>\n",
       "              <dt>AppName</dt>\n",
       "                <dd><code>Jupyter</code></dd>\n",
       "            </dl>\n",
       "        </div>\n",
       "        \n",
       "            </div>\n",
       "        "
      ]
     },
     "execution_count": 1,
     "metadata": {},
     "output_type": "execute_result"
    }
   ],
   "execution_count": 1
  },
  {
   "metadata": {
    "ExecuteTime": {
     "end_time": "2025-05-10T23:06:04.191498Z",
     "start_time": "2025-05-10T23:06:01.358316Z"
    }
   },
   "cell_type": "code",
   "source": [
    "online_retail = fetch_ucirepo(id=352)\n",
    "\n",
    "# data (as pandas dataframes)\n",
    "X = online_retail.data.features\n",
    "y = online_retail.data.targets\n",
    "\n",
    "# metadata\n",
    "print(online_retail.metadata)\n",
    "\n",
    "# variable information\n",
    "print(online_retail.variables)\n"
   ],
   "id": "cc35319e8b6095f9",
   "outputs": [
    {
     "name": "stdout",
     "output_type": "stream",
     "text": [
      "{'uci_id': 352, 'name': 'Online Retail', 'repository_url': 'https://archive.ics.uci.edu/dataset/352/online+retail', 'data_url': 'https://archive.ics.uci.edu/static/public/352/data.csv', 'abstract': 'This is a transactional data set which contains all the transactions occurring between 01/12/2010 and 09/12/2011 for a UK-based and registered non-store online retail.', 'area': 'Business', 'tasks': ['Classification', 'Clustering'], 'characteristics': ['Multivariate', 'Sequential', 'Time-Series'], 'num_instances': 541909, 'num_features': 6, 'feature_types': ['Integer', 'Real'], 'demographics': [], 'target_col': None, 'index_col': ['InvoiceNo', 'StockCode'], 'has_missing_values': 'no', 'missing_values_symbol': None, 'year_of_dataset_creation': 2015, 'last_updated': 'Mon Oct 21 2024', 'dataset_doi': '10.24432/C5BW33', 'creators': ['Daqing Chen'], 'intro_paper': {'ID': 361, 'type': 'NATIVE', 'title': 'Data mining for the online retail industry: A case study of RFM model-based customer segmentation using data mining', 'authors': 'Daqing Chen, Sai Laing Sain, Kun Guo', 'venue': 'Journal of Database Marketing and Customer Strategy Management, Vol. 19, No. 3', 'year': 2012, 'journal': None, 'DOI': '10.1057/dbm.2012.17', 'URL': 'https://www.semanticscholar.org/paper/e43a5a90fa33d419df42e485099f8f08badf2149', 'sha': None, 'corpus': None, 'arxiv': None, 'mag': None, 'acl': None, 'pmid': None, 'pmcid': None}, 'additional_info': {'summary': 'This is a transactional data set which contains all the transactions occurring between 01/12/2010 and 09/12/2011 for a UK-based and registered non-store online retail.The company mainly sells unique all-occasion gifts. Many customers of the company are wholesalers.', 'purpose': None, 'funded_by': None, 'instances_represent': None, 'recommended_data_splits': None, 'sensitive_data': None, 'preprocessing_description': None, 'variable_info': \"InvoiceNo: Invoice number. Nominal, a 6-digit integral number uniquely assigned to each transaction. If this code starts with letter 'c', it indicates a cancellation. \\nStockCode: Product (item) code. Nominal, a 5-digit integral number uniquely assigned to each distinct product.\\nDescription: Product (item) name. Nominal.\\nQuantity: The quantities of each product (item) per transaction. Numeric.\\t\\nInvoiceDate: Invoice Date and time. Numeric, the day and time when each transaction was generated.\\nUnitPrice: Unit price. Numeric, Product price per unit in sterling.\\nCustomerID: Customer number. Nominal, a 5-digit integral number uniquely assigned to each customer.\\nCountry: Country name. Nominal, the name of the country where each customer resides. \", 'citation': None}}\n",
      "          name     role         type demographic  \\\n",
      "0    InvoiceNo       ID  Categorical        None   \n",
      "1    StockCode       ID  Categorical        None   \n",
      "2  Description  Feature  Categorical        None   \n",
      "3     Quantity  Feature      Integer        None   \n",
      "4  InvoiceDate  Feature         Date        None   \n",
      "5    UnitPrice  Feature   Continuous        None   \n",
      "6   CustomerID  Feature  Categorical        None   \n",
      "7      Country  Feature  Categorical        None   \n",
      "\n",
      "                                         description     units missing_values  \n",
      "0  a 6-digit integral number uniquely assigned to...      None             no  \n",
      "1  a 5-digit integral number uniquely assigned to...      None             no  \n",
      "2                                       product name      None             no  \n",
      "3  the quantities of each product (item) per tran...      None             no  \n",
      "4  the day and time when each transaction was gen...      None             no  \n",
      "5                             product price per unit  sterling             no  \n",
      "6  a 5-digit integral number uniquely assigned to...      None             no  \n",
      "7  the name of the country where each customer re...      None             no  \n"
     ]
    }
   ],
   "execution_count": 3
  },
  {
   "metadata": {
    "ExecuteTime": {
     "end_time": "2025-05-10T23:06:42.466987Z",
     "start_time": "2025-05-10T23:06:21.342079Z"
    }
   },
   "cell_type": "code",
   "source": [
    "spark_df = spark.createDataFrame(X)\n",
    "\n",
    "\n",
    "spark_df.show()"
   ],
   "id": "67cccf9f632d6c74",
   "outputs": [
    {
     "name": "stderr",
     "output_type": "stream",
     "text": [
      "25/05/10 18:06:40 WARN TaskSetManager: Stage 0 contains a task of very large size (2268 KiB). The maximum recommended task size is 1000 KiB.\n",
      "                                                                                \r"
     ]
    },
    {
     "name": "stdout",
     "output_type": "stream",
     "text": [
      "+--------------------+--------+--------------+---------+----------+--------------+\n",
      "|         Description|Quantity|   InvoiceDate|UnitPrice|CustomerID|       Country|\n",
      "+--------------------+--------+--------------+---------+----------+--------------+\n",
      "|WHITE HANGING HEA...|       6|12/1/2010 8:26|     2.55|   17850.0|United Kingdom|\n",
      "| WHITE METAL LANTERN|       6|12/1/2010 8:26|     3.39|   17850.0|United Kingdom|\n",
      "|CREAM CUPID HEART...|       8|12/1/2010 8:26|     2.75|   17850.0|United Kingdom|\n",
      "|KNITTED UNION FLA...|       6|12/1/2010 8:26|     3.39|   17850.0|United Kingdom|\n",
      "|RED WOOLLY HOTTIE...|       6|12/1/2010 8:26|     3.39|   17850.0|United Kingdom|\n",
      "|SET 7 BABUSHKA NE...|       2|12/1/2010 8:26|     7.65|   17850.0|United Kingdom|\n",
      "|GLASS STAR FROSTE...|       6|12/1/2010 8:26|     4.25|   17850.0|United Kingdom|\n",
      "|HAND WARMER UNION...|       6|12/1/2010 8:28|     1.85|   17850.0|United Kingdom|\n",
      "|HAND WARMER RED P...|       6|12/1/2010 8:28|     1.85|   17850.0|United Kingdom|\n",
      "|ASSORTED COLOUR B...|      32|12/1/2010 8:34|     1.69|   13047.0|United Kingdom|\n",
      "|POPPY'S PLAYHOUSE...|       6|12/1/2010 8:34|      2.1|   13047.0|United Kingdom|\n",
      "|POPPY'S PLAYHOUSE...|       6|12/1/2010 8:34|      2.1|   13047.0|United Kingdom|\n",
      "|FELTCRAFT PRINCES...|       8|12/1/2010 8:34|     3.75|   13047.0|United Kingdom|\n",
      "|IVORY KNITTED MUG...|       6|12/1/2010 8:34|     1.65|   13047.0|United Kingdom|\n",
      "|BOX OF 6 ASSORTED...|       6|12/1/2010 8:34|     4.25|   13047.0|United Kingdom|\n",
      "|BOX OF VINTAGE JI...|       3|12/1/2010 8:34|     4.95|   13047.0|United Kingdom|\n",
      "|BOX OF VINTAGE AL...|       2|12/1/2010 8:34|     9.95|   13047.0|United Kingdom|\n",
      "|HOME BUILDING BLO...|       3|12/1/2010 8:34|     5.95|   13047.0|United Kingdom|\n",
      "|LOVE BUILDING BLO...|       3|12/1/2010 8:34|     5.95|   13047.0|United Kingdom|\n",
      "|RECIPE BOX WITH M...|       4|12/1/2010 8:34|     7.95|   13047.0|United Kingdom|\n",
      "+--------------------+--------+--------------+---------+----------+--------------+\n",
      "only showing top 20 rows\n",
      "\n"
     ]
    }
   ],
   "execution_count": 4
  },
  {
   "metadata": {
    "ExecuteTime": {
     "end_time": "2025-05-10T23:40:12.894863Z",
     "start_time": "2025-05-10T23:40:12.890028Z"
    }
   },
   "cell_type": "code",
   "source": "spark_df.printSchema()",
   "id": "f15c9828063ca2ea",
   "outputs": [
    {
     "name": "stdout",
     "output_type": "stream",
     "text": [
      "root\n",
      " |-- Description: string (nullable = true)\n",
      " |-- Quantity: long (nullable = true)\n",
      " |-- InvoiceDate: string (nullable = true)\n",
      " |-- UnitPrice: double (nullable = true)\n",
      " |-- CustomerID: double (nullable = true)\n",
      " |-- Country: string (nullable = true)\n",
      " |-- total_price: double (nullable = true)\n",
      "\n"
     ]
    }
   ],
   "execution_count": 33
  },
  {
   "metadata": {
    "ExecuteTime": {
     "end_time": "2025-05-10T23:40:21.699049Z",
     "start_time": "2025-05-10T23:40:19.709212Z"
    }
   },
   "cell_type": "code",
   "source": "spark_df.distinct().count()",
   "id": "e68aeb8249781558",
   "outputs": [
    {
     "name": "stderr",
     "output_type": "stream",
     "text": [
      "25/05/10 18:40:19 WARN TaskSetManager: Stage 46 contains a task of very large size (2268 KiB). The maximum recommended task size is 1000 KiB.\n",
      "                                                                                \r"
     ]
    },
    {
     "data": {
      "text/plain": [
       "535902"
      ]
     },
     "execution_count": 34,
     "metadata": {},
     "output_type": "execute_result"
    }
   ],
   "execution_count": 34
  },
  {
   "metadata": {
    "ExecuteTime": {
     "end_time": "2025-05-10T23:41:51.468662Z",
     "start_time": "2025-05-10T23:41:50.794782Z"
    }
   },
   "cell_type": "code",
   "source": "spark_df.dropna().count()",
   "id": "71bbe3b7fe1d36a1",
   "outputs": [
    {
     "name": "stderr",
     "output_type": "stream",
     "text": [
      "25/05/10 18:41:50 WARN TaskSetManager: Stage 64 contains a task of very large size (2268 KiB). The maximum recommended task size is 1000 KiB.\n"
     ]
    },
    {
     "data": {
      "text/plain": [
       "406829"
      ]
     },
     "execution_count": 40,
     "metadata": {},
     "output_type": "execute_result"
    }
   ],
   "execution_count": 40
  },
  {
   "metadata": {},
   "cell_type": "markdown",
   "source": "## Show all Countries in column",
   "id": "97e371ac78d3697e"
  },
  {
   "metadata": {
    "ExecuteTime": {
     "end_time": "2025-05-10T23:42:01.805558Z",
     "start_time": "2025-05-10T23:42:01.286685Z"
    }
   },
   "cell_type": "code",
   "source": "spark_df.select(spark_df.Country).distinct().show()",
   "id": "94ab84021ac3ea92",
   "outputs": [
    {
     "name": "stderr",
     "output_type": "stream",
     "text": [
      "25/05/10 18:42:01 WARN TaskSetManager: Stage 67 contains a task of very large size (2268 KiB). The maximum recommended task size is 1000 KiB.\n"
     ]
    },
    {
     "name": "stdout",
     "output_type": "stream",
     "text": [
      "+---------------+\n",
      "|        Country|\n",
      "+---------------+\n",
      "|         Sweden|\n",
      "|        Germany|\n",
      "|         France|\n",
      "|        Belgium|\n",
      "|        Finland|\n",
      "|          Italy|\n",
      "|           EIRE|\n",
      "|      Lithuania|\n",
      "|         Norway|\n",
      "|          Spain|\n",
      "|        Denmark|\n",
      "|        Iceland|\n",
      "|         Israel|\n",
      "|Channel Islands|\n",
      "|         Cyprus|\n",
      "|    Switzerland|\n",
      "|          Japan|\n",
      "|         Poland|\n",
      "|       Portugal|\n",
      "|      Australia|\n",
      "+---------------+\n",
      "only showing top 20 rows\n",
      "\n"
     ]
    }
   ],
   "execution_count": 41
  },
  {
   "metadata": {},
   "cell_type": "markdown",
   "source": "## Show Total Sales group by country",
   "id": "dcafc3c4832c288c"
  },
  {
   "metadata": {
    "ExecuteTime": {
     "end_time": "2025-05-10T23:42:06.117246Z",
     "start_time": "2025-05-10T23:42:06.103208Z"
    }
   },
   "cell_type": "code",
   "source": [
    "# Create Total Price column\n",
    "\n",
    "\n",
    "spark_df = spark_df.withColumn(\"total_price\", spark_df.UnitPrice * spark_df.Quantity)\n"
   ],
   "id": "be6f841f15f987a",
   "outputs": [],
   "execution_count": 42
  },
  {
   "metadata": {
    "ExecuteTime": {
     "end_time": "2025-05-10T23:42:12.317448Z",
     "start_time": "2025-05-10T23:42:11.789711Z"
    }
   },
   "cell_type": "code",
   "source": [
    "\n",
    "# Show Total Sales by country\n",
    "spark_df.groupBy(\"Country\").count().sort(\"count\", ascending=False).show()"
   ],
   "id": "75f90df9e035cad9",
   "outputs": [
    {
     "name": "stderr",
     "output_type": "stream",
     "text": [
      "25/05/10 18:42:11 WARN TaskSetManager: Stage 70 contains a task of very large size (2268 KiB). The maximum recommended task size is 1000 KiB.\n"
     ]
    },
    {
     "name": "stdout",
     "output_type": "stream",
     "text": [
      "+---------------+------+\n",
      "|        Country| count|\n",
      "+---------------+------+\n",
      "| United Kingdom|495478|\n",
      "|        Germany|  9495|\n",
      "|         France|  8557|\n",
      "|           EIRE|  8196|\n",
      "|          Spain|  2533|\n",
      "|    Netherlands|  2371|\n",
      "|        Belgium|  2069|\n",
      "|    Switzerland|  2002|\n",
      "|       Portugal|  1519|\n",
      "|      Australia|  1259|\n",
      "|         Norway|  1086|\n",
      "|          Italy|   803|\n",
      "|Channel Islands|   758|\n",
      "|        Finland|   695|\n",
      "|         Cyprus|   622|\n",
      "|         Sweden|   462|\n",
      "|    Unspecified|   446|\n",
      "|        Austria|   401|\n",
      "|        Denmark|   389|\n",
      "|          Japan|   358|\n",
      "+---------------+------+\n",
      "only showing top 20 rows\n",
      "\n"
     ]
    }
   ],
   "execution_count": 43
  },
  {
   "metadata": {
    "ExecuteTime": {
     "end_time": "2025-05-10T23:42:15.651834Z",
     "start_time": "2025-05-10T23:42:15.105708Z"
    }
   },
   "cell_type": "code",
   "source": [
    "\n",
    "# Show Total Sales by country\n",
    "(spark_df.groupBy(\"Country\")\n",
    " .agg(F.sum(\"total_price\").alias(\"total_price\"))\n",
    ".sort(\"total_price\", ascending=False)\n",
    " .show())"
   ],
   "id": "1cee96c9f2d975d8",
   "outputs": [
    {
     "name": "stderr",
     "output_type": "stream",
     "text": [
      "25/05/10 18:42:15 WARN TaskSetManager: Stage 73 contains a task of very large size (2268 KiB). The maximum recommended task size is 1000 KiB.\n"
     ]
    },
    {
     "name": "stdout",
     "output_type": "stream",
     "text": [
      "+---------------+------------------+\n",
      "|        Country|       total_price|\n",
      "+---------------+------------------+\n",
      "| United Kingdom|  8187806.36400018|\n",
      "|    Netherlands|         284661.54|\n",
      "|           EIRE| 263276.8200000001|\n",
      "|        Germany| 221698.2099999999|\n",
      "|         France|197403.90000000005|\n",
      "|      Australia|137077.26999999993|\n",
      "|    Switzerland|56385.349999999984|\n",
      "|          Spain|54774.579999999994|\n",
      "|        Belgium|          40910.96|\n",
      "|         Sweden|          36595.91|\n",
      "|          Japan| 35340.62000000001|\n",
      "|         Norway| 35163.45999999999|\n",
      "|       Portugal|          29367.02|\n",
      "|        Finland|          22326.74|\n",
      "|Channel Islands|20086.290000000005|\n",
      "|        Denmark|          18768.14|\n",
      "|          Italy|16890.510000000002|\n",
      "|         Cyprus|12946.289999999999|\n",
      "|        Austria|          10154.32|\n",
      "|      Hong Kong|10117.039999999999|\n",
      "+---------------+------------------+\n",
      "only showing top 20 rows\n",
      "\n"
     ]
    }
   ],
   "execution_count": 44
  },
  {
   "metadata": {},
   "cell_type": "markdown",
   "source": "## Show Customer who purchased the  most $$$ wise",
   "id": "4dd7277fbaa364a1"
  },
  {
   "metadata": {
    "ExecuteTime": {
     "end_time": "2025-05-10T23:43:18.750318Z",
     "start_time": "2025-05-10T23:43:18.009546Z"
    }
   },
   "cell_type": "code",
   "source": [
    "customer_lookup = spark_df.dropna(subset=[\"CustomerID\"])\n",
    "\n",
    "customer_lookup  \\\n",
    " .groupBy(\"CustomerID\") \\\n",
    " .agg(F.sum(\"total_price\").alias('total_price'))  \\\n",
    " .sort(\"total_price\", ascending=False) \\\n",
    " .show()"
   ],
   "id": "f8dbaf4687499b55",
   "outputs": [
    {
     "name": "stderr",
     "output_type": "stream",
     "text": [
      "25/05/10 18:43:18 WARN TaskSetManager: Stage 80 contains a task of very large size (2268 KiB). The maximum recommended task size is 1000 KiB.\n"
     ]
    },
    {
     "name": "stdout",
     "output_type": "stream",
     "text": [
      "+----------+------------------+\n",
      "|CustomerID|       total_price|\n",
      "+----------+------------------+\n",
      "|   14646.0| 279489.0199999999|\n",
      "|   18102.0|256438.48999999996|\n",
      "|   17450.0|         187482.17|\n",
      "|   14911.0|132572.61999999997|\n",
      "|   12415.0|         123725.45|\n",
      "|   14156.0|113384.13999999998|\n",
      "|   17511.0|          88125.38|\n",
      "|   16684.0|          65892.08|\n",
      "|   13694.0|62653.100000000006|\n",
      "|   15311.0|          59419.34|\n",
      "|   13089.0| 57385.87999999999|\n",
      "|   14096.0|57120.909999999945|\n",
      "|   15061.0| 54228.74000000001|\n",
      "|   17949.0|          52750.84|\n",
      "|   15769.0|          51823.72|\n",
      "|   16029.0| 50992.61000000001|\n",
      "|   14298.0| 50862.43999999999|\n",
      "|   14088.0|50415.490000000005|\n",
      "|   17841.0| 40340.77999999996|\n",
      "|   13798.0|          36351.42|\n",
      "+----------+------------------+\n",
      "only showing top 20 rows\n",
      "\n"
     ]
    }
   ],
   "execution_count": 47
  },
  {
   "metadata": {},
   "cell_type": "markdown",
   "source": "## Show the single highest paying customer for each country",
   "id": "1fd7f96bb82a7077"
  },
  {
   "metadata": {
    "ExecuteTime": {
     "end_time": "2025-05-10T23:52:52.797122Z",
     "start_time": "2025-05-10T23:52:51.257770Z"
    }
   },
   "cell_type": "code",
   "source": [
    "window_for_country = Window.partitionBy(\"Country\",).orderBy(F.desc(\"total_price\"))\n",
    "\n",
    "customer_lookup = spark_df.dropna(subset=[\"CustomerID\"])\n",
    "\n",
    "customers_grouped = customer_lookup  \\\n",
    " .groupBy(\"CustomerID\", \"Country\") \\\n",
    " .agg(F.sum(\"total_price\").alias('total_price'))  \\\n",
    " .sort(\"total_price\", ascending=False)\n",
    "\n",
    "\n",
    "customers_grouped_ranked = customers_grouped \\\n",
    "    .withColumn(\"ranked\", F.row_number().over(window_for_country))\n",
    "\n",
    "customers_grouped_ranked \\\n",
    "    .filter(F.col(\"ranked\") == 1) \\\n",
    "    .drop(\"ranked\") \\\n",
    "    .show()"
   ],
   "id": "32614f0f5a7db078",
   "outputs": [
    {
     "name": "stderr",
     "output_type": "stream",
     "text": [
      "25/05/10 18:52:51 WARN TaskSetManager: Stage 86 contains a task of very large size (2268 KiB). The maximum recommended task size is 1000 KiB.\n",
      "                                                                                \r"
     ]
    },
    {
     "name": "stdout",
     "output_type": "stream",
     "text": [
      "+----------+------------------+------------------+\n",
      "|CustomerID|           Country|       total_price|\n",
      "+----------+------------------+------------------+\n",
      "|   12415.0|         Australia|         123725.45|\n",
      "|   12360.0|           Austria|           2662.06|\n",
      "|   12355.0|           Bahrain|             459.4|\n",
      "|   12362.0|           Belgium|           5154.58|\n",
      "|   12769.0|            Brazil|1143.6000000000001|\n",
      "|   17444.0|            Canada|2940.0400000000013|\n",
      "|   14936.0|   Channel Islands|           8117.42|\n",
      "|   12359.0|            Cyprus|           6245.53|\n",
      "|   12781.0|    Czech Republic|            707.72|\n",
      "|   12435.0|           Denmark| 7829.889999999999|\n",
      "|   14911.0|              EIRE|132572.61999999997|\n",
      "|   15108.0|European Community|           1291.75|\n",
      "|   12428.0|           Finland| 7877.199999999999|\n",
      "|   12731.0|            France|          18793.41|\n",
      "|   12471.0|           Germany|18740.920000000002|\n",
      "|   14439.0|            Greece|           2661.24|\n",
      "|   12347.0|           Iceland|            4310.0|\n",
      "|   12688.0|            Israel| 4873.810000000005|\n",
      "|   12594.0|             Italy|3320.2200000000003|\n",
      "|   12753.0|             Japan|21024.010000000002|\n",
      "+----------+------------------+------------------+\n",
      "only showing top 20 rows\n",
      "\n"
     ]
    }
   ],
   "execution_count": 52
  }
 ],
 "metadata": {
  "kernelspec": {
   "display_name": "Python 3",
   "language": "python",
   "name": "python3"
  },
  "language_info": {
   "codemirror_mode": {
    "name": "ipython",
    "version": 2
   },
   "file_extension": ".py",
   "mimetype": "text/x-python",
   "name": "python",
   "nbconvert_exporter": "python",
   "pygments_lexer": "ipython2",
   "version": "2.7.6"
  }
 },
 "nbformat": 4,
 "nbformat_minor": 5
}
